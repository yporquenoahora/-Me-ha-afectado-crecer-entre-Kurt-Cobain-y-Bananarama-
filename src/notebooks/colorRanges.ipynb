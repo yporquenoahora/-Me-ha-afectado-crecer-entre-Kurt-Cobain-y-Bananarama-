{
  "cells": [
    {
      "attachments": {},
      "cell_type": "markdown",
      "metadata": {
        "colab_type": "text",
        "id": "view-in-github"
      },
      "source": [
        "<a href=\"https://colab.research.google.com/github/yporquenoahora/EDA/blob/master/src/notebooks/colorRanges.ipynb\" target=\"_parent\"><img src=\"https://colab.research.google.com/assets/colab-badge.svg\" alt=\"Open In Colab\"/></a>"
      ]
    },
    {
      "attachments": {},
      "cell_type": "markdown",
      "metadata": {
        "id": "bY9gG2gxbqgJ"
      },
      "source": [
        "<h1>Setting the ranges of colors, legend and meaningfull features to use. Matplot testing</h1>"
      ]
    },
    {
      "cell_type": "code",
      "execution_count": 2,
      "metadata": {
        "colab": {
          "base_uri": "https://localhost:8080/"
        },
        "id": "oku7mDTEBF-A",
        "outputId": "dc51c94d-f0d1-4ac3-eeb0-b9c7e72bdcbc"
      },
      "outputs": [
        {
          "name": "stdout",
          "output_type": "stream",
          "text": [
            "Requirement already satisfied: spotipy in c:\\python39\\lib\\site-packages (2.22.1)\n",
            "Requirement already satisfied: six>=1.15.0 in c:\\python39\\lib\\site-packages (from spotipy) (1.16.0)\n",
            "Requirement already satisfied: requests>=2.25.0 in c:\\users\\yporq\\appdata\\roaming\\python\\python39\\site-packages (from spotipy) (2.28.2)\n",
            "Requirement already satisfied: redis>=3.5.3 in c:\\python39\\lib\\site-packages (from spotipy) (4.5.1)\n",
            "Requirement already satisfied: urllib3>=1.26.0 in c:\\users\\yporq\\appdata\\roaming\\python\\python39\\site-packages (from spotipy) (1.26.14)\n",
            "Requirement already satisfied: async-timeout>=4.0.2 in c:\\python39\\lib\\site-packages (from redis>=3.5.3->spotipy) (4.0.2)\n",
            "Requirement already satisfied: certifi>=2017.4.17 in c:\\users\\yporq\\appdata\\roaming\\python\\python39\\site-packages (from requests>=2.25.0->spotipy) (2022.12.7)\n",
            "Requirement already satisfied: idna<4,>=2.5 in c:\\users\\yporq\\appdata\\roaming\\python\\python39\\site-packages (from requests>=2.25.0->spotipy) (3.4)\n",
            "Requirement already satisfied: charset-normalizer<4,>=2 in c:\\users\\yporq\\appdata\\roaming\\python\\python39\\site-packages (from requests>=2.25.0->spotipy) (3.0.1)\n",
            "Note: you may need to restart the kernel to use updated packages.\n"
          ]
        },
        {
          "name": "stderr",
          "output_type": "stream",
          "text": [
            "WARNING: Ignoring invalid distribution -ip (c:\\python39\\lib\\site-packages)\n",
            "WARNING: Ignoring invalid distribution - (c:\\python39\\lib\\site-packages)\n",
            "WARNING: Ignoring invalid distribution -ip (c:\\python39\\lib\\site-packages)\n",
            "WARNING: Ignoring invalid distribution - (c:\\python39\\lib\\site-packages)\n",
            "WARNING: Ignoring invalid distribution -ip (c:\\python39\\lib\\site-packages)\n",
            "WARNING: Ignoring invalid distribution - (c:\\python39\\lib\\site-packages)\n",
            "WARNING: Ignoring invalid distribution -ip (c:\\python39\\lib\\site-packages)\n",
            "WARNING: Ignoring invalid distribution - (c:\\python39\\lib\\site-packages)\n"
          ]
        }
      ],
      "source": [
        "%pip install spotipy"
      ]
    },
    {
      "cell_type": "code",
      "execution_count": 3,
      "metadata": {
        "id": "9CAcTT6_AFMd"
      },
      "outputs": [],
      "source": [
        "import spotipy\n",
        "from spotipy.oauth2 import SpotifyClientCredentials\n",
        "# spotify credentials for the application:\n",
        "# \"Related Artist Network Visualizer\"\n",
        "client_id = '03399882ee014a03b7c5c7bf31d54c00'\n",
        "client_secret = '8fb28399b6b741828bde4d3327f02135'\n",
        "# create a credential manager and api layer\n",
        "client_credentials_manager = SpotifyClientCredentials(client_id=client_id, client_secret=client_secret)\n",
        "sp = spotipy.Spotify(client_credentials_manager=client_credentials_manager)"
      ]
    },
    {
      "attachments": {},
      "cell_type": "markdown",
      "metadata": {
        "id": "Hsa2kGO6AFMi"
      },
      "source": [
        "## Testing with one song\n",
        "\n",
        "I'll start with Hurt, from Johny Cash and I got a feeling from Black Eyed Peas, cos they have quite opposite beats and moods"
      ]
    },
    {
      "attachments": {},
      "cell_type": "markdown",
      "metadata": {},
      "source": [
        "Get a Node of a song\n"
      ]
    },
    {
      "cell_type": "code",
      "execution_count": 5,
      "metadata": {},
      "outputs": [],
      "source": [
        "#\n",
        "seed_song = \"spotify:track:28cnXtME493VX9NOw9cIUh\"\n"
      ]
    },
    {
      "cell_type": "code",
      "execution_count": 12,
      "metadata": {},
      "outputs": [],
      "source": [
        "#Hurt-JohnyCash\n",
        "song = sp.track(\"5mc6EyF1OIEOhAkD0Gg9Lc\")\n",
        "#I got a feeling Black Eyed Peas\n",
        "song2 = sp.track(\"4kLLWz7srcuLKA7Et40PQR\")\n",
        "#My Blue Wave Lambchop\n",
        "song3 = sp.track(\"0Rofl6LvDFePZdqYNgGAi9\")\n"
      ]
    },
    {
      "cell_type": "code",
      "execution_count": 13,
      "metadata": {},
      "outputs": [],
      "source": [
        "#https://developer.spotify.com/documentation/web-api/reference/#/operations/get-track\n",
        "#https://developer.spotify.com/documentation/web-api/reference/#/operations/get-several-audio-features\n",
        "#https://developer.spotify.com/documentation/web-api/reference/#/operations/get-several-audio-analysis\n",
        "analisys_s1 = sp.audio_analysis(\"5mc6EyF1OIEOhAkD0Gg9Lc\")\n",
        "features_s1 = sp.audio_features(\"5mc6EyF1OIEOhAkD0Gg9Lc\")\n",
        "analisys_s2 = sp.audio_analysis(\"4kLLWz7srcuLKA7Et40PQR\")\n",
        "features_s2 = sp.audio_features(\"4kLLWz7srcuLKA7Et40PQR\")\n",
        "analisys_s3 = sp.audio_analysis(\"0Rofl6LvDFePZdqYNgGAi9\")\n",
        "features_s3 = sp.audio_features(\"0Rofl6LvDFePZdqYNgGAi9\")"
      ]
    },
    {
      "cell_type": "code",
      "execution_count": 9,
      "metadata": {},
      "outputs": [
        {
          "data": {
            "text/plain": [
              "[{'danceability': 0.546,\n",
              "  'energy': 0.724,\n",
              "  'key': 10,\n",
              "  'loudness': -8.639,\n",
              "  'mode': 0,\n",
              "  'speechiness': 0.0427,\n",
              "  'acousticness': 0.000273,\n",
              "  'instrumentalness': 0.667,\n",
              "  'liveness': 0.133,\n",
              "  'valence': 0.586,\n",
              "  'tempo': 89.991,\n",
              "  'type': 'audio_features',\n",
              "  'id': '5mc6EyF1OIEOhAkD0Gg9Lc',\n",
              "  'uri': 'spotify:track:5mc6EyF1OIEOhAkD0Gg9Lc',\n",
              "  'track_href': 'https://api.spotify.com/v1/tracks/5mc6EyF1OIEOhAkD0Gg9Lc',\n",
              "  'analysis_url': 'https://api.spotify.com/v1/audio-analysis/5mc6EyF1OIEOhAkD0Gg9Lc',\n",
              "  'duration_ms': 373307,\n",
              "  'time_signature': 4}]"
            ]
          },
          "execution_count": 9,
          "metadata": {},
          "output_type": "execute_result"
        }
      ],
      "source": [
        "features_s1"
      ]
    },
    {
      "cell_type": "code",
      "execution_count": 10,
      "metadata": {},
      "outputs": [
        {
          "data": {
            "text/plain": [
              "[{'danceability': 0.743,\n",
              "  'energy': 0.766,\n",
              "  'key': 0,\n",
              "  'loudness': -6.375,\n",
              "  'mode': 1,\n",
              "  'speechiness': 0.0265,\n",
              "  'acousticness': 0.0873,\n",
              "  'instrumentalness': 0,\n",
              "  'liveness': 0.509,\n",
              "  'valence': 0.61,\n",
              "  'tempo': 127.96,\n",
              "  'type': 'audio_features',\n",
              "  'id': '4kLLWz7srcuLKA7Et40PQR',\n",
              "  'uri': 'spotify:track:4kLLWz7srcuLKA7Et40PQR',\n",
              "  'track_href': 'https://api.spotify.com/v1/tracks/4kLLWz7srcuLKA7Et40PQR',\n",
              "  'analysis_url': 'https://api.spotify.com/v1/audio-analysis/4kLLWz7srcuLKA7Et40PQR',\n",
              "  'duration_ms': 289133,\n",
              "  'time_signature': 4}]"
            ]
          },
          "execution_count": 10,
          "metadata": {},
          "output_type": "execute_result"
        }
      ],
      "source": [
        "features_s2"
      ]
    },
    {
      "cell_type": "code",
      "execution_count": 14,
      "metadata": {},
      "outputs": [
        {
          "data": {
            "text/plain": [
              "[{'danceability': 0.485,\n",
              "  'energy': 0.0798,\n",
              "  'key': 0,\n",
              "  'loudness': -19.974,\n",
              "  'mode': 1,\n",
              "  'speechiness': 0.0418,\n",
              "  'acousticness': 0.777,\n",
              "  'instrumentalness': 0.461,\n",
              "  'liveness': 0.112,\n",
              "  'valence': 0.0775,\n",
              "  'tempo': 118.022,\n",
              "  'type': 'audio_features',\n",
              "  'id': '0Rofl6LvDFePZdqYNgGAi9',\n",
              "  'uri': 'spotify:track:0Rofl6LvDFePZdqYNgGAi9',\n",
              "  'track_href': 'https://api.spotify.com/v1/tracks/0Rofl6LvDFePZdqYNgGAi9',\n",
              "  'analysis_url': 'https://api.spotify.com/v1/audio-analysis/0Rofl6LvDFePZdqYNgGAi9',\n",
              "  'duration_ms': 472267,\n",
              "  'time_signature': 4}]"
            ]
          },
          "execution_count": 14,
          "metadata": {},
          "output_type": "execute_result"
        }
      ],
      "source": [
        "features_s3"
      ]
    },
    {
      "cell_type": "code",
      "execution_count": null,
      "metadata": {},
      "outputs": [],
      "source": [
        "#diccionay with ranges and steps"
      ]
    },
    {
      "attachments": {},
      "cell_type": "markdown",
      "metadata": {},
      "source": [
        "We also may need a legend to make understandable the visualization"
      ]
    },
    {
      "cell_type": "code",
      "execution_count": null,
      "metadata": {},
      "outputs": [],
      "source": [
        "#legend"
      ]
    },
    {
      "attachments": {},
      "cell_type": "markdown",
      "metadata": {},
      "source": [
        "<h1>Dump info into file or files</h1>"
      ]
    }
  ],
  "metadata": {
    "colab": {
      "collapsed_sections": [],
      "include_colab_link": true,
      "name": "Rede de artistas relacionados Spotify -> Gephi",
      "provenance": []
    },
    "kernelspec": {
      "display_name": "Python 3",
      "language": "python",
      "name": "python3"
    },
    "language_info": {
      "codemirror_mode": {
        "name": "ipython",
        "version": 3
      },
      "file_extension": ".py",
      "mimetype": "text/x-python",
      "name": "python",
      "nbconvert_exporter": "python",
      "pygments_lexer": "ipython3",
      "version": "3.9.2"
    },
    "vscode": {
      "interpreter": {
        "hash": "81794d4967e6c3204c66dcd87b604927b115b27c00565d3d43f05ba2f3a2cb0d"
      }
    }
  },
  "nbformat": 4,
  "nbformat_minor": 0
}
