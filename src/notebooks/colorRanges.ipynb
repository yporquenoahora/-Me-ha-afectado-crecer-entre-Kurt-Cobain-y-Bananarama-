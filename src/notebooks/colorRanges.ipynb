{
  "cells": [
    {
      "attachments": {},
      "cell_type": "markdown",
      "metadata": {
        "colab_type": "text",
        "id": "view-in-github"
      },
      "source": [
        "<a href=\"https://colab.research.google.com/github/yporquenoahora/EDA/blob/master/src/notebooks/red-artista.ipynb\" target=\"_parent\"><img src=\"https://colab.research.google.com/assets/colab-badge.svg\" alt=\"Open In Colab\"/></a>"
      ]
    },
    {
      "attachments": {},
      "cell_type": "markdown",
      "metadata": {
        "id": "bY9gG2gxbqgJ"
      },
      "source": [
        "<h1>Setting the ranges of colors, legend and meaningfull features to use. Matplot testing</h1>"
      ]
    },
    {
      "cell_type": "code",
      "execution_count": 2,
      "metadata": {
        "colab": {
          "base_uri": "https://localhost:8080/"
        },
        "id": "oku7mDTEBF-A",
        "outputId": "dc51c94d-f0d1-4ac3-eeb0-b9c7e72bdcbc"
      },
      "outputs": [
        {
          "name": "stdout",
          "output_type": "stream",
          "text": [
            "Requirement already satisfied: spotipy in c:\\python39\\lib\\site-packages (2.22.1)\n",
            "Requirement already satisfied: six>=1.15.0 in c:\\python39\\lib\\site-packages (from spotipy) (1.16.0)\n",
            "Requirement already satisfied: requests>=2.25.0 in c:\\users\\yporq\\appdata\\roaming\\python\\python39\\site-packages (from spotipy) (2.28.2)\n",
            "Requirement already satisfied: redis>=3.5.3 in c:\\python39\\lib\\site-packages (from spotipy) (4.5.1)\n",
            "Requirement already satisfied: urllib3>=1.26.0 in c:\\users\\yporq\\appdata\\roaming\\python\\python39\\site-packages (from spotipy) (1.26.14)\n",
            "Requirement already satisfied: async-timeout>=4.0.2 in c:\\python39\\lib\\site-packages (from redis>=3.5.3->spotipy) (4.0.2)\n",
            "Requirement already satisfied: certifi>=2017.4.17 in c:\\users\\yporq\\appdata\\roaming\\python\\python39\\site-packages (from requests>=2.25.0->spotipy) (2022.12.7)\n",
            "Requirement already satisfied: idna<4,>=2.5 in c:\\users\\yporq\\appdata\\roaming\\python\\python39\\site-packages (from requests>=2.25.0->spotipy) (3.4)\n",
            "Requirement already satisfied: charset-normalizer<4,>=2 in c:\\users\\yporq\\appdata\\roaming\\python\\python39\\site-packages (from requests>=2.25.0->spotipy) (3.0.1)\n",
            "Note: you may need to restart the kernel to use updated packages.\n"
          ]
        },
        {
          "name": "stderr",
          "output_type": "stream",
          "text": [
            "WARNING: Ignoring invalid distribution -ip (c:\\python39\\lib\\site-packages)\n",
            "WARNING: Ignoring invalid distribution - (c:\\python39\\lib\\site-packages)\n",
            "WARNING: Ignoring invalid distribution -ip (c:\\python39\\lib\\site-packages)\n",
            "WARNING: Ignoring invalid distribution - (c:\\python39\\lib\\site-packages)\n",
            "WARNING: Ignoring invalid distribution -ip (c:\\python39\\lib\\site-packages)\n",
            "WARNING: Ignoring invalid distribution - (c:\\python39\\lib\\site-packages)\n",
            "WARNING: Ignoring invalid distribution -ip (c:\\python39\\lib\\site-packages)\n",
            "WARNING: Ignoring invalid distribution - (c:\\python39\\lib\\site-packages)\n"
          ]
        }
      ],
      "source": [
        "%pip install spotipy"
      ]
    },
    {
      "cell_type": "code",
      "execution_count": 3,
      "metadata": {
        "id": "9CAcTT6_AFMd"
      },
      "outputs": [],
      "source": [
        "import spotipy\n",
        "from spotipy.oauth2 import SpotifyClientCredentials\n",
        "# spotify credentials for the application:\n",
        "# \"Related Artist Network Visualizer\"\n",
        "client_id = '03399882ee014a03b7c5c7bf31d54c00'\n",
        "client_secret = '8fb28399b6b741828bde4d3327f02135'\n",
        "# create a credential manager and api layer\n",
        "client_credentials_manager = SpotifyClientCredentials(client_id=client_id, client_secret=client_secret)\n",
        "sp = spotipy.Spotify(client_credentials_manager=client_credentials_manager)"
      ]
    },
    {
      "attachments": {},
      "cell_type": "markdown",
      "metadata": {
        "id": "Hsa2kGO6AFMi"
      },
      "source": [
        "## Testing with one song\n",
        "\n",
        "I'll start with Hurt, from Johny Cash and I got a feeling from Black Eyed Peas, cos they have quite opposite beats and moods"
      ]
    },
    {
      "cell_type": "code",
      "execution_count": 4,
      "metadata": {
        "id": "ramQabtkAFMj"
      },
      "outputs": [],
      "source": [
        "# the spotify id for the artist Bassnectar\n",
        "#NIN\n",
        "#seed_artist = 'spotify:artist:1mCHLu4gizrN9PwHxKrJv4'\n",
        "seed_artist = 'spotify:artist:0X380XXQSNBYuleKzav5UO'\n"
      ]
    },
    {
      "attachments": {},
      "cell_type": "markdown",
      "metadata": {},
      "source": [
        "Get a Node of a song\n"
      ]
    },
    {
      "cell_type": "code",
      "execution_count": 5,
      "metadata": {},
      "outputs": [],
      "source": [
        "seed_song = \"spotify:track:5mc6EyF1OIEOhAkD0Gg9Lc\"\n"
      ]
    },
    {
      "cell_type": "code",
      "execution_count": 6,
      "metadata": {},
      "outputs": [],
      "source": [
        "song = sp.track(\"5mc6EyF1OIEOhAkD0Gg9Lc\")"
      ]
    },
    {
      "cell_type": "code",
      "execution_count": 18,
      "metadata": {},
      "outputs": [],
      "source": [
        "song2 = sp.track(\"2scbGWVjIYsfieovyRyfv1\")"
      ]
    },
    {
      "cell_type": "code",
      "execution_count": 54,
      "metadata": {},
      "outputs": [
        {
          "name": "stdout",
          "output_type": "stream",
          "text": [
            "1994-03-08\n"
          ]
        }
      ],
      "source": [
        "album = song.get(\"album\")\n",
        "year = album.get(\"release_date\")\n",
        "print( year)\n"
      ]
    },
    {
      "cell_type": "code",
      "execution_count": 56,
      "metadata": {},
      "outputs": [],
      "source": [
        "#https://developer.spotify.com/documentation/web-api/reference/#/operations/get-track\n",
        "#https://developer.spotify.com/documentation/web-api/reference/#/operations/get-several-audio-features\n",
        "#https://developer.spotify.com/documentation/web-api/reference/#/operations/get-several-audio-analysis\n",
        "analisys = sp.audio_analysis(\"11dFghVXANMlKmJXsNCbNl\")\n",
        "features = sp.audio_features(\"11dFghVXANMlKmJXsNCbNl\")"
      ]
    },
    {
      "cell_type": "code",
      "execution_count": 57,
      "metadata": {},
      "outputs": [
        {
          "data": {
            "text/plain": [
              "[{'danceability': 0.696,\n",
              "  'energy': 0.905,\n",
              "  'key': 2,\n",
              "  'loudness': -2.743,\n",
              "  'mode': 1,\n",
              "  'speechiness': 0.103,\n",
              "  'acousticness': 0.011,\n",
              "  'instrumentalness': 0.000905,\n",
              "  'liveness': 0.302,\n",
              "  'valence': 0.625,\n",
              "  'tempo': 114.944,\n",
              "  'type': 'audio_features',\n",
              "  'id': '11dFghVXANMlKmJXsNCbNl',\n",
              "  'uri': 'spotify:track:11dFghVXANMlKmJXsNCbNl',\n",
              "  'track_href': 'https://api.spotify.com/v1/tracks/11dFghVXANMlKmJXsNCbNl',\n",
              "  'analysis_url': 'https://api.spotify.com/v1/audio-analysis/11dFghVXANMlKmJXsNCbNl',\n",
              "  'duration_ms': 207960,\n",
              "  'time_signature': 4}]"
            ]
          },
          "execution_count": 57,
          "metadata": {},
          "output_type": "execute_result"
        }
      ],
      "source": [
        "features"
      ]
    },
    {
      "attachments": {},
      "cell_type": "markdown",
      "metadata": {},
      "source": [
        "<h1>Search and gather songs from the decades we want</h1>"
      ]
    },
    {
      "cell_type": "code",
      "execution_count": 53,
      "metadata": {
        "id": "ZsoJZU4yDDIO"
      },
      "outputs": [],
      "source": [
        "#https://developer.spotify.com/documentation/web-api/reference/#/operations/search\n",
        "search = sp.search(\"q=Hurt&type=album&artist=JohnyCash\")\n"
      ]
    },
    {
      "cell_type": "code",
      "execution_count": null,
      "metadata": {},
      "outputs": [],
      "source": [
        "#diccionay with ranges"
      ]
    },
    {
      "attachments": {},
      "cell_type": "markdown",
      "metadata": {},
      "source": [
        "We also may need a legend to make understandable the visualization"
      ]
    },
    {
      "cell_type": "code",
      "execution_count": null,
      "metadata": {},
      "outputs": [],
      "source": [
        "#legend"
      ]
    },
    {
      "attachments": {},
      "cell_type": "markdown",
      "metadata": {},
      "source": [
        "<h1>Dump info into file or files</h1>"
      ]
    }
  ],
  "metadata": {
    "colab": {
      "collapsed_sections": [],
      "include_colab_link": true,
      "name": "Rede de artistas relacionados Spotify -> Gephi",
      "provenance": []
    },
    "kernelspec": {
      "display_name": "Python 3",
      "language": "python",
      "name": "python3"
    },
    "language_info": {
      "codemirror_mode": {
        "name": "ipython",
        "version": 3
      },
      "file_extension": ".py",
      "mimetype": "text/x-python",
      "name": "python",
      "nbconvert_exporter": "python",
      "pygments_lexer": "ipython3",
      "version": "3.9.2"
    },
    "vscode": {
      "interpreter": {
        "hash": "81794d4967e6c3204c66dcd87b604927b115b27c00565d3d43f05ba2f3a2cb0d"
      }
    }
  },
  "nbformat": 4,
  "nbformat_minor": 0
}
