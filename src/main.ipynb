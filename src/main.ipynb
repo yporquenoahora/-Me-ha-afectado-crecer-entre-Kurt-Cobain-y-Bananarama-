{
  "cells": [
    {
      "attachments": {},
      "cell_type": "markdown",
      "metadata": {
        "colab_type": "text",
        "id": "view-in-github"
      },
      "source": [
        "<a href=\"https://colab.research.google.com/github/yporquenoahora/EDA/blob/master/src/notebooks/datasets.ipynb\" target=\"_parent\"><img src=\"https://colab.research.google.com/assets/colab-badge.svg\" alt=\"Open In Colab\"/></a>"
      ]
    },
    {
      "attachments": {},
      "cell_type": "markdown",
      "metadata": {
        "id": "bY9gG2gxbqgJ"
      },
      "source": [
        "<h1>Viz Playgorund - Personal case</h1>\n",
        "\n",
        "How you describe yourself, how you really are. \n",
        "How far away from the mainstream taste are u?\n",
        "And me?"
      ]
    },
    {
      "attachments": {},
      "cell_type": "markdown",
      "metadata": {},
      "source": [
        "That's how I saw myself before this EDA:\n",
        "\n",
        "Eclectic taste, focus on experimental music, mainly electronic, enjoy the dark new wave from the 80's, psycodelic rock and some happy cheesy songs from time to time"
      ]
    },
    {
      "attachments": {},
      "cell_type": "markdown",
      "metadata": {},
      "source": [
        "Let´s see how far from reallity I was"
      ]
    },
    {
      "cell_type": "code",
      "execution_count": 394,
      "metadata": {},
      "outputs": [
        {
          "name": "stdout",
          "output_type": "stream",
          "text": [
            "Requirement already satisfied: plotly in c:\\python39\\lib\\site-packages (5.13.1)Note: you may need to restart the kernel to use updated packages.\n",
            "\n",
            "Requirement already satisfied: tenacity>=6.2.0 in c:\\python39\\lib\\site-packages (from plotly) (8.2.2)\n"
          ]
        },
        {
          "name": "stderr",
          "output_type": "stream",
          "text": [
            "WARNING: Ignoring invalid distribution -ip (c:\\python39\\lib\\site-packages)\n",
            "WARNING: Ignoring invalid distribution - (c:\\python39\\lib\\site-packages)\n",
            "WARNING: Ignoring invalid distribution -ip (c:\\python39\\lib\\site-packages)\n",
            "WARNING: Ignoring invalid distribution - (c:\\python39\\lib\\site-packages)\n",
            "WARNING: Ignoring invalid distribution -ip (c:\\python39\\lib\\site-packages)\n",
            "WARNING: Ignoring invalid distribution - (c:\\python39\\lib\\site-packages)\n",
            "WARNING: Ignoring invalid distribution -ip (c:\\python39\\lib\\site-packages)\n",
            "WARNING: Ignoring invalid distribution - (c:\\python39\\lib\\site-packages)\n"
          ]
        },
        {
          "name": "stdout",
          "output_type": "stream",
          "text": [
            "Collecting nbformat==5.1.2\n",
            "  Using cached nbformat-5.1.2-py3-none-any.whl (113 kB)\n",
            "Requirement already satisfied: traitlets>=4.1 in c:\\users\\yporq\\appdata\\roaming\\python\\python39\\site-packages (from nbformat==5.1.2) (5.9.0)\n",
            "Requirement already satisfied: jsonschema!=2.5.0,>=2.4 in c:\\python39\\lib\\site-packages (from nbformat==5.1.2) (4.17.3)\n",
            "Requirement already satisfied: ipython-genutils in c:\\python39\\lib\\site-packages (from nbformat==5.1.2) (0.2.0)\n",
            "Requirement already satisfied: jupyter-core in c:\\users\\yporq\\appdata\\roaming\\python\\python39\\site-packages (from nbformat==5.1.2) (5.2.0)\n",
            "Requirement already satisfied: pyrsistent!=0.17.0,!=0.17.1,!=0.17.2,>=0.14.0 in c:\\python39\\lib\\site-packages (from jsonschema!=2.5.0,>=2.4->nbformat==5.1.2) (0.19.3)\n",
            "Requirement already satisfied: attrs>=17.4.0 in c:\\python39\\lib\\site-packages (from jsonschema!=2.5.0,>=2.4->nbformat==5.1.2) (22.2.0)\n",
            "Requirement already satisfied: pywin32>=1.0 in c:\\users\\yporq\\appdata\\roaming\\python\\python39\\site-packages (from jupyter-core->nbformat==5.1.2) (305)\n",
            "Requirement already satisfied: platformdirs>=2.5 in c:\\users\\yporq\\appdata\\roaming\\python\\python39\\site-packages (from jupyter-core->nbformat==5.1.2) (3.0.0)\n",
            "Installing collected packages: nbformat\n",
            "  Attempting uninstall: nbformat\n",
            "    Found existing installation: nbformat 5.7.3\n",
            "    Uninstalling nbformat-5.7.3:\n",
            "      Successfully uninstalled nbformat-5.7.3\n",
            "  Rolling back uninstall of nbformat\n",
            "  Moving to c:\\python39\\lib\\site-packages\\nbformat-5.7.3.dist-info\\\n",
            "   from C:\\Python39\\Lib\\site-packages\\~bformat-5.7.3.dist-info\n",
            "  Moving to c:\\python39\\lib\\site-packages\\nbformat\\\n",
            "   from C:\\Python39\\Lib\\site-packages\\~bformat\n",
            "Note: you may need to restart the kernel to use updated packages.\n"
          ]
        },
        {
          "name": "stderr",
          "output_type": "stream",
          "text": [
            "WARNING: Ignoring invalid distribution -ip (c:\\python39\\lib\\site-packages)\n",
            "WARNING: Ignoring invalid distribution - (c:\\python39\\lib\\site-packages)\n",
            "WARNING: Ignoring invalid distribution -ip (c:\\python39\\lib\\site-packages)\n",
            "WARNING: Ignoring invalid distribution - (c:\\python39\\lib\\site-packages)\n",
            "WARNING: The candidate selected for download or install is a yanked version: 'nbformat' candidate (version 5.1.2 at https://files.pythonhosted.org/packages/13/1d/59cbc5a6b627ba3b4c0ec5ccc82a9002e58b324e2620a4929b81f1f8d309/nbformat-5.1.2-py3-none-any.whl (from https://pypi.org/simple/nbformat/) (requires-python:>=3.5))\n",
            "Reason for being yanked: Name generation process created inappropriate id values\n",
            "WARNING: Ignoring invalid distribution -ip (c:\\python39\\lib\\site-packages)\n",
            "WARNING: Ignoring invalid distribution - (c:\\python39\\lib\\site-packages)\n",
            "    WARNING: Ignoring invalid distribution -ip (c:\\python39\\lib\\site-packages)\n",
            "    WARNING: Ignoring invalid distribution - (c:\\python39\\lib\\site-packages)\n",
            "  WARNING: Failed to write executable - trying to use .deleteme logic\n",
            "ERROR: Could not install packages due to an OSError: [WinError 2] El sistema no puede encontrar el archivo especificado: 'c:\\\\Python39\\\\Scripts\\\\jupyter-trust.exe' -> 'c:\\\\Python39\\\\Scripts\\\\jupyter-trust.exe.deleteme'\n",
            "\n",
            "WARNING: Ignoring invalid distribution -ip (c:\\python39\\lib\\site-packages)\n",
            "WARNING: Ignoring invalid distribution - (c:\\python39\\lib\\site-packages)\n"
          ]
        },
        {
          "name": "stdout",
          "output_type": "stream",
          "text": [
            "Requirement already satisfied: seaborn in c:\\python39\\lib\\site-packages (0.12.2)\n",
            "Requirement already satisfied: matplotlib!=3.6.1,>=3.1 in c:\\python39\\lib\\site-packages (from seaborn) (3.6.3)\n",
            "Requirement already satisfied: numpy!=1.24.0,>=1.17 in c:\\python39\\lib\\site-packages (from seaborn) (1.24.1)\n",
            "Requirement already satisfied: pandas>=0.25 in c:\\python39\\lib\\site-packages (from seaborn) (1.5.3)\n",
            "Requirement already satisfied: packaging>=20.0 in c:\\python39\\lib\\site-packages (from matplotlib!=3.6.1,>=3.1->seaborn) (23.0)\n",
            "Requirement already satisfied: pyparsing>=2.2.1 in c:\\python39\\lib\\site-packages (from matplotlib!=3.6.1,>=3.1->seaborn) (3.0.9)\n",
            "Requirement already satisfied: fonttools>=4.22.0 in c:\\python39\\lib\\site-packages (from matplotlib!=3.6.1,>=3.1->seaborn) (4.38.0)\n",
            "Requirement already satisfied: python-dateutil>=2.7 in c:\\python39\\lib\\site-packages (from matplotlib!=3.6.1,>=3.1->seaborn) (2.8.2)\n",
            "Requirement already satisfied: kiwisolver>=1.0.1 in c:\\python39\\lib\\site-packages (from matplotlib!=3.6.1,>=3.1->seaborn) (1.4.4)\n",
            "Requirement already satisfied: cycler>=0.10 in c:\\python39\\lib\\site-packages (from matplotlib!=3.6.1,>=3.1->seaborn) (0.11.0)\n",
            "Requirement already satisfied: contourpy>=1.0.1 in c:\\python39\\lib\\site-packages (from matplotlib!=3.6.1,>=3.1->seaborn) (1.0.7)\n",
            "Requirement already satisfied: pillow>=6.2.0 in c:\\python39\\lib\\site-packages (from matplotlib!=3.6.1,>=3.1->seaborn) (9.4.0)\n",
            "Requirement already satisfied: pytz>=2020.1 in c:\\python39\\lib\\site-packages (from pandas>=0.25->seaborn) (2022.7.1)\n",
            "Requirement already satisfied: six>=1.5 in c:\\python39\\lib\\site-packages (from python-dateutil>=2.7->matplotlib!=3.6.1,>=3.1->seaborn) (1.16.0)\n",
            "Note: you may need to restart the kernel to use updated packages.\n"
          ]
        },
        {
          "name": "stderr",
          "output_type": "stream",
          "text": [
            "WARNING: Ignoring invalid distribution -ip (c:\\python39\\lib\\site-packages)\n",
            "WARNING: Ignoring invalid distribution - (c:\\python39\\lib\\site-packages)\n",
            "WARNING: Ignoring invalid distribution -ip (c:\\python39\\lib\\site-packages)\n",
            "WARNING: Ignoring invalid distribution - (c:\\python39\\lib\\site-packages)\n",
            "WARNING: Ignoring invalid distribution -ip (c:\\python39\\lib\\site-packages)\n",
            "WARNING: Ignoring invalid distribution - (c:\\python39\\lib\\site-packages)\n",
            "WARNING: Ignoring invalid distribution -ip (c:\\python39\\lib\\site-packages)\n",
            "WARNING: Ignoring invalid distribution - (c:\\python39\\lib\\site-packages)\n"
          ]
        }
      ],
      "source": [
        "%pip install plotly\n",
        "%pip install nbformat==5.1.2\n",
        "%pip install seaborn"
      ]
    },
    {
      "cell_type": "code",
      "execution_count": 395,
      "metadata": {},
      "outputs": [
        {
          "data": {
            "text/html": [
              "        <script type=\"text/javascript\">\n",
              "        window.PlotlyConfig = {MathJaxConfig: 'local'};\n",
              "        if (window.MathJax && window.MathJax.Hub && window.MathJax.Hub.Config) {window.MathJax.Hub.Config({SVG: {font: \"STIX-Web\"}});}\n",
              "        if (typeof require !== 'undefined') {\n",
              "        require.undef(\"plotly\");\n",
              "        requirejs.config({\n",
              "            paths: {\n",
              "                'plotly': ['https://cdn.plot.ly/plotly-2.18.2.min']\n",
              "            }\n",
              "        });\n",
              "        require(['plotly'], function(Plotly) {\n",
              "            window._Plotly = Plotly;\n",
              "        });\n",
              "        }\n",
              "        </script>\n",
              "        "
            ]
          },
          "metadata": {},
          "output_type": "display_data"
        }
      ],
      "source": [
        "import seaborn as sns\n",
        "import matplotlib.pyplot as plt\n",
        "import pandas as pd\n",
        "import numpy as np\n",
        "from plotly.offline import init_notebook_mode, iplot, plot\n",
        "import plotly as py\n",
        "init_notebook_mode(connected=True)\n",
        "import plotly.graph_objs as go\n",
        "from  matplotlib.ticker import PercentFormatter\n"
      ]
    },
    {
      "cell_type": "code",
      "execution_count": 396,
      "metadata": {},
      "outputs": [
        {
          "data": {
            "text/plain": [
              "Index(['id', 'names', 'artists', 'release_date', 'danceability', 'energy',\n",
              "       'key', 'loudness', 'mode', 'speechiness', 'acousticness',\n",
              "       'instrumentalness', 'liveness', 'valence', 'tempo', 'type', 'uri',\n",
              "       'track_href', 'analysis_url', 'duration_ms', 'time_signature', 'genre',\n",
              "       'personal'],\n",
              "      dtype='object')"
            ]
          },
          "execution_count": 396,
          "metadata": {},
          "output_type": "execute_result"
        }
      ],
      "source": [
        "dfAll = pd.read_csv(\"../data/songs.csv\")#.iloc[:,1:]\n",
        "dfPersonal = pd.read_csv(\"../data/my_most_listened.csv\")#.iloc[:,1:]\n",
        "dfPersonal[\"personal\"] = True\n",
        "dfAll[\"personal\"] = False\n",
        "dfAll.columns"
      ]
    },
    {
      "cell_type": "code",
      "execution_count": 397,
      "metadata": {},
      "outputs": [
        {
          "data": {
            "image/png": "[encoded data removed]",
            "text/plain": [
              "<Figure size 800x400 with 1 Axes>"
            ]
          },
          "metadata": {},
          "output_type": "display_data"
        }
      ],
      "source": [
        "sns.set(rc = {'figure.figsize':(8, 4)})\n",
        "g = sns.countplot(x='mode',  data=dfAll)\n",
        "g.bar_label(g.containers[0]);\n",
        "\n",
        "g.axes.yaxis.set_major_formatter(PercentFormatter(1))\n",
        "plt.show()"
      ]
    },
    {
      "cell_type": "code",
      "execution_count": 398,
      "metadata": {},
      "outputs": [],
      "source": [
        "release_date_serie_year = pd.to_datetime(dfAll[\"release_date\"]).dt.year\n",
        "dfAll[\"release_date_year\"] = release_date_serie_year\n",
        "release_date_serie_year = pd.to_datetime(dfPersonal[\"release_date\"]).dt.year\n",
        "dfPersonal[\"release_date_year\"] = release_date_serie_year"
      ]
    },
    {
      "cell_type": "code",
      "execution_count": 399,
      "metadata": {},
      "outputs": [
        {
          "data": {
            "text/plain": [
              "Index(['Unnamed: 0', 'names', 'artists', 'release_date', 'range', 'id',\n",
              "       'genre', 'popularity', 'danceability', 'energy', 'key', 'loudness',\n",
              "       'mode', 'speechiness', 'acousticness', 'instrumentalness', 'liveness',\n",
              "       'valence', 'tempo', 'type', 'id.1', 'uri', 'track_href', 'analysis_url',\n",
              "       'duration_ms', 'time_signature', 'personal', 'release_date_year'],\n",
              "      dtype='object')"
            ]
          },
          "execution_count": 399,
          "metadata": {},
          "output_type": "execute_result"
        }
      ],
      "source": [
        "dfPersonal.columns"
      ]
    },
    {
      "cell_type": "code",
      "execution_count": 400,
      "metadata": {},
      "outputs": [
        {
          "data": {
            "text/html": [
              "<div>\n",
              "<style scoped>\n",
              "    .dataframe tbody tr th:only-of-type {\n",
              "        vertical-align: middle;\n",
              "    }\n",
              "\n",
              "    .dataframe tbody tr th {\n",
              "        vertical-align: top;\n",
              "    }\n",
              "\n",
              "    .dataframe thead th {\n",
              "        text-align: right;\n",
              "    }\n",
              "</style>\n",
              "<table border=\"1\" class=\"dataframe\">\n",
              "  <thead>\n",
              "    <tr style=\"text-align: right;\">\n",
              "      <th></th>\n",
              "      <th>names</th>\n",
              "      <th>release_date_year</th>\n",
              "    </tr>\n",
              "  </thead>\n",
              "  <tbody>\n",
              "    <tr>\n",
              "      <th>0</th>\n",
              "      <td>Mon Amour - Remix</td>\n",
              "      <td>2021</td>\n",
              "    </tr>\n",
              "    <tr>\n",
              "      <th>1</th>\n",
              "      <td>Foto Pa Ti</td>\n",
              "      <td>2014</td>\n",
              "    </tr>\n",
              "    <tr>\n",
              "      <th>2</th>\n",
              "      <td>Amiga mía</td>\n",
              "      <td>1997</td>\n",
              "    </tr>\n",
              "    <tr>\n",
              "      <th>3</th>\n",
              "      <td>Pena, Penita, Pena!</td>\n",
              "      <td>2015</td>\n",
              "    </tr>\n",
              "    <tr>\n",
              "      <th>4</th>\n",
              "      <td>Poison Lips</td>\n",
              "      <td>2009</td>\n",
              "    </tr>\n",
              "    <tr>\n",
              "      <th>...</th>\n",
              "      <td>...</td>\n",
              "      <td>...</td>\n",
              "    </tr>\n",
              "    <tr>\n",
              "      <th>145</th>\n",
              "      <td>Wake Up</td>\n",
              "      <td>2004</td>\n",
              "    </tr>\n",
              "    <tr>\n",
              "      <th>146</th>\n",
              "      <td>Googa Mama</td>\n",
              "      <td>2016</td>\n",
              "    </tr>\n",
              "    <tr>\n",
              "      <th>147</th>\n",
              "      <td>HDA (Historia del Arte)</td>\n",
              "      <td>2016</td>\n",
              "    </tr>\n",
              "    <tr>\n",
              "      <th>148</th>\n",
              "      <td>No hay nada más triste que lo tuyo</td>\n",
              "      <td>2002</td>\n",
              "    </tr>\n",
              "    <tr>\n",
              "      <th>149</th>\n",
              "      <td>Shame, Shame, Shame</td>\n",
              "      <td>1975</td>\n",
              "    </tr>\n",
              "  </tbody>\n",
              "</table>\n",
              "<p>150 rows × 2 columns</p>\n",
              "</div>"
            ],
            "text/plain": [
              "                                  names  release_date_year\n",
              "0                     Mon Amour - Remix               2021\n",
              "1                            Foto Pa Ti               2014\n",
              "2                             Amiga mía               1997\n",
              "3                   Pena, Penita, Pena!               2015\n",
              "4                           Poison Lips               2009\n",
              "..                                  ...                ...\n",
              "145                             Wake Up               2004\n",
              "146                          Googa Mama               2016\n",
              "147             HDA (Historia del Arte)               2016\n",
              "148  No hay nada más triste que lo tuyo               2002\n",
              "149                 Shame, Shame, Shame               1975\n",
              "\n",
              "[150 rows x 2 columns]"
            ]
          },
          "execution_count": 400,
          "metadata": {},
          "output_type": "execute_result"
        }
      ],
      "source": [
        "dfPersonal.loc[:,[\"names\", \"release_date_year\"]]"
      ]
    },
    {
      "cell_type": "code",
      "execution_count": 382,
      "metadata": {},
      "outputs": [
        {
          "data": {
            "text/html": [
              "<div>\n",
              "<style scoped>\n",
              "    .dataframe tbody tr th:only-of-type {\n",
              "        vertical-align: middle;\n",
              "    }\n",
              "\n",
              "    .dataframe tbody tr th {\n",
              "        vertical-align: top;\n",
              "    }\n",
              "\n",
              "    .dataframe thead th {\n",
              "        text-align: right;\n",
              "    }\n",
              "</style>\n",
              "<table border=\"1\" class=\"dataframe\">\n",
              "  <thead>\n",
              "    <tr style=\"text-align: right;\">\n",
              "      <th></th>\n",
              "      <th>names</th>\n",
              "      <th>release_date_year</th>\n",
              "    </tr>\n",
              "  </thead>\n",
              "  <tbody>\n",
              "    <tr>\n",
              "      <th>0</th>\n",
              "      <td>Too Young</td>\n",
              "      <td>2008</td>\n",
              "    </tr>\n",
              "    <tr>\n",
              "      <th>1</th>\n",
              "      <td>Because of You (with Percy Faith &amp; His Orchestra)</td>\n",
              "      <td>2013</td>\n",
              "    </tr>\n",
              "    <tr>\n",
              "      <th>2</th>\n",
              "      <td>How High the Moon</td>\n",
              "      <td>2005</td>\n",
              "    </tr>\n",
              "    <tr>\n",
              "      <th>3</th>\n",
              "      <td>Come On-A My House</td>\n",
              "      <td>1951</td>\n",
              "    </tr>\n",
              "    <tr>\n",
              "      <th>4</th>\n",
              "      <td>Be My Love (From \"The Toast of New Orleans\")</td>\n",
              "      <td>1991</td>\n",
              "    </tr>\n",
              "    <tr>\n",
              "      <th>...</th>\n",
              "      <td>...</td>\n",
              "      <td>...</td>\n",
              "    </tr>\n",
              "    <tr>\n",
              "      <th>94</th>\n",
              "      <td>I'm Sorry</td>\n",
              "      <td>2012</td>\n",
              "    </tr>\n",
              "    <tr>\n",
              "      <th>95</th>\n",
              "      <td>It's Now or Never</td>\n",
              "      <td>2002</td>\n",
              "    </tr>\n",
              "    <tr>\n",
              "      <th>96</th>\n",
              "      <td>Handy Man</td>\n",
              "      <td>2011</td>\n",
              "    </tr>\n",
              "    <tr>\n",
              "      <th>97</th>\n",
              "      <td>Stuck On You</td>\n",
              "      <td>2002</td>\n",
              "    </tr>\n",
              "    <tr>\n",
              "      <th>98</th>\n",
              "      <td>The Twist</td>\n",
              "      <td>2005</td>\n",
              "    </tr>\n",
              "  </tbody>\n",
              "</table>\n",
              "<p>99 rows × 2 columns</p>\n",
              "</div>"
            ],
            "text/plain": [
              "                                                names  release_date_year\n",
              "0                                           Too Young               2008\n",
              "1   Because of You (with Percy Faith & His Orchestra)               2013\n",
              "2                                   How High the Moon               2005\n",
              "3                                  Come On-A My House               1951\n",
              "4        Be My Love (From \"The Toast of New Orleans\")               1991\n",
              "..                                                ...                ...\n",
              "94                                          I'm Sorry               2012\n",
              "95                                  It's Now or Never               2002\n",
              "96                                          Handy Man               2011\n",
              "97                                       Stuck On You               2002\n",
              "98                                          The Twist               2005\n",
              "\n",
              "[99 rows x 2 columns]"
            ]
          },
          "execution_count": 382,
          "metadata": {},
          "output_type": "execute_result"
        }
      ],
      "source": [
        "dfAll.loc[:,[\"names\", \"release_date_year\"]]"
      ]
    },
    {
      "cell_type": "code",
      "execution_count": 401,
      "metadata": {},
      "outputs": [
        {
          "name": "stdout",
          "output_type": "stream",
          "text": [
            "                        id                                              names  \\\n",
            "37  2dX2phLETbjqZA0D78ms4T                                        Secret Love   \n",
            "8   4mSKeFHnAjwZIG4wQDCe2Z  The Loveliest Night of the Year (From \"The Gre...   \n",
            "3   2scbGWVjIYsfieovyRyfv1                                 Come On-A My House   \n",
            "15  70ZRroKKjOBvGkBlHoDDp0                                       Half As Much   \n",
            "79  1XRA4Tjb2YrcQU5ThDllCw                          The Battle Of New Orleans   \n",
            "..                     ...                                                ...   \n",
            "33  3EcdioSeXbtELIdpFGDg5W                                            Sh-Boom   \n",
            "72  3RVnGPQfCm1r9Apk5Fvrpp                                       Witch Doctor   \n",
            "18  4cXWZgLjzJMjQaSlOVFYJ7                                   Here In My Heart   \n",
            "69  5ca1c1EGb3Q1tnXXPRrAhs       Volare (Nel Blu Dipinto Di Blu) [Remastered]   \n",
            "63  7kTmbEXdGYWmxn7Z1jrNrW                                            So Rare   \n",
            "\n",
            "             artists release_date  danceability  energy  key  loudness  mode  \\\n",
            "37         Doris Day         1948         0.280   0.151   11   -14.317     1   \n",
            "8    Irving Aaronson         1949         0.183   0.246    1   -13.514     1   \n",
            "3   Rosemary Clooney         1951         0.531   0.676   10    -7.168     0   \n",
            "15  Rosemary Clooney         1951         0.271   0.187   10   -12.016     1   \n",
            "79     Johnny Horton         1956         0.703   0.753    9   -11.783     1   \n",
            "..               ...          ...           ...     ...  ...       ...   ...   \n",
            "33     The Crew Cuts   2013-03-19         0.601   0.462    5    -5.729     1   \n",
            "72     David Seville   2014-10-20         0.631   0.612    7    -5.648     1   \n",
            "18        Al Martino   2015-07-22         0.192   0.337    0    -7.981     1   \n",
            "69  Domenico Modugno   2015-04-16         0.533   0.173   11   -11.263     1   \n",
            "63      Jimmy Dorsey   2015-01-14         0.550   0.416    6   -10.926     1   \n",
            "\n",
            "    speechiness  ...    tempo            type  \\\n",
            "37       0.0355  ...   76.222  audio_features   \n",
            "8        0.0342  ...   85.132  audio_features   \n",
            "3        0.1250  ...  183.208  audio_features   \n",
            "15       0.0319  ...  106.583  audio_features   \n",
            "79       0.1350  ...  177.162  audio_features   \n",
            "..          ...  ...      ...             ...   \n",
            "33       0.0456  ...   63.876  audio_features   \n",
            "72       0.0496  ...  139.240  audio_features   \n",
            "18       0.0329  ...  108.871  audio_features   \n",
            "69       0.0449  ...  132.333  audio_features   \n",
            "63       0.0328  ...   83.581  audio_features   \n",
            "\n",
            "                                     uri  \\\n",
            "37  spotify:track:2dX2phLETbjqZA0D78ms4T   \n",
            "8   spotify:track:4mSKeFHnAjwZIG4wQDCe2Z   \n",
            "3   spotify:track:2scbGWVjIYsfieovyRyfv1   \n",
            "15  spotify:track:70ZRroKKjOBvGkBlHoDDp0   \n",
            "79  spotify:track:1XRA4Tjb2YrcQU5ThDllCw   \n",
            "..                                   ...   \n",
            "33  spotify:track:3EcdioSeXbtELIdpFGDg5W   \n",
            "72  spotify:track:3RVnGPQfCm1r9Apk5Fvrpp   \n",
            "18  spotify:track:4cXWZgLjzJMjQaSlOVFYJ7   \n",
            "69  spotify:track:5ca1c1EGb3Q1tnXXPRrAhs   \n",
            "63  spotify:track:7kTmbEXdGYWmxn7Z1jrNrW   \n",
            "\n",
            "                                           track_href  \\\n",
            "37  https://api.spotify.com/v1/tracks/2dX2phLETbjq...   \n",
            "8   https://api.spotify.com/v1/tracks/4mSKeFHnAjwZ...   \n",
            "3   https://api.spotify.com/v1/tracks/2scbGWVjIYsf...   \n",
            "15  https://api.spotify.com/v1/tracks/70ZRroKKjOBv...   \n",
            "79  https://api.spotify.com/v1/tracks/1XRA4Tjb2Yrc...   \n",
            "..                                                ...   \n",
            "33  https://api.spotify.com/v1/tracks/3EcdioSeXbtE...   \n",
            "72  https://api.spotify.com/v1/tracks/3RVnGPQfCm1r...   \n",
            "18  https://api.spotify.com/v1/tracks/4cXWZgLjzJMj...   \n",
            "69  https://api.spotify.com/v1/tracks/5ca1c1EGb3Q1...   \n",
            "63  https://api.spotify.com/v1/tracks/7kTmbEXdGYWm...   \n",
            "\n",
            "                                         analysis_url duration_ms  \\\n",
            "37  https://api.spotify.com/v1/audio-analysis/2dX2...      218253   \n",
            "8   https://api.spotify.com/v1/audio-analysis/4mSK...      213467   \n",
            "3   https://api.spotify.com/v1/audio-analysis/2scb...      117267   \n",
            "15  https://api.spotify.com/v1/audio-analysis/70ZR...      166400   \n",
            "79  https://api.spotify.com/v1/audio-analysis/1XRA...      152067   \n",
            "..                                                ...         ...   \n",
            "33  https://api.spotify.com/v1/audio-analysis/3Ecd...      166922   \n",
            "72  https://api.spotify.com/v1/audio-analysis/3RVn...      143373   \n",
            "18  https://api.spotify.com/v1/audio-analysis/4cXW...      183440   \n",
            "69  https://api.spotify.com/v1/audio-analysis/5ca1...      211387   \n",
            "63  https://api.spotify.com/v1/audio-analysis/7kTm...      161907   \n",
            "\n",
            "   time_signature                                              genre personal  \\\n",
            "37              4  ['adult standards', 'easy listening', 'lounge'...    False   \n",
            "8               4                                                 []    False   \n",
            "3               4  ['adult standards', 'easy listening', 'lounge'...    False   \n",
            "15              3  ['adult standards', 'easy listening', 'lounge'...    False   \n",
            "79              4                                 ['cowboy western']    False   \n",
            "..            ...                                                ...      ...   \n",
            "33              4                 ['doo-wop', 'vocal harmony group']    False   \n",
            "72              4                                        ['novelty']    False   \n",
            "18              3  ['adult standards', 'easy listening', 'lounge'...    False   \n",
            "69              4       ['classic italian pop', 'italian adult pop']    False   \n",
            "63              4             ['big band', 'jazz clarinet', 'swing']    False   \n",
            "\n",
            "    release_date_year  \n",
            "37               1948  \n",
            "8                1949  \n",
            "3                1951  \n",
            "15               1951  \n",
            "79               1956  \n",
            "..                ...  \n",
            "33               2013  \n",
            "72               2014  \n",
            "18               2015  \n",
            "69               2015  \n",
            "63               2015  \n",
            "\n",
            "[99 rows x 24 columns]\n"
          ]
        }
      ],
      "source": [
        "print(dfAll.sort_values(\"release_date_year\"))"
      ]
    },
    {
      "cell_type": "code",
      "execution_count": 417,
      "metadata": {},
      "outputs": [
        {
          "data": {
            "image/png": "[encoded data removed]",
            "text/plain": [
              "<Figure size 600x400 with 1 Axes>"
            ]
          },
          "metadata": {},
          "output_type": "display_data"
        }
      ],
      "source": [
        "sns.set(rc = {'figure.figsize':(6, 4)})\n",
        "b = sns.histplot(dfAll.sort_values(\"release_date_year\"), x=\"release_date_year\", hue=\"mode\", stat=\"percent\", multiple=\"dodge\", shrink=.8,  kde = True)\n",
        "#b.set_xticklabels(b.get_xticklabels(), rotation=90);"
      ]
    },
    {
      "cell_type": "code",
      "execution_count": 414,
      "metadata": {},
      "outputs": [
        {
          "data": {
            "image/png": "[encoded data removed]",
            "text/plain": [
              "<Figure size 600x400 with 1 Axes>"
            ]
          },
          "metadata": {},
          "output_type": "display_data"
        }
      ],
      "source": [
        "sns.set(rc = {'figure.figsize':(6, 4)})\n",
        "b = sns.histplot(dfPersonal.sort_values(\"release_date_year\"), x=\"release_date_year\", hue=\"mode\", multiple=\"dodge\", shrink=.8, kde=True)\n",
        "#b.set_xticklabels(b.get_xticklabels(), rotation=90);"
      ]
    },
    {
      "cell_type": "code",
      "execution_count": 265,
      "metadata": {},
      "outputs": [
        {
          "data": {
            "image/png": "[encoded data removed]",
            "text/plain": [
              "<Figure size 1100x1000 with 1 Axes>"
            ]
          },
          "metadata": {},
          "output_type": "display_data"
        }
      ],
      "source": [
        "\n",
        "sns.set(rc = {'figure.figsize':(11, 10)})\n",
        "\n",
        "\n",
        "b = sns.barplot(data=dfPersonal.head(30), x=\"danceability\", y=\"name\", hue=\"mode\",orient=\"h\",saturation=0.75, width=0.8)\n",
        "sns.set(rc={\"figure.figsize\":(8, 18)}) #width=8, height=4\n",
        "b.set_title(\"Canciones más escuchadas, bailabilidad y escala mayor(1) o menor(0)\")\n",
        "\n",
        "b.tick_params(labelsize=10)\n",
        "b.bar_label(b.containers[0]);\n",
        "\n",
        "b.bar_label(b.containers[1]);"
      ]
    },
    {
      "cell_type": "code",
      "execution_count": 431,
      "metadata": {},
      "outputs": [
        {
          "name": "stderr",
          "output_type": "stream",
          "text": [
            "C:\\Users\\yporq\\AppData\\Local\\Temp\\ipykernel_37604\\4100867388.py:2: FutureWarning:\n",
            "\n",
            "The default value of numeric_only in DataFrame.corr is deprecated. In a future version, it will default to False. Select only valid columns or specify the value of numeric_only to silence this warning.\n",
            "\n"
          ]
        },
        {
          "data": {
            "text/html": [
              "<div>\n",
              "<style scoped>\n",
              "    .dataframe tbody tr th:only-of-type {\n",
              "        vertical-align: middle;\n",
              "    }\n",
              "\n",
              "    .dataframe tbody tr th {\n",
              "        vertical-align: top;\n",
              "    }\n",
              "\n",
              "    .dataframe thead th {\n",
              "        text-align: right;\n",
              "    }\n",
              "</style>\n",
              "<table border=\"1\" class=\"dataframe\">\n",
              "  <thead>\n",
              "    <tr style=\"text-align: right;\">\n",
              "      <th></th>\n",
              "      <th>danceability</th>\n",
              "      <th>energy</th>\n",
              "      <th>key</th>\n",
              "      <th>loudness</th>\n",
              "      <th>mode</th>\n",
              "      <th>speechiness</th>\n",
              "      <th>acousticness</th>\n",
              "      <th>instrumentalness</th>\n",
              "      <th>liveness</th>\n",
              "      <th>valence</th>\n",
              "      <th>tempo</th>\n",
              "      <th>duration_ms</th>\n",
              "      <th>time_signature</th>\n",
              "    </tr>\n",
              "  </thead>\n",
              "  <tbody>\n",
              "    <tr>\n",
              "      <th>danceability</th>\n",
              "      <td>1.000000</td>\n",
              "      <td>0.426179</td>\n",
              "      <td>0.150485</td>\n",
              "      <td>0.250807</td>\n",
              "      <td>-0.041267</td>\n",
              "      <td>0.340370</td>\n",
              "      <td>-0.302185</td>\n",
              "      <td>-0.112479</td>\n",
              "      <td>-0.280551</td>\n",
              "      <td>0.657733</td>\n",
              "      <td>0.187168</td>\n",
              "      <td>-0.432582</td>\n",
              "      <td>0.210622</td>\n",
              "    </tr>\n",
              "    <tr>\n",
              "      <th>energy</th>\n",
              "      <td>0.426179</td>\n",
              "      <td>1.000000</td>\n",
              "      <td>0.245267</td>\n",
              "      <td>0.730437</td>\n",
              "      <td>-0.218115</td>\n",
              "      <td>0.281867</td>\n",
              "      <td>-0.487104</td>\n",
              "      <td>0.125694</td>\n",
              "      <td>0.007772</td>\n",
              "      <td>0.755008</td>\n",
              "      <td>0.401845</td>\n",
              "      <td>-0.422527</td>\n",
              "      <td>0.156935</td>\n",
              "    </tr>\n",
              "    <tr>\n",
              "      <th>key</th>\n",
              "      <td>0.150485</td>\n",
              "      <td>0.245267</td>\n",
              "      <td>1.000000</td>\n",
              "      <td>0.225749</td>\n",
              "      <td>0.020968</td>\n",
              "      <td>0.021135</td>\n",
              "      <td>0.096699</td>\n",
              "      <td>-0.137639</td>\n",
              "      <td>0.048976</td>\n",
              "      <td>0.210847</td>\n",
              "      <td>0.148004</td>\n",
              "      <td>-0.101235</td>\n",
              "      <td>0.104119</td>\n",
              "    </tr>\n",
              "    <tr>\n",
              "      <th>loudness</th>\n",
              "      <td>0.250807</td>\n",
              "      <td>0.730437</td>\n",
              "      <td>0.225749</td>\n",
              "      <td>1.000000</td>\n",
              "      <td>-0.110477</td>\n",
              "      <td>0.031982</td>\n",
              "      <td>-0.309193</td>\n",
              "      <td>-0.117404</td>\n",
              "      <td>0.069770</td>\n",
              "      <td>0.475423</td>\n",
              "      <td>0.159589</td>\n",
              "      <td>-0.301814</td>\n",
              "      <td>-0.016289</td>\n",
              "    </tr>\n",
              "    <tr>\n",
              "      <th>mode</th>\n",
              "      <td>-0.041267</td>\n",
              "      <td>-0.218115</td>\n",
              "      <td>0.020968</td>\n",
              "      <td>-0.110477</td>\n",
              "      <td>1.000000</td>\n",
              "      <td>-0.196432</td>\n",
              "      <td>-0.005135</td>\n",
              "      <td>-0.157672</td>\n",
              "      <td>-0.065674</td>\n",
              "      <td>-0.117354</td>\n",
              "      <td>-0.079721</td>\n",
              "      <td>0.088905</td>\n",
              "      <td>-0.182278</td>\n",
              "    </tr>\n",
              "    <tr>\n",
              "      <th>speechiness</th>\n",
              "      <td>0.340370</td>\n",
              "      <td>0.281867</td>\n",
              "      <td>0.021135</td>\n",
              "      <td>0.031982</td>\n",
              "      <td>-0.196432</td>\n",
              "      <td>1.000000</td>\n",
              "      <td>-0.110065</td>\n",
              "      <td>-0.070360</td>\n",
              "      <td>-0.070858</td>\n",
              "      <td>0.300835</td>\n",
              "      <td>0.321655</td>\n",
              "      <td>-0.239532</td>\n",
              "      <td>0.155636</td>\n",
              "    </tr>\n",
              "    <tr>\n",
              "      <th>acousticness</th>\n",
              "      <td>-0.302185</td>\n",
              "      <td>-0.487104</td>\n",
              "      <td>0.096699</td>\n",
              "      <td>-0.309193</td>\n",
              "      <td>-0.005135</td>\n",
              "      <td>-0.110065</td>\n",
              "      <td>1.000000</td>\n",
              "      <td>-0.242361</td>\n",
              "      <td>0.081432</td>\n",
              "      <td>-0.485553</td>\n",
              "      <td>-0.263277</td>\n",
              "      <td>0.247259</td>\n",
              "      <td>-0.112920</td>\n",
              "    </tr>\n",
              "    <tr>\n",
              "      <th>instrumentalness</th>\n",
              "      <td>-0.112479</td>\n",
              "      <td>0.125694</td>\n",
              "      <td>-0.137639</td>\n",
              "      <td>-0.117404</td>\n",
              "      <td>-0.157672</td>\n",
              "      <td>-0.070360</td>\n",
              "      <td>-0.242361</td>\n",
              "      <td>1.000000</td>\n",
              "      <td>-0.001718</td>\n",
              "      <td>0.108829</td>\n",
              "      <td>0.120446</td>\n",
              "      <td>0.019007</td>\n",
              "      <td>0.122932</td>\n",
              "    </tr>\n",
              "    <tr>\n",
              "      <th>liveness</th>\n",
              "      <td>-0.280551</td>\n",
              "      <td>0.007772</td>\n",
              "      <td>0.048976</td>\n",
              "      <td>0.069770</td>\n",
              "      <td>-0.065674</td>\n",
              "      <td>-0.070858</td>\n",
              "      <td>0.081432</td>\n",
              "      <td>-0.001718</td>\n",
              "      <td>1.000000</td>\n",
              "      <td>-0.058254</td>\n",
              "      <td>0.143222</td>\n",
              "      <td>0.116555</td>\n",
              "      <td>0.012965</td>\n",
              "    </tr>\n",
              "    <tr>\n",
              "      <th>valence</th>\n",
              "      <td>0.657733</td>\n",
              "      <td>0.755008</td>\n",
              "      <td>0.210847</td>\n",
              "      <td>0.475423</td>\n",
              "      <td>-0.117354</td>\n",
              "      <td>0.300835</td>\n",
              "      <td>-0.485553</td>\n",
              "      <td>0.108829</td>\n",
              "      <td>-0.058254</td>\n",
              "      <td>1.000000</td>\n",
              "      <td>0.489005</td>\n",
              "      <td>-0.582939</td>\n",
              "      <td>0.221131</td>\n",
              "    </tr>\n",
              "    <tr>\n",
              "      <th>tempo</th>\n",
              "      <td>0.187168</td>\n",
              "      <td>0.401845</td>\n",
              "      <td>0.148004</td>\n",
              "      <td>0.159589</td>\n",
              "      <td>-0.079721</td>\n",
              "      <td>0.321655</td>\n",
              "      <td>-0.263277</td>\n",
              "      <td>0.120446</td>\n",
              "      <td>0.143222</td>\n",
              "      <td>0.489005</td>\n",
              "      <td>1.000000</td>\n",
              "      <td>-0.383940</td>\n",
              "      <td>0.047489</td>\n",
              "    </tr>\n",
              "    <tr>\n",
              "      <th>duration_ms</th>\n",
              "      <td>-0.432582</td>\n",
              "      <td>-0.422527</td>\n",
              "      <td>-0.101235</td>\n",
              "      <td>-0.301814</td>\n",
              "      <td>0.088905</td>\n",
              "      <td>-0.239532</td>\n",
              "      <td>0.247259</td>\n",
              "      <td>0.019007</td>\n",
              "      <td>0.116555</td>\n",
              "      <td>-0.582939</td>\n",
              "      <td>-0.383940</td>\n",
              "      <td>1.000000</td>\n",
              "      <td>-0.108191</td>\n",
              "    </tr>\n",
              "    <tr>\n",
              "      <th>time_signature</th>\n",
              "      <td>0.210622</td>\n",
              "      <td>0.156935</td>\n",
              "      <td>0.104119</td>\n",
              "      <td>-0.016289</td>\n",
              "      <td>-0.182278</td>\n",
              "      <td>0.155636</td>\n",
              "      <td>-0.112920</td>\n",
              "      <td>0.122932</td>\n",
              "      <td>0.012965</td>\n",
              "      <td>0.221131</td>\n",
              "      <td>0.047489</td>\n",
              "      <td>-0.108191</td>\n",
              "      <td>1.000000</td>\n",
              "    </tr>\n",
              "  </tbody>\n",
              "</table>\n",
              "</div>"
            ],
            "text/plain": [
              "                  danceability    energy       key  loudness      mode  \\\n",
              "danceability          1.000000  0.426179  0.150485  0.250807 -0.041267   \n",
              "energy                0.426179  1.000000  0.245267  0.730437 -0.218115   \n",
              "key                   0.150485  0.245267  1.000000  0.225749  0.020968   \n",
              "loudness              0.250807  0.730437  0.225749  1.000000 -0.110477   \n",
              "mode                 -0.041267 -0.218115  0.020968 -0.110477  1.000000   \n",
              "speechiness           0.340370  0.281867  0.021135  0.031982 -0.196432   \n",
              "acousticness         -0.302185 -0.487104  0.096699 -0.309193 -0.005135   \n",
              "instrumentalness     -0.112479  0.125694 -0.137639 -0.117404 -0.157672   \n",
              "liveness             -0.280551  0.007772  0.048976  0.069770 -0.065674   \n",
              "valence               0.657733  0.755008  0.210847  0.475423 -0.117354   \n",
              "tempo                 0.187168  0.401845  0.148004  0.159589 -0.079721   \n",
              "duration_ms          -0.432582 -0.422527 -0.101235 -0.301814  0.088905   \n",
              "time_signature        0.210622  0.156935  0.104119 -0.016289 -0.182278   \n",
              "\n",
              "                  speechiness  acousticness  instrumentalness  liveness  \\\n",
              "danceability         0.340370     -0.302185         -0.112479 -0.280551   \n",
              "energy               0.281867     -0.487104          0.125694  0.007772   \n",
              "key                  0.021135      0.096699         -0.137639  0.048976   \n",
              "loudness             0.031982     -0.309193         -0.117404  0.069770   \n",
              "mode                -0.196432     -0.005135         -0.157672 -0.065674   \n",
              "speechiness          1.000000     -0.110065         -0.070360 -0.070858   \n",
              "acousticness        -0.110065      1.000000         -0.242361  0.081432   \n",
              "instrumentalness    -0.070360     -0.242361          1.000000 -0.001718   \n",
              "liveness            -0.070858      0.081432         -0.001718  1.000000   \n",
              "valence              0.300835     -0.485553          0.108829 -0.058254   \n",
              "tempo                0.321655     -0.263277          0.120446  0.143222   \n",
              "duration_ms         -0.239532      0.247259          0.019007  0.116555   \n",
              "time_signature       0.155636     -0.112920          0.122932  0.012965   \n",
              "\n",
              "                   valence     tempo  duration_ms  time_signature  \n",
              "danceability      0.657733  0.187168    -0.432582        0.210622  \n",
              "energy            0.755008  0.401845    -0.422527        0.156935  \n",
              "key               0.210847  0.148004    -0.101235        0.104119  \n",
              "loudness          0.475423  0.159589    -0.301814       -0.016289  \n",
              "mode             -0.117354 -0.079721     0.088905       -0.182278  \n",
              "speechiness       0.300835  0.321655    -0.239532        0.155636  \n",
              "acousticness     -0.485553 -0.263277     0.247259       -0.112920  \n",
              "instrumentalness  0.108829  0.120446     0.019007        0.122932  \n",
              "liveness         -0.058254  0.143222     0.116555        0.012965  \n",
              "valence           1.000000  0.489005    -0.582939        0.221131  \n",
              "tempo             0.489005  1.000000    -0.383940        0.047489  \n",
              "duration_ms      -0.582939 -0.383940     1.000000       -0.108191  \n",
              "time_signature    0.221131  0.047489    -0.108191        1.000000  "
            ]
          },
          "execution_count": 431,
          "metadata": {},
          "output_type": "execute_result"
        }
      ],
      "source": [
        "ohne = dfAll.drop(columns = [\"personal\", \"release_date_year\"])\n",
        "ohne.corr()"
      ]
    },
    {
      "cell_type": "code",
      "execution_count": 439,
      "metadata": {},
      "outputs": [
        {
          "data": {
            "text/plain": [
              "numpy.bool_"
            ]
          },
          "execution_count": 439,
          "metadata": {},
          "output_type": "execute_result"
        }
      ],
      "source": [
        "np.bool_"
      ]
    },
    {
      "cell_type": "code",
      "execution_count": 442,
      "metadata": {},
      "outputs": [
        {
          "name": "stderr",
          "output_type": "stream",
          "text": [
            "C:\\Users\\yporq\\AppData\\Local\\Temp\\ipykernel_37604\\2341661797.py:3: FutureWarning:\n",
            "\n",
            "The default value of numeric_only in DataFrame.corr is deprecated. In a future version, it will default to False. Select only valid columns or specify the value of numeric_only to silence this warning.\n",
            "\n",
            "C:\\Users\\yporq\\AppData\\Local\\Temp\\ipykernel_37604\\2341661797.py:4: FutureWarning:\n",
            "\n",
            "The default value of numeric_only in DataFrame.corr is deprecated. In a future version, it will default to False. Select only valid columns or specify the value of numeric_only to silence this warning.\n",
            "\n",
            "C:\\Users\\yporq\\AppData\\Local\\Temp\\ipykernel_37604\\2341661797.py:6: FutureWarning:\n",
            "\n",
            "The default value of numeric_only in DataFrame.corr is deprecated. In a future version, it will default to False. Select only valid columns or specify the value of numeric_only to silence this warning.\n",
            "\n"
          ]
        },
        {
          "data": {
            "image/png": "[encoded data removed]",
            "text/plain": [
              "<Figure size 1600x600 with 2 Axes>"
            ]
          },
          "metadata": {},
          "output_type": "display_data"
        }
      ],
      "source": [
        "plt.figure(figsize=(16, 6))\n",
        "\n",
        "np.triu(np.ones_like(ohne.corr()))\n",
        "mask = np.triu(np.ones_like(ohne.corr(), dtype=np.bool_))\n",
        "\n",
        "heatmap = sns.heatmap(ohne.corr(), mask=mask, vmin=-1, vmax=1, annot=True, cmap='BrBG')\n",
        "heatmap.set_title('Triangulo de correlacion', fontdict={'fontsize':18}, pad=16);"
      ]
    },
    {
      "cell_type": "code",
      "execution_count": 451,
      "metadata": {},
      "outputs": [
        {
          "name": "stderr",
          "output_type": "stream",
          "text": [
            "C:\\Users\\yporq\\AppData\\Local\\Temp\\ipykernel_37604\\2583233021.py:2: FutureWarning:\n",
            "\n",
            "The default value of numeric_only in DataFrame.corr is deprecated. In a future version, it will default to False. Select only valid columns or specify the value of numeric_only to silence this warning.\n",
            "\n"
          ]
        },
        {
          "data": {
            "image/png": "[encoded data removed]",
            "text/plain": [
              "<Figure size 400x500 with 2 Axes>"
            ]
          },
          "metadata": {},
          "output_type": "display_data"
        }
      ],
      "source": [
        "plt.figure(figsize=(4, 5))\n",
        "heatmap = sns.heatmap(ohne.corr()[['mode']].sort_values(by='mode', ascending=False), vmin=-1, vmax=1, annot=True, cmap='BrBG')\n",
        "heatmap.set_title('Correlación con la escala', fontdict={'fontsize':18}, pad=16);"
      ]
    },
    {
      "cell_type": "code",
      "execution_count": 462,
      "metadata": {},
      "outputs": [
        {
          "data": {
            "text/plain": [
              "<seaborn.axisgrid.FacetGrid at 0x13d50b9f7f0>"
            ]
          },
          "execution_count": 462,
          "metadata": {},
          "output_type": "execute_result"
        },
        {
          "data": {
            "image/png": "[encoded data removed]",
            "text/plain": [
              "<Figure size 500x500 with 1 Axes>"
            ]
          },
          "metadata": {},
          "output_type": "display_data"
        }
      ],
      "source": [
        "sns.lmplot(x = 'loudness', y = 'energy', data=dfAll, fit_reg=True)"
      ]
    },
    {
      "cell_type": "code",
      "execution_count": 64,
      "metadata": {},
      "outputs": [
        {
          "data": {
            "text/plain": [
              "Index(['chilean indie', 'deep latin alternative', 'cantautor',\n",
              "       'latin arena pop', 'latin pop', 'mexican pop', 'rock en espanol',\n",
              "       'spanish pop', 'granada indie', 'alternative dance',\n",
              "       ...\n",
              "       'hi-nrg', 'sophisti-pop', 'album rock', 'hard rock', 'olympia wa indie',\n",
              "       'baroque pop', 'canadian indie', 'quebec indie', 'bboy',\n",
              "       'instrumental funk'],\n",
              "      dtype='object', length=164)"
            ]
          },
          "execution_count": 64,
          "metadata": {},
          "output_type": "execute_result"
        }
      ],
      "source": [
        "dfGenres = pd.read_csv(\"../data/songs_genres.csv\").iloc[:,1:]\n",
        "dfGenresPersonal = pd.read_csv(\"../data/my_songs_genres.csv\").iloc[:,1:]\n",
        "dfGenresPersonal.columns"
      ]
    },
    {
      "cell_type": "code",
      "execution_count": 469,
      "metadata": {},
      "outputs": [],
      "source": [
        "sort = dfAll.sort_values(\"release_date\")\n",
        "#sort.rename(columns={\"Unnamed: 0\":\"ranking\"}, inplace=True)\n",
        "#sort.set_index(\"ranking\")\n"
      ]
    },
    {
      "cell_type": "code",
      "execution_count": 470,
      "metadata": {},
      "outputs": [],
      "source": [
        "sortPersonal = dfPersonal.sort_values(\"release_date\")"
      ]
    },
    {
      "cell_type": "code",
      "execution_count": 473,
      "metadata": {},
      "outputs": [
        {
          "data": {
            "application/vnd.plotly.v1+json": {
              "config": {
                "linkText": "Export to plot.ly",
                "plotlyServerURL": "https://plot.ly",
                "showLink": false
              },
              "data": [
                {
                  "marker": {
                    "color": "rgba(160, 112, 2, 0.8)"
                  },
                  "mode": "lines",
                  "name": "Energía mainstream",
                  "text": [
                    0.151,
                    0.246,
                    0.187,
                    0.676,
                    0.753,
                    0.429,
                    0.159,
                    0.665,
                    0.209,
                    0.245,
                    0.582,
                    0.179,
                    0.591,
                    0.485,
                    0.462,
                    0.535,
                    0.224,
                    0.326,
                    0.873,
                    0.0558,
                    0.248,
                    0.199,
                    0.278,
                    0.0952,
                    0.32,
                    0.0889,
                    0.095,
                    0.356,
                    0.454,
                    0.554,
                    0.742,
                    0.0997,
                    0.597,
                    0.464,
                    0.327,
                    0.184,
                    0.148,
                    0.186,
                    0.719,
                    0.189,
                    0.471,
                    0.185,
                    0.169,
                    0.452,
                    0.187,
                    0.605,
                    0.0844,
                    0.434,
                    0.152,
                    0.884,
                    0.0995,
                    0.295,
                    0.678,
                    0.815,
                    0.491,
                    0.675,
                    0.349,
                    0.168,
                    0.0892,
                    0.14,
                    0.36,
                    0.529,
                    0.774,
                    0.512,
                    0.638,
                    0.0901,
                    0.243,
                    0.314,
                    0.751,
                    0.244,
                    0.656,
                    0.177,
                    0.202,
                    0.192,
                    0.29,
                    0.522,
                    0.376,
                    0.366,
                    0.713,
                    0.164,
                    0.192,
                    0.294,
                    0.106,
                    0.372,
                    0.157,
                    0.252,
                    0.397,
                    0.462,
                    0.109,
                    0.478,
                    0.69,
                    0.225,
                    0.297,
                    0.149,
                    0.222,
                    0.612,
                    0.416,
                    0.173,
                    0.337
                  ],
                  "type": "scatter",
                  "x": [
                    1948,
                    1949,
                    1951,
                    1951,
                    1956,
                    1957,
                    1958,
                    1959,
                    1960,
                    1960,
                    1962,
                    1964,
                    1964,
                    1964,
                    1964,
                    1973,
                    1987,
                    1989,
                    1989,
                    1989,
                    1991,
                    1991,
                    1991,
                    1991,
                    1992,
                    1993,
                    1993,
                    1993,
                    1994,
                    1994,
                    1994,
                    1995,
                    1996,
                    1996,
                    1996,
                    1997,
                    1997,
                    1997,
                    1999,
                    1999,
                    1999,
                    1999,
                    1999,
                    1999,
                    1999,
                    2000,
                    2001,
                    2002,
                    2002,
                    2002,
                    2002,
                    2002,
                    2002,
                    2002,
                    2002,
                    2002,
                    2003,
                    2003,
                    2003,
                    2003,
                    2004,
                    2004,
                    2004,
                    2005,
                    2005,
                    2005,
                    2005,
                    2005,
                    2005,
                    2006,
                    2007,
                    2007,
                    2008,
                    2009,
                    2010,
                    2010,
                    2010,
                    2011,
                    2011,
                    2012,
                    2012,
                    2012,
                    2012,
                    2012,
                    2012,
                    2012,
                    2013,
                    2013,
                    2013,
                    2013,
                    2013,
                    2013,
                    2013,
                    2013,
                    2013,
                    2014,
                    2015,
                    2015,
                    2015
                  ],
                  "y": [
                    0.151,
                    0.246,
                    0.187,
                    0.676,
                    0.753,
                    0.429,
                    0.159,
                    0.665,
                    0.209,
                    0.245,
                    0.582,
                    0.179,
                    0.591,
                    0.485,
                    0.462,
                    0.535,
                    0.224,
                    0.326,
                    0.873,
                    0.0558,
                    0.248,
                    0.199,
                    0.278,
                    0.0952,
                    0.32,
                    0.0889,
                    0.095,
                    0.356,
                    0.454,
                    0.554,
                    0.742,
                    0.0997,
                    0.597,
                    0.464,
                    0.327,
                    0.184,
                    0.148,
                    0.186,
                    0.719,
                    0.189,
                    0.471,
                    0.185,
                    0.169,
                    0.452,
                    0.187,
                    0.605,
                    0.0844,
                    0.434,
                    0.152,
                    0.884,
                    0.0995,
                    0.295,
                    0.678,
                    0.815,
                    0.491,
                    0.675,
                    0.349,
                    0.168,
                    0.0892,
                    0.14,
                    0.36,
                    0.529,
                    0.774,
                    0.512,
                    0.638,
                    0.0901,
                    0.243,
                    0.314,
                    0.751,
                    0.244,
                    0.656,
                    0.177,
                    0.202,
                    0.192,
                    0.29,
                    0.522,
                    0.376,
                    0.366,
                    0.713,
                    0.164,
                    0.192,
                    0.294,
                    0.106,
                    0.372,
                    0.157,
                    0.252,
                    0.397,
                    0.462,
                    0.109,
                    0.478,
                    0.69,
                    0.225,
                    0.297,
                    0.149,
                    0.222,
                    0.612,
                    0.416,
                    0.173,
                    0.337
                  ]
                },
                {
                  "marker": {
                    "color": "rgba(1, 112, 2, 0.8)"
                  },
                  "mode": "lines",
                  "name": "Mi energía",
                  "text": [
                    -12.41,
                    -9.443,
                    -11.251,
                    -18.791,
                    -6.395,
                    -6.395,
                    -3.204,
                    -11.028,
                    -11.028,
                    -11.028,
                    -8.339,
                    -8.339,
                    -8.339,
                    -16.551,
                    -8.085,
                    -8.085,
                    -13.206,
                    -8.123,
                    -9.072,
                    -9.174,
                    -9.174,
                    -9.174,
                    -4.265,
                    -4.265,
                    -4.265,
                    -10.616,
                    -7.638,
                    -7.638,
                    -8.013,
                    -8.013,
                    -10.851,
                    -4.147,
                    -4.147,
                    -10.044,
                    -10.171,
                    -11.499,
                    -18.166,
                    -9.313,
                    -9.313,
                    -12.568,
                    -7.159,
                    -7.159,
                    -4.875,
                    -4.875,
                    -4.221,
                    -10.61,
                    -10.61,
                    -10.61,
                    -6.711,
                    -6.711,
                    -5.745,
                    -5.745,
                    -5.745,
                    -8.023,
                    -7.496,
                    -10.873,
                    -8.058,
                    -9.216,
                    -6.694,
                    -7.636,
                    -7.636,
                    -7.636,
                    -4.917,
                    -4.917,
                    -4.917,
                    -6.856,
                    -4.845,
                    -1.849,
                    -1.849,
                    -13.964,
                    -13.964,
                    -4.589,
                    -4.557,
                    -4.557,
                    -4.557,
                    -7.349,
                    -7.855,
                    -7.855,
                    -8.931,
                    -8.931,
                    -5.926,
                    -5.884,
                    -5.884,
                    -5.785,
                    -5.785,
                    -5.785,
                    -4.216,
                    -5.068,
                    -5.068,
                    -5.068,
                    -12.02,
                    -7.743,
                    -20.096,
                    -10.581,
                    -2.065,
                    -2.707,
                    -6.786,
                    -6.863,
                    -6.574,
                    -6.574,
                    -6.574,
                    -7.001,
                    -6.526,
                    -6.837,
                    -7.632,
                    -7.632,
                    -8.392,
                    -8.392,
                    -4.886,
                    -4.886,
                    -4.886,
                    -5.26,
                    -6.048,
                    -6.328,
                    -6.466,
                    -6.328,
                    -6.048,
                    -6.048,
                    -4.874,
                    -6.383,
                    -5.555,
                    -9.137,
                    -5.869,
                    -5.675,
                    -12.016,
                    -12.016,
                    -12.016,
                    -8.017,
                    -5.573,
                    -5.573,
                    -6.176,
                    -6.744,
                    -7.76,
                    -6.555,
                    -9.856,
                    -5.427,
                    -5.427,
                    -11.696,
                    -8.497,
                    -8.497,
                    -6.584,
                    -7.731,
                    -9.631,
                    -6.621,
                    -6.621,
                    -6.621,
                    -6.399,
                    -6.399,
                    -6.399,
                    -5.494
                  ],
                  "type": "scatter",
                  "x": [
                    1959,
                    1962,
                    1964,
                    1966,
                    1967,
                    1967,
                    1968,
                    1970,
                    1970,
                    1970,
                    1970,
                    1970,
                    1970,
                    1972,
                    1975,
                    1975,
                    1976,
                    1977,
                    1981,
                    1982,
                    1982,
                    1982,
                    1983,
                    1983,
                    1983,
                    1984,
                    1985,
                    1985,
                    1988,
                    1988,
                    1989,
                    1989,
                    1989,
                    1992,
                    1993,
                    1993,
                    1994,
                    1994,
                    1994,
                    1997,
                    1997,
                    1997,
                    1997,
                    1997,
                    1997,
                    1998,
                    1998,
                    1998,
                    1999,
                    1999,
                    1999,
                    1999,
                    1999,
                    2000,
                    2000,
                    2000,
                    2001,
                    2001,
                    2001,
                    2002,
                    2002,
                    2002,
                    2002,
                    2002,
                    2002,
                    2004,
                    2004,
                    2004,
                    2004,
                    2006,
                    2006,
                    2006,
                    2006,
                    2006,
                    2006,
                    2006,
                    2007,
                    2007,
                    2008,
                    2008,
                    2008,
                    2008,
                    2008,
                    2009,
                    2009,
                    2009,
                    2009,
                    2009,
                    2009,
                    2009,
                    2010,
                    2011,
                    2011,
                    2012,
                    2012,
                    2012,
                    2013,
                    2014,
                    2014,
                    2014,
                    2014,
                    2014,
                    2014,
                    2015,
                    2015,
                    2015,
                    2015,
                    2015,
                    2015,
                    2015,
                    2015,
                    2016,
                    2016,
                    2016,
                    2016,
                    2016,
                    2016,
                    2016,
                    2016,
                    2017,
                    2017,
                    2017,
                    2017,
                    2017,
                    2017,
                    2017,
                    2017,
                    2018,
                    2018,
                    2018,
                    2018,
                    2019,
                    2019,
                    2019,
                    2020,
                    2020,
                    2020,
                    2020,
                    2020,
                    2020,
                    2020,
                    2020,
                    2021,
                    2021,
                    2021,
                    2021,
                    2021,
                    2021,
                    2021,
                    2022
                  ],
                  "y": [
                    0.313,
                    0.306,
                    0.464,
                    0.174,
                    0.547,
                    0.547,
                    0.926,
                    0.315,
                    0.315,
                    0.315,
                    0.403,
                    0.403,
                    0.403,
                    0.232,
                    0.743,
                    0.743,
                    0.501,
                    0.521,
                    0.748,
                    0.658,
                    0.658,
                    0.658,
                    0.948,
                    0.948,
                    0.948,
                    0.584,
                    0.902,
                    0.902,
                    0.815,
                    0.815,
                    0.903,
                    0.828,
                    0.828,
                    0.564,
                    0.652,
                    0.581,
                    0.124,
                    0.428,
                    0.428,
                    0.81,
                    0.876,
                    0.876,
                    0.703,
                    0.703,
                    0.861,
                    0.783,
                    0.783,
                    0.783,
                    0.825,
                    0.825,
                    0.699,
                    0.699,
                    0.699,
                    0.541,
                    0.546,
                    0.681,
                    0.747,
                    0.312,
                    0.683,
                    0.392,
                    0.392,
                    0.392,
                    0.931,
                    0.931,
                    0.931,
                    0.74,
                    0.8,
                    0.915,
                    0.915,
                    0.422,
                    0.422,
                    0.587,
                    0.76,
                    0.76,
                    0.76,
                    0.849,
                    0.752,
                    0.752,
                    0.852,
                    0.852,
                    0.631,
                    0.828,
                    0.828,
                    0.705,
                    0.705,
                    0.705,
                    0.688,
                    0.918,
                    0.918,
                    0.918,
                    0.802,
                    0.622,
                    0.432,
                    0.259,
                    0.992,
                    0.918,
                    0.91,
                    0.784,
                    0.693,
                    0.693,
                    0.693,
                    0.54,
                    0.595,
                    0.625,
                    0.581,
                    0.581,
                    0.643,
                    0.643,
                    0.781,
                    0.781,
                    0.781,
                    0.984,
                    0.814,
                    0.585,
                    0.798,
                    0.585,
                    0.814,
                    0.814,
                    0.748,
                    0.703,
                    0.844,
                    0.869,
                    0.867,
                    0.586,
                    0.531,
                    0.531,
                    0.531,
                    0.536,
                    0.833,
                    0.833,
                    0.506,
                    0.891,
                    0.787,
                    0.649,
                    0.514,
                    0.897,
                    0.897,
                    0.417,
                    0.806,
                    0.806,
                    0.626,
                    0.797,
                    0.627,
                    0.761,
                    0.761,
                    0.761,
                    0.56,
                    0.56,
                    0.56,
                    0.567
                  ]
                }
              ],
              "layout": {
                "template": {
                  "data": {
                    "bar": [
                      {
                        "error_x": {
                          "color": "#2a3f5f"
                        },
                        "error_y": {
                          "color": "#2a3f5f"
                        },
                        "marker": {
                          "line": {
                            "color": "#E5ECF6",
                            "width": 0.5
                          },
                          "pattern": {
                            "fillmode": "overlay",
                            "size": 10,
                            "solidity": 0.2
                          }
                        },
                        "type": "bar"
                      }
                    ],
                    "barpolar": [
                      {
                        "marker": {
                          "line": {
                            "color": "#E5ECF6",
                            "width": 0.5
                          },
                          "pattern": {
                            "fillmode": "overlay",
                            "size": 10,
                            "solidity": 0.2
                          }
                        },
                        "type": "barpolar"
                      }
                    ],
                    "carpet": [
                      {
                        "aaxis": {
                          "endlinecolor": "#2a3f5f",
                          "gridcolor": "white",
                          "linecolor": "white",
                          "minorgridcolor": "white",
                          "startlinecolor": "#2a3f5f"
                        },
                        "baxis": {
                          "endlinecolor": "#2a3f5f",
                          "gridcolor": "white",
                          "linecolor": "white",
                          "minorgridcolor": "white",
                          "startlinecolor": "#2a3f5f"
                        },
                        "type": "carpet"
                      }
                    ],
                    "choropleth": [
                      {
                        "colorbar": {
                          "outlinewidth": 0,
                          "ticks": ""
                        },
                        "type": "choropleth"
                      }
                    ],
                    "contour": [
                      {
                        "colorbar": {
                          "outlinewidth": 0,
                          "ticks": ""
                        },
                        "colorscale": [
                          [
                            0,
                            "#0d0887"
                          ],
                          [
                            0.1111111111111111,
                            "#46039f"
                          ],
                          [
                            0.2222222222222222,
                            "#7201a8"
                          ],
                          [
                            0.3333333333333333,
                            "#9c179e"
                          ],
                          [
                            0.4444444444444444,
                            "#bd3786"
                          ],
                          [
                            0.5555555555555556,
                            "#d8576b"
                          ],
                          [
                            0.6666666666666666,
                            "#ed7953"
                          ],
                          [
                            0.7777777777777778,
                            "#fb9f3a"
                          ],
                          [
                            0.8888888888888888,
                            "#fdca26"
                          ],
                          [
                            1,
                            "#f0f921"
                          ]
                        ],
                        "type": "contour"
                      }
                    ],
                    "contourcarpet": [
                      {
                        "colorbar": {
                          "outlinewidth": 0,
                          "ticks": ""
                        },
                        "type": "contourcarpet"
                      }
                    ],
                    "heatmap": [
                      {
                        "colorbar": {
                          "outlinewidth": 0,
                          "ticks": ""
                        },
                        "colorscale": [
                          [
                            0,
                            "#0d0887"
                          ],
                          [
                            0.1111111111111111,
                            "#46039f"
                          ],
                          [
                            0.2222222222222222,
                            "#7201a8"
                          ],
                          [
                            0.3333333333333333,
                            "#9c179e"
                          ],
                          [
                            0.4444444444444444,
                            "#bd3786"
                          ],
                          [
                            0.5555555555555556,
                            "#d8576b"
                          ],
                          [
                            0.6666666666666666,
                            "#ed7953"
                          ],
                          [
                            0.7777777777777778,
                            "#fb9f3a"
                          ],
                          [
                            0.8888888888888888,
                            "#fdca26"
                          ],
                          [
                            1,
                            "#f0f921"
                          ]
                        ],
                        "type": "heatmap"
                      }
                    ],
                    "heatmapgl": [
                      {
                        "colorbar": {
                          "outlinewidth": 0,
                          "ticks": ""
                        },
                        "colorscale": [
                          [
                            0,
                            "#0d0887"
                          ],
                          [
                            0.1111111111111111,
                            "#46039f"
                          ],
                          [
                            0.2222222222222222,
                            "#7201a8"
                          ],
                          [
                            0.3333333333333333,
                            "#9c179e"
                          ],
                          [
                            0.4444444444444444,
                            "#bd3786"
                          ],
                          [
                            0.5555555555555556,
                            "#d8576b"
                          ],
                          [
                            0.6666666666666666,
                            "#ed7953"
                          ],
                          [
                            0.7777777777777778,
                            "#fb9f3a"
                          ],
                          [
                            0.8888888888888888,
                            "#fdca26"
                          ],
                          [
                            1,
                            "#f0f921"
                          ]
                        ],
                        "type": "heatmapgl"
                      }
                    ],
                    "histogram": [
                      {
                        "marker": {
                          "pattern": {
                            "fillmode": "overlay",
                            "size": 10,
                            "solidity": 0.2
                          }
                        },
                        "type": "histogram"
                      }
                    ],
                    "histogram2d": [
                      {
                        "colorbar": {
                          "outlinewidth": 0,
                          "ticks": ""
                        },
                        "colorscale": [
                          [
                            0,
                            "#0d0887"
                          ],
                          [
                            0.1111111111111111,
                            "#46039f"
                          ],
                          [
                            0.2222222222222222,
                            "#7201a8"
                          ],
                          [
                            0.3333333333333333,
                            "#9c179e"
                          ],
                          [
                            0.4444444444444444,
                            "#bd3786"
                          ],
                          [
                            0.5555555555555556,
                            "#d8576b"
                          ],
                          [
                            0.6666666666666666,
                            "#ed7953"
                          ],
                          [
                            0.7777777777777778,
                            "#fb9f3a"
                          ],
                          [
                            0.8888888888888888,
                            "#fdca26"
                          ],
                          [
                            1,
                            "#f0f921"
                          ]
                        ],
                        "type": "histogram2d"
                      }
                    ],
                    "histogram2dcontour": [
                      {
                        "colorbar": {
                          "outlinewidth": 0,
                          "ticks": ""
                        },
                        "colorscale": [
                          [
                            0,
                            "#0d0887"
                          ],
                          [
                            0.1111111111111111,
                            "#46039f"
                          ],
                          [
                            0.2222222222222222,
                            "#7201a8"
                          ],
                          [
                            0.3333333333333333,
                            "#9c179e"
                          ],
                          [
                            0.4444444444444444,
                            "#bd3786"
                          ],
                          [
                            0.5555555555555556,
                            "#d8576b"
                          ],
                          [
                            0.6666666666666666,
                            "#ed7953"
                          ],
                          [
                            0.7777777777777778,
                            "#fb9f3a"
                          ],
                          [
                            0.8888888888888888,
                            "#fdca26"
                          ],
                          [
                            1,
                            "#f0f921"
                          ]
                        ],
                        "type": "histogram2dcontour"
                      }
                    ],
                    "mesh3d": [
                      {
                        "colorbar": {
                          "outlinewidth": 0,
                          "ticks": ""
                        },
                        "type": "mesh3d"
                      }
                    ],
                    "parcoords": [
                      {
                        "line": {
                          "colorbar": {
                            "outlinewidth": 0,
                            "ticks": ""
                          }
                        },
                        "type": "parcoords"
                      }
                    ],
                    "pie": [
                      {
                        "automargin": true,
                        "type": "pie"
                      }
                    ],
                    "scatter": [
                      {
                        "fillpattern": {
                          "fillmode": "overlay",
                          "size": 10,
                          "solidity": 0.2
                        },
                        "type": "scatter"
                      }
                    ],
                    "scatter3d": [
                      {
                        "line": {
                          "colorbar": {
                            "outlinewidth": 0,
                            "ticks": ""
                          }
                        },
                        "marker": {
                          "colorbar": {
                            "outlinewidth": 0,
                            "ticks": ""
                          }
                        },
                        "type": "scatter3d"
                      }
                    ],
                    "scattercarpet": [
                      {
                        "marker": {
                          "colorbar": {
                            "outlinewidth": 0,
                            "ticks": ""
                          }
                        },
                        "type": "scattercarpet"
                      }
                    ],
                    "scattergeo": [
                      {
                        "marker": {
                          "colorbar": {
                            "outlinewidth": 0,
                            "ticks": ""
                          }
                        },
                        "type": "scattergeo"
                      }
                    ],
                    "scattergl": [
                      {
                        "marker": {
                          "colorbar": {
                            "outlinewidth": 0,
                            "ticks": ""
                          }
                        },
                        "type": "scattergl"
                      }
                    ],
                    "scattermapbox": [
                      {
                        "marker": {
                          "colorbar": {
                            "outlinewidth": 0,
                            "ticks": ""
                          }
                        },
                        "type": "scattermapbox"
                      }
                    ],
                    "scatterpolar": [
                      {
                        "marker": {
                          "colorbar": {
                            "outlinewidth": 0,
                            "ticks": ""
                          }
                        },
                        "type": "scatterpolar"
                      }
                    ],
                    "scatterpolargl": [
                      {
                        "marker": {
                          "colorbar": {
                            "outlinewidth": 0,
                            "ticks": ""
                          }
                        },
                        "type": "scatterpolargl"
                      }
                    ],
                    "scatterternary": [
                      {
                        "marker": {
                          "colorbar": {
                            "outlinewidth": 0,
                            "ticks": ""
                          }
                        },
                        "type": "scatterternary"
                      }
                    ],
                    "surface": [
                      {
                        "colorbar": {
                          "outlinewidth": 0,
                          "ticks": ""
                        },
                        "colorscale": [
                          [
                            0,
                            "#0d0887"
                          ],
                          [
                            0.1111111111111111,
                            "#46039f"
                          ],
                          [
                            0.2222222222222222,
                            "#7201a8"
                          ],
                          [
                            0.3333333333333333,
                            "#9c179e"
                          ],
                          [
                            0.4444444444444444,
                            "#bd3786"
                          ],
                          [
                            0.5555555555555556,
                            "#d8576b"
                          ],
                          [
                            0.6666666666666666,
                            "#ed7953"
                          ],
                          [
                            0.7777777777777778,
                            "#fb9f3a"
                          ],
                          [
                            0.8888888888888888,
                            "#fdca26"
                          ],
                          [
                            1,
                            "#f0f921"
                          ]
                        ],
                        "type": "surface"
                      }
                    ],
                    "table": [
                      {
                        "cells": {
                          "fill": {
                            "color": "#EBF0F8"
                          },
                          "line": {
                            "color": "white"
                          }
                        },
                        "header": {
                          "fill": {
                            "color": "#C8D4E3"
                          },
                          "line": {
                            "color": "white"
                          }
                        },
                        "type": "table"
                      }
                    ]
                  },
                  "layout": {
                    "annotationdefaults": {
                      "arrowcolor": "#2a3f5f",
                      "arrowhead": 0,
                      "arrowwidth": 1
                    },
                    "autotypenumbers": "strict",
                    "coloraxis": {
                      "colorbar": {
                        "outlinewidth": 0,
                        "ticks": ""
                      }
                    },
                    "colorscale": {
                      "diverging": [
                        [
                          0,
                          "#8e0152"
                        ],
                        [
                          0.1,
                          "#c51b7d"
                        ],
                        [
                          0.2,
                          "#de77ae"
                        ],
                        [
                          0.3,
                          "#f1b6da"
                        ],
                        [
                          0.4,
                          "#fde0ef"
                        ],
                        [
                          0.5,
                          "#f7f7f7"
                        ],
                        [
                          0.6,
                          "#e6f5d0"
                        ],
                        [
                          0.7,
                          "#b8e186"
                        ],
                        [
                          0.8,
                          "#7fbc41"
                        ],
                        [
                          0.9,
                          "#4d9221"
                        ],
                        [
                          1,
                          "#276419"
                        ]
                      ],
                      "sequential": [
                        [
                          0,
                          "#0d0887"
                        ],
                        [
                          0.1111111111111111,
                          "#46039f"
                        ],
                        [
                          0.2222222222222222,
                          "#7201a8"
                        ],
                        [
                          0.3333333333333333,
                          "#9c179e"
                        ],
                        [
                          0.4444444444444444,
                          "#bd3786"
                        ],
                        [
                          0.5555555555555556,
                          "#d8576b"
                        ],
                        [
                          0.6666666666666666,
                          "#ed7953"
                        ],
                        [
                          0.7777777777777778,
                          "#fb9f3a"
                        ],
                        [
                          0.8888888888888888,
                          "#fdca26"
                        ],
                        [
                          1,
                          "#f0f921"
                        ]
                      ],
                      "sequentialminus": [
                        [
                          0,
                          "#0d0887"
                        ],
                        [
                          0.1111111111111111,
                          "#46039f"
                        ],
                        [
                          0.2222222222222222,
                          "#7201a8"
                        ],
                        [
                          0.3333333333333333,
                          "#9c179e"
                        ],
                        [
                          0.4444444444444444,
                          "#bd3786"
                        ],
                        [
                          0.5555555555555556,
                          "#d8576b"
                        ],
                        [
                          0.6666666666666666,
                          "#ed7953"
                        ],
                        [
                          0.7777777777777778,
                          "#fb9f3a"
                        ],
                        [
                          0.8888888888888888,
                          "#fdca26"
                        ],
                        [
                          1,
                          "#f0f921"
                        ]
                      ]
                    },
                    "colorway": [
                      "#636efa",
                      "#EF553B",
                      "#00cc96",
                      "#ab63fa",
                      "#FFA15A",
                      "#19d3f3",
                      "#FF6692",
                      "#B6E880",
                      "#FF97FF",
                      "#FECB52"
                    ],
                    "font": {
                      "color": "#2a3f5f"
                    },
                    "geo": {
                      "bgcolor": "white",
                      "lakecolor": "white",
                      "landcolor": "#E5ECF6",
                      "showlakes": true,
                      "showland": true,
                      "subunitcolor": "white"
                    },
                    "hoverlabel": {
                      "align": "left"
                    },
                    "hovermode": "closest",
                    "mapbox": {
                      "style": "light"
                    },
                    "paper_bgcolor": "white",
                    "plot_bgcolor": "#E5ECF6",
                    "polar": {
                      "angularaxis": {
                        "gridcolor": "white",
                        "linecolor": "white",
                        "ticks": ""
                      },
                      "bgcolor": "#E5ECF6",
                      "radialaxis": {
                        "gridcolor": "white",
                        "linecolor": "white",
                        "ticks": ""
                      }
                    },
                    "scene": {
                      "xaxis": {
                        "backgroundcolor": "#E5ECF6",
                        "gridcolor": "white",
                        "gridwidth": 2,
                        "linecolor": "white",
                        "showbackground": true,
                        "ticks": "",
                        "zerolinecolor": "white"
                      },
                      "yaxis": {
                        "backgroundcolor": "#E5ECF6",
                        "gridcolor": "white",
                        "gridwidth": 2,
                        "linecolor": "white",
                        "showbackground": true,
                        "ticks": "",
                        "zerolinecolor": "white"
                      },
                      "zaxis": {
                        "backgroundcolor": "#E5ECF6",
                        "gridcolor": "white",
                        "gridwidth": 2,
                        "linecolor": "white",
                        "showbackground": true,
                        "ticks": "",
                        "zerolinecolor": "white"
                      }
                    },
                    "shapedefaults": {
                      "line": {
                        "color": "#2a3f5f"
                      }
                    },
                    "ternary": {
                      "aaxis": {
                        "gridcolor": "white",
                        "linecolor": "white",
                        "ticks": ""
                      },
                      "baxis": {
                        "gridcolor": "white",
                        "linecolor": "white",
                        "ticks": ""
                      },
                      "bgcolor": "#E5ECF6",
                      "caxis": {
                        "gridcolor": "white",
                        "linecolor": "white",
                        "ticks": ""
                      }
                    },
                    "title": {
                      "x": 0.05
                    },
                    "xaxis": {
                      "automargin": true,
                      "gridcolor": "white",
                      "linecolor": "white",
                      "ticks": "",
                      "title": {
                        "standoff": 15
                      },
                      "zerolinecolor": "white",
                      "zerolinewidth": 2
                    },
                    "yaxis": {
                      "automargin": true,
                      "gridcolor": "white",
                      "linecolor": "white",
                      "ticks": "",
                      "title": {
                        "standoff": 15
                      },
                      "zerolinecolor": "white",
                      "zerolinewidth": 2
                    }
                  }
                },
                "title": {
                  "text": "Evolucion de la energia"
                },
                "xaxis": {
                  "ticklen": 5,
                  "ticks": "outside",
                  "tickson": "boundaries",
                  "title": {
                    "text": ""
                  }
                }
              }
            },
            "text/html": [
              "<div>                            <div id=\"5aee2fab-33b2-4115-ae92-62974d9e3462\" class=\"plotly-graph-div\" style=\"height:525px; width:100%;\"></div>            <script type=\"text/javascript\">                require([\"plotly\"], function(Plotly) {                    window.PLOTLYENV=window.PLOTLYENV || {};                                    if (document.getElementById(\"5aee2fab-33b2-4115-ae92-62974d9e3462\")) {                    Plotly.newPlot(                        \"5aee2fab-33b2-4115-ae92-62974d9e3462\",                        [{\"marker\":{\"color\":\"rgba(160, 112, 2, 0.8)\"},\"mode\":\"lines\",\"name\":\"Energ\\u00eda mainstream\",\"text\":[0.151,0.246,0.187,0.676,0.753,0.429,0.159,0.665,0.209,0.245,0.582,0.179,0.591,0.485,0.462,0.535,0.224,0.326,0.873,0.0558,0.248,0.199,0.278,0.0952,0.32,0.0889,0.095,0.356,0.454,0.554,0.742,0.0997,0.597,0.464,0.327,0.184,0.148,0.186,0.719,0.189,0.471,0.185,0.169,0.452,0.187,0.605,0.0844,0.434,0.152,0.884,0.0995,0.295,0.678,0.815,0.491,0.675,0.349,0.168,0.0892,0.14,0.36,0.529,0.774,0.512,0.638,0.0901,0.243,0.314,0.751,0.244,0.656,0.177,0.202,0.192,0.29,0.522,0.376,0.366,0.713,0.164,0.192,0.294,0.106,0.372,0.157,0.252,0.397,0.462,0.109,0.478,0.69,0.225,0.297,0.149,0.222,0.612,0.416,0.173,0.337],\"x\":[1948,1949,1951,1951,1956,1957,1958,1959,1960,1960,1962,1964,1964,1964,1964,1973,1987,1989,1989,1989,1991,1991,1991,1991,1992,1993,1993,1993,1994,1994,1994,1995,1996,1996,1996,1997,1997,1997,1999,1999,1999,1999,1999,1999,1999,2000,2001,2002,2002,2002,2002,2002,2002,2002,2002,2002,2003,2003,2003,2003,2004,2004,2004,2005,2005,2005,2005,2005,2005,2006,2007,2007,2008,2009,2010,2010,2010,2011,2011,2012,2012,2012,2012,2012,2012,2012,2013,2013,2013,2013,2013,2013,2013,2013,2013,2014,2015,2015,2015],\"y\":[0.151,0.246,0.187,0.676,0.753,0.429,0.159,0.665,0.209,0.245,0.582,0.179,0.591,0.485,0.462,0.535,0.224,0.326,0.873,0.0558,0.248,0.199,0.278,0.0952,0.32,0.0889,0.095,0.356,0.454,0.554,0.742,0.0997,0.597,0.464,0.327,0.184,0.148,0.186,0.719,0.189,0.471,0.185,0.169,0.452,0.187,0.605,0.0844,0.434,0.152,0.884,0.0995,0.295,0.678,0.815,0.491,0.675,0.349,0.168,0.0892,0.14,0.36,0.529,0.774,0.512,0.638,0.0901,0.243,0.314,0.751,0.244,0.656,0.177,0.202,0.192,0.29,0.522,0.376,0.366,0.713,0.164,0.192,0.294,0.106,0.372,0.157,0.252,0.397,0.462,0.109,0.478,0.69,0.225,0.297,0.149,0.222,0.612,0.416,0.173,0.337],\"type\":\"scatter\"},{\"marker\":{\"color\":\"rgba(1, 112, 2, 0.8)\"},\"mode\":\"lines\",\"name\":\"Mi energ\\u00eda\",\"text\":[-12.41,-9.443,-11.251,-18.791,-6.395,-6.395,-3.204,-11.028,-11.028,-11.028,-8.339,-8.339,-8.339,-16.551,-8.085,-8.085,-13.206,-8.123,-9.072,-9.174,-9.174,-9.174,-4.265,-4.265,-4.265,-10.616,-7.638,-7.638,-8.013,-8.013,-10.851,-4.147,-4.147,-10.044,-10.171,-11.499,-18.166,-9.313,-9.313,-12.568,-7.159,-7.159,-4.875,-4.875,-4.221,-10.61,-10.61,-10.61,-6.711,-6.711,-5.745,-5.745,-5.745,-8.023,-7.496,-10.873,-8.058,-9.216,-6.694,-7.636,-7.636,-7.636,-4.917,-4.917,-4.917,-6.856,-4.845,-1.849,-1.849,-13.964,-13.964,-4.589,-4.557,-4.557,-4.557,-7.349,-7.855,-7.855,-8.931,-8.931,-5.926,-5.884,-5.884,-5.785,-5.785,-5.785,-4.216,-5.068,-5.068,-5.068,-12.02,-7.743,-20.096,-10.581,-2.065,-2.707,-6.786,-6.863,-6.574,-6.574,-6.574,-7.001,-6.526,-6.837,-7.632,-7.632,-8.392,-8.392,-4.886,-4.886,-4.886,-5.26,-6.048,-6.328,-6.466,-6.328,-6.048,-6.048,-4.874,-6.383,-5.555,-9.137,-5.869,-5.675,-12.016,-12.016,-12.016,-8.017,-5.573,-5.573,-6.176,-6.744,-7.76,-6.555,-9.856,-5.427,-5.427,-11.696,-8.497,-8.497,-6.584,-7.731,-9.631,-6.621,-6.621,-6.621,-6.399,-6.399,-6.399,-5.494],\"x\":[1959,1962,1964,1966,1967,1967,1968,1970,1970,1970,1970,1970,1970,1972,1975,1975,1976,1977,1981,1982,1982,1982,1983,1983,1983,1984,1985,1985,1988,1988,1989,1989,1989,1992,1993,1993,1994,1994,1994,1997,1997,1997,1997,1997,1997,1998,1998,1998,1999,1999,1999,1999,1999,2000,2000,2000,2001,2001,2001,2002,2002,2002,2002,2002,2002,2004,2004,2004,2004,2006,2006,2006,2006,2006,2006,2006,2007,2007,2008,2008,2008,2008,2008,2009,2009,2009,2009,2009,2009,2009,2010,2011,2011,2012,2012,2012,2013,2014,2014,2014,2014,2014,2014,2015,2015,2015,2015,2015,2015,2015,2015,2016,2016,2016,2016,2016,2016,2016,2016,2017,2017,2017,2017,2017,2017,2017,2017,2018,2018,2018,2018,2019,2019,2019,2020,2020,2020,2020,2020,2020,2020,2020,2021,2021,2021,2021,2021,2021,2021,2022],\"y\":[0.313,0.306,0.464,0.174,0.547,0.547,0.926,0.315,0.315,0.315,0.403,0.403,0.403,0.232,0.743,0.743,0.501,0.521,0.748,0.658,0.658,0.658,0.948,0.948,0.948,0.584,0.902,0.902,0.815,0.815,0.903,0.828,0.828,0.564,0.652,0.581,0.124,0.428,0.428,0.81,0.876,0.876,0.703,0.703,0.861,0.783,0.783,0.783,0.825,0.825,0.699,0.699,0.699,0.541,0.546,0.681,0.747,0.312,0.683,0.392,0.392,0.392,0.931,0.931,0.931,0.74,0.8,0.915,0.915,0.422,0.422,0.587,0.76,0.76,0.76,0.849,0.752,0.752,0.852,0.852,0.631,0.828,0.828,0.705,0.705,0.705,0.688,0.918,0.918,0.918,0.802,0.622,0.432,0.259,0.992,0.918,0.91,0.784,0.693,0.693,0.693,0.54,0.595,0.625,0.581,0.581,0.643,0.643,0.781,0.781,0.781,0.984,0.814,0.585,0.798,0.585,0.814,0.814,0.748,0.703,0.844,0.869,0.867,0.586,0.531,0.531,0.531,0.536,0.833,0.833,0.506,0.891,0.787,0.649,0.514,0.897,0.897,0.417,0.806,0.806,0.626,0.797,0.627,0.761,0.761,0.761,0.56,0.56,0.56,0.567],\"type\":\"scatter\"}],                        {\"template\":{\"data\":{\"barpolar\":[{\"marker\":{\"line\":{\"color\":\"#E5ECF6\",\"width\":0.5},\"pattern\":{\"fillmode\":\"overlay\",\"size\":10,\"solidity\":0.2}},\"type\":\"barpolar\"}],\"bar\":[{\"error_x\":{\"color\":\"#2a3f5f\"},\"error_y\":{\"color\":\"#2a3f5f\"},\"marker\":{\"line\":{\"color\":\"#E5ECF6\",\"width\":0.5},\"pattern\":{\"fillmode\":\"overlay\",\"size\":10,\"solidity\":0.2}},\"type\":\"bar\"}],\"carpet\":[{\"aaxis\":{\"endlinecolor\":\"#2a3f5f\",\"gridcolor\":\"white\",\"linecolor\":\"white\",\"minorgridcolor\":\"white\",\"startlinecolor\":\"#2a3f5f\"},\"baxis\":{\"endlinecolor\":\"#2a3f5f\",\"gridcolor\":\"white\",\"linecolor\":\"white\",\"minorgridcolor\":\"white\",\"startlinecolor\":\"#2a3f5f\"},\"type\":\"carpet\"}],\"choropleth\":[{\"colorbar\":{\"outlinewidth\":0,\"ticks\":\"\"},\"type\":\"choropleth\"}],\"contourcarpet\":[{\"colorbar\":{\"outlinewidth\":0,\"ticks\":\"\"},\"type\":\"contourcarpet\"}],\"contour\":[{\"colorbar\":{\"outlinewidth\":0,\"ticks\":\"\"},\"colorscale\":[[0.0,\"#0d0887\"],[0.1111111111111111,\"#46039f\"],[0.2222222222222222,\"#7201a8\"],[0.3333333333333333,\"#9c179e\"],[0.4444444444444444,\"#bd3786\"],[0.5555555555555556,\"#d8576b\"],[0.6666666666666666,\"#ed7953\"],[0.7777777777777778,\"#fb9f3a\"],[0.8888888888888888,\"#fdca26\"],[1.0,\"#f0f921\"]],\"type\":\"contour\"}],\"heatmapgl\":[{\"colorbar\":{\"outlinewidth\":0,\"ticks\":\"\"},\"colorscale\":[[0.0,\"#0d0887\"],[0.1111111111111111,\"#46039f\"],[0.2222222222222222,\"#7201a8\"],[0.3333333333333333,\"#9c179e\"],[0.4444444444444444,\"#bd3786\"],[0.5555555555555556,\"#d8576b\"],[0.6666666666666666,\"#ed7953\"],[0.7777777777777778,\"#fb9f3a\"],[0.8888888888888888,\"#fdca26\"],[1.0,\"#f0f921\"]],\"type\":\"heatmapgl\"}],\"heatmap\":[{\"colorbar\":{\"outlinewidth\":0,\"ticks\":\"\"},\"colorscale\":[[0.0,\"#0d0887\"],[0.1111111111111111,\"#46039f\"],[0.2222222222222222,\"#7201a8\"],[0.3333333333333333,\"#9c179e\"],[0.4444444444444444,\"#bd3786\"],[0.5555555555555556,\"#d8576b\"],[0.6666666666666666,\"#ed7953\"],[0.7777777777777778,\"#fb9f3a\"],[0.8888888888888888,\"#fdca26\"],[1.0,\"#f0f921\"]],\"type\":\"heatmap\"}],\"histogram2dcontour\":[{\"colorbar\":{\"outlinewidth\":0,\"ticks\":\"\"},\"colorscale\":[[0.0,\"#0d0887\"],[0.1111111111111111,\"#46039f\"],[0.2222222222222222,\"#7201a8\"],[0.3333333333333333,\"#9c179e\"],[0.4444444444444444,\"#bd3786\"],[0.5555555555555556,\"#d8576b\"],[0.6666666666666666,\"#ed7953\"],[0.7777777777777778,\"#fb9f3a\"],[0.8888888888888888,\"#fdca26\"],[1.0,\"#f0f921\"]],\"type\":\"histogram2dcontour\"}],\"histogram2d\":[{\"colorbar\":{\"outlinewidth\":0,\"ticks\":\"\"},\"colorscale\":[[0.0,\"#0d0887\"],[0.1111111111111111,\"#46039f\"],[0.2222222222222222,\"#7201a8\"],[0.3333333333333333,\"#9c179e\"],[0.4444444444444444,\"#bd3786\"],[0.5555555555555556,\"#d8576b\"],[0.6666666666666666,\"#ed7953\"],[0.7777777777777778,\"#fb9f3a\"],[0.8888888888888888,\"#fdca26\"],[1.0,\"#f0f921\"]],\"type\":\"histogram2d\"}],\"histogram\":[{\"marker\":{\"pattern\":{\"fillmode\":\"overlay\",\"size\":10,\"solidity\":0.2}},\"type\":\"histogram\"}],\"mesh3d\":[{\"colorbar\":{\"outlinewidth\":0,\"ticks\":\"\"},\"type\":\"mesh3d\"}],\"parcoords\":[{\"line\":{\"colorbar\":{\"outlinewidth\":0,\"ticks\":\"\"}},\"type\":\"parcoords\"}],\"pie\":[{\"automargin\":true,\"type\":\"pie\"}],\"scatter3d\":[{\"line\":{\"colorbar\":{\"outlinewidth\":0,\"ticks\":\"\"}},\"marker\":{\"colorbar\":{\"outlinewidth\":0,\"ticks\":\"\"}},\"type\":\"scatter3d\"}],\"scattercarpet\":[{\"marker\":{\"colorbar\":{\"outlinewidth\":0,\"ticks\":\"\"}},\"type\":\"scattercarpet\"}],\"scattergeo\":[{\"marker\":{\"colorbar\":{\"outlinewidth\":0,\"ticks\":\"\"}},\"type\":\"scattergeo\"}],\"scattergl\":[{\"marker\":{\"colorbar\":{\"outlinewidth\":0,\"ticks\":\"\"}},\"type\":\"scattergl\"}],\"scattermapbox\":[{\"marker\":{\"colorbar\":{\"outlinewidth\":0,\"ticks\":\"\"}},\"type\":\"scattermapbox\"}],\"scatterpolargl\":[{\"marker\":{\"colorbar\":{\"outlinewidth\":0,\"ticks\":\"\"}},\"type\":\"scatterpolargl\"}],\"scatterpolar\":[{\"marker\":{\"colorbar\":{\"outlinewidth\":0,\"ticks\":\"\"}},\"type\":\"scatterpolar\"}],\"scatter\":[{\"fillpattern\":{\"fillmode\":\"overlay\",\"size\":10,\"solidity\":0.2},\"type\":\"scatter\"}],\"scatterternary\":[{\"marker\":{\"colorbar\":{\"outlinewidth\":0,\"ticks\":\"\"}},\"type\":\"scatterternary\"}],\"surface\":[{\"colorbar\":{\"outlinewidth\":0,\"ticks\":\"\"},\"colorscale\":[[0.0,\"#0d0887\"],[0.1111111111111111,\"#46039f\"],[0.2222222222222222,\"#7201a8\"],[0.3333333333333333,\"#9c179e\"],[0.4444444444444444,\"#bd3786\"],[0.5555555555555556,\"#d8576b\"],[0.6666666666666666,\"#ed7953\"],[0.7777777777777778,\"#fb9f3a\"],[0.8888888888888888,\"#fdca26\"],[1.0,\"#f0f921\"]],\"type\":\"surface\"}],\"table\":[{\"cells\":{\"fill\":{\"color\":\"#EBF0F8\"},\"line\":{\"color\":\"white\"}},\"header\":{\"fill\":{\"color\":\"#C8D4E3\"},\"line\":{\"color\":\"white\"}},\"type\":\"table\"}]},\"layout\":{\"annotationdefaults\":{\"arrowcolor\":\"#2a3f5f\",\"arrowhead\":0,\"arrowwidth\":1},\"autotypenumbers\":\"strict\",\"coloraxis\":{\"colorbar\":{\"outlinewidth\":0,\"ticks\":\"\"}},\"colorscale\":{\"diverging\":[[0,\"#8e0152\"],[0.1,\"#c51b7d\"],[0.2,\"#de77ae\"],[0.3,\"#f1b6da\"],[0.4,\"#fde0ef\"],[0.5,\"#f7f7f7\"],[0.6,\"#e6f5d0\"],[0.7,\"#b8e186\"],[0.8,\"#7fbc41\"],[0.9,\"#4d9221\"],[1,\"#276419\"]],\"sequential\":[[0.0,\"#0d0887\"],[0.1111111111111111,\"#46039f\"],[0.2222222222222222,\"#7201a8\"],[0.3333333333333333,\"#9c179e\"],[0.4444444444444444,\"#bd3786\"],[0.5555555555555556,\"#d8576b\"],[0.6666666666666666,\"#ed7953\"],[0.7777777777777778,\"#fb9f3a\"],[0.8888888888888888,\"#fdca26\"],[1.0,\"#f0f921\"]],\"sequentialminus\":[[0.0,\"#0d0887\"],[0.1111111111111111,\"#46039f\"],[0.2222222222222222,\"#7201a8\"],[0.3333333333333333,\"#9c179e\"],[0.4444444444444444,\"#bd3786\"],[0.5555555555555556,\"#d8576b\"],[0.6666666666666666,\"#ed7953\"],[0.7777777777777778,\"#fb9f3a\"],[0.8888888888888888,\"#fdca26\"],[1.0,\"#f0f921\"]]},\"colorway\":[\"#636efa\",\"#EF553B\",\"#00cc96\",\"#ab63fa\",\"#FFA15A\",\"#19d3f3\",\"#FF6692\",\"#B6E880\",\"#FF97FF\",\"#FECB52\"],\"font\":{\"color\":\"#2a3f5f\"},\"geo\":{\"bgcolor\":\"white\",\"lakecolor\":\"white\",\"landcolor\":\"#E5ECF6\",\"showlakes\":true,\"showland\":true,\"subunitcolor\":\"white\"},\"hoverlabel\":{\"align\":\"left\"},\"hovermode\":\"closest\",\"mapbox\":{\"style\":\"light\"},\"paper_bgcolor\":\"white\",\"plot_bgcolor\":\"#E5ECF6\",\"polar\":{\"angularaxis\":{\"gridcolor\":\"white\",\"linecolor\":\"white\",\"ticks\":\"\"},\"bgcolor\":\"#E5ECF6\",\"radialaxis\":{\"gridcolor\":\"white\",\"linecolor\":\"white\",\"ticks\":\"\"}},\"scene\":{\"xaxis\":{\"backgroundcolor\":\"#E5ECF6\",\"gridcolor\":\"white\",\"gridwidth\":2,\"linecolor\":\"white\",\"showbackground\":true,\"ticks\":\"\",\"zerolinecolor\":\"white\"},\"yaxis\":{\"backgroundcolor\":\"#E5ECF6\",\"gridcolor\":\"white\",\"gridwidth\":2,\"linecolor\":\"white\",\"showbackground\":true,\"ticks\":\"\",\"zerolinecolor\":\"white\"},\"zaxis\":{\"backgroundcolor\":\"#E5ECF6\",\"gridcolor\":\"white\",\"gridwidth\":2,\"linecolor\":\"white\",\"showbackground\":true,\"ticks\":\"\",\"zerolinecolor\":\"white\"}},\"shapedefaults\":{\"line\":{\"color\":\"#2a3f5f\"}},\"ternary\":{\"aaxis\":{\"gridcolor\":\"white\",\"linecolor\":\"white\",\"ticks\":\"\"},\"baxis\":{\"gridcolor\":\"white\",\"linecolor\":\"white\",\"ticks\":\"\"},\"bgcolor\":\"#E5ECF6\",\"caxis\":{\"gridcolor\":\"white\",\"linecolor\":\"white\",\"ticks\":\"\"}},\"title\":{\"x\":0.05},\"xaxis\":{\"automargin\":true,\"gridcolor\":\"white\",\"linecolor\":\"white\",\"ticks\":\"\",\"title\":{\"standoff\":15},\"zerolinecolor\":\"white\",\"zerolinewidth\":2},\"yaxis\":{\"automargin\":true,\"gridcolor\":\"white\",\"linecolor\":\"white\",\"ticks\":\"\",\"title\":{\"standoff\":15},\"zerolinecolor\":\"white\",\"zerolinewidth\":2}}},\"title\":{\"text\":\"Evolucion de la energia\"},\"xaxis\":{\"ticklen\":5,\"ticks\":\"outside\",\"tickson\":\"boundaries\",\"title\":{\"text\":\"\"}}},                        {\"responsive\": true}                    ).then(function(){\n",
              "                            \n",
              "var gd = document.getElementById('5aee2fab-33b2-4115-ae92-62974d9e3462');\n",
              "var x = new MutationObserver(function (mutations, observer) {{\n",
              "        var display = window.getComputedStyle(gd).display;\n",
              "        if (!display || display === 'none') {{\n",
              "            console.log([gd, 'removed!']);\n",
              "            Plotly.purge(gd);\n",
              "            observer.disconnect();\n",
              "        }}\n",
              "}});\n",
              "\n",
              "// Listen for the removal of the full notebook cells\n",
              "var notebookContainer = gd.closest('#notebook-container');\n",
              "if (notebookContainer) {{\n",
              "    x.observe(notebookContainer, {childList: true});\n",
              "}}\n",
              "\n",
              "// Listen for the clearing of the current output cell\n",
              "var outputEl = gd.closest('.output');\n",
              "if (outputEl) {{\n",
              "    x.observe(outputEl, {childList: true});\n",
              "}}\n",
              "\n",
              "                        })                };                });            </script>        </div>"
            ]
          },
          "metadata": {},
          "output_type": "display_data"
        }
      ],
      "source": [
        "# prepare data frame\n",
        "#df = timesData.iloc[:100,:]\n",
        "\n",
        "# Creating trace1\n",
        "trace1 = go.Scatter(\n",
        "                    x = sort['release_date_year'],\n",
        "                    y = sort['energy'],\n",
        "                    name = 'Energía mainstream',\n",
        "                    mode= 'lines',\n",
        "                    marker = dict(color = 'rgba(160, 112, 2, 0.8)'),\n",
        "                    text = sort['energy'])\n",
        "\n",
        "trace2 = go.Scatter(\n",
        "                    x = sortPersonal['release_date_year'],\n",
        "                    y = sortPersonal['energy'],\n",
        "                    name = 'Mi energía',\n",
        "                    mode= 'lines',\n",
        "                    marker = dict(color = 'rgba(1, 112, 2, 0.8)'),\n",
        "                    text = sortPersonal['loudness'])\n",
        "\n",
        "\n",
        "data = [trace1,trace2]\n",
        "\n",
        "layout = dict(title = 'Evolucion de la energia',\n",
        "             xaxis= dict(title= '',ticklen=5, ticks=\"outside\", tickson=\"boundaries\",), \n",
        "           )\n",
        "\n",
        "fig = go.Figure(data = data, layout=layout)\n",
        "\n",
        "iplot(fig)\n",
        "\n",
        "\n",
        "\n",
        "\n"
      ]
    },
    {
      "cell_type": "code",
      "execution_count": 475,
      "metadata": {},
      "outputs": [
        {
          "data": {
            "application/vnd.plotly.v1+json": {
              "config": {
                "plotlyServerURL": "https://plot.ly"
              },
              "data": [
                {
                  "mode": "markers",
                  "name": "loudness",
                  "type": "scatter",
                  "x": [
                    "2008-01-01",
                    "2013-10-04",
                    "2005-06-21",
                    "1951",
                    "1991-01-20",
                    "1996-01-01",
                    "2013-10-04",
                    "1999-09-28",
                    "1949",
                    "2003-01-01",
                    "2002-07-11",
                    "1991-01-01",
                    "1991-09-03",
                    "2003",
                    "2009-01-01",
                    "1951",
                    "1987-10-26",
                    "2003-01-01",
                    "2015-07-22",
                    "2013-07-24",
                    "2013-07-24",
                    "2005-01-01",
                    "2010-02-05",
                    "2005-04-26",
                    "2007-05-26",
                    "1995-01-01",
                    "1960-05-01",
                    "1999-09-28",
                    "1999-09-28",
                    "1958",
                    "2012-01-23",
                    "1999-09-28",
                    "1989-08-08",
                    "2013-03-19",
                    "1994-01-01",
                    "2005-06-21",
                    "2012-01-23",
                    "1948",
                    "2010-04-20",
                    "2010-05-28",
                    "2005",
                    "1989-06-13",
                    "2004-01-01",
                    "1960-05-01",
                    "2001-01-01",
                    "2012-01-23",
                    "2013-03-31",
                    "1964-01-01",
                    "1996-01-01",
                    "2002-09-24",
                    "2002-09-24",
                    "1997-01-01",
                    "1991-01-01",
                    "2011-01-19",
                    "1957-01-01",
                    "1992-09-29",
                    "2002-09-24",
                    "1964",
                    "2012-01-23",
                    "2007",
                    "1964-01-01",
                    "1973-01-01",
                    "2012-01-23",
                    "2015-01-14",
                    "1993-01-01",
                    "2013-04-19",
                    "2006-01-01",
                    "2002-09-24",
                    "1999-09-28",
                    "2015-04-16",
                    "1964-08-01",
                    "2002-09-24",
                    "2014-10-20",
                    "1999-07-27",
                    "2013-02-06",
                    "1999-09-28",
                    "1994-04-19",
                    "1997-01-01",
                    "2012-01-01",
                    "1956",
                    "2004-11-23",
                    "1994-01-01",
                    "2002-01-01",
                    "2000-10-03",
                    "2004-11-23",
                    "1996-01-30",
                    "1993-01-01",
                    "1959",
                    "1993-01-01",
                    "1989-06-13",
                    "1997-02-14",
                    "1962-06-01",
                    "2013-09-01",
                    "2003-01-01",
                    "2012-01-23",
                    "2002-09-24",
                    "2011-09-16",
                    "2002-09-24",
                    "2005-01-01"
                  ],
                  "y": [
                    -14.45,
                    -13.28,
                    -8.89,
                    -7.168,
                    -15.264,
                    -9.033,
                    -13.062,
                    -12.024,
                    -13.514,
                    -12.204,
                    -22.657,
                    -10.278,
                    -15.5,
                    -8.176,
                    -13.354,
                    -12.016,
                    -14.708,
                    -11.993,
                    -7.981,
                    -12.419,
                    -17.839,
                    -19.042,
                    -11.688,
                    -6.531,
                    -11.213,
                    -17.648,
                    -14.049,
                    -11.615,
                    -11.558,
                    -18.598,
                    -15.224,
                    -11.221,
                    -20.216,
                    -5.729,
                    -9.26,
                    -11.846,
                    -13.054,
                    -14.317,
                    -10.308,
                    -13.887,
                    -11.594,
                    -10.846,
                    -8.887,
                    -13.017,
                    -20.678,
                    -14.136,
                    -16.79,
                    -5.249,
                    -11.1,
                    -8.672,
                    -7.998,
                    -13.972,
                    -10.975,
                    -11.989,
                    -5.408,
                    -13.211,
                    -4.123,
                    -15.977,
                    -13.063,
                    -6.853,
                    -9.957,
                    -11.598,
                    -13.201,
                    -10.926,
                    -10.733,
                    -8.176,
                    -16.097,
                    -5.607,
                    -12.856,
                    -11.263,
                    -8.172,
                    -12.559,
                    -5.648,
                    -5.979,
                    -12.745,
                    -15.412,
                    -9.912,
                    -17.523,
                    -17.529,
                    -11.783,
                    -12.291,
                    -8.936,
                    -12.976,
                    -9.923,
                    -1.692,
                    -10.113,
                    -18.478,
                    -6.453,
                    -17.475,
                    -15.144,
                    -15.846,
                    -8.961,
                    -14.679,
                    -12.426,
                    -14.342,
                    -9.312,
                    -7.519,
                    -7.389,
                    -7.13
                  ]
                },
                {
                  "mode": "markers",
                  "name": "loudness",
                  "type": "scatter",
                  "x": [
                    "2021-12-14",
                    "2014-02-18",
                    "1997-08-28",
                    "2015-11-18",
                    "2009-09-28",
                    "2017-11-17",
                    "2006",
                    "2002-07-01",
                    "2020-04-03",
                    "1982-05-10",
                    "2002-01-01",
                    "2017-01-20",
                    "1999-01-01",
                    "2017-01-20",
                    "2010-10-12",
                    "2021-12-23",
                    "2014-01-23",
                    "2011-10-28",
                    "2017-04-07",
                    "2018-02-23",
                    "2012-11-05",
                    "1970-04-10",
                    "2013-01-01",
                    "1999-01-12",
                    "2006-08-21",
                    "2022-04-29",
                    "2019-12-27",
                    "2001",
                    "2016-09-30",
                    "2014-04-14",
                    "2019-07-05",
                    "1959-08-11",
                    "1966-01-01",
                    "2012-11-05",
                    "1970-05-08",
                    "2020-12-11",
                    "2017-06-23",
                    "2009",
                    "2011-02-15",
                    "1993-02-15",
                    "1989-01-01",
                    "1983-01-01",
                    "1998-03-31",
                    "1994-06-22",
                    "1997",
                    "2016-09-01",
                    "2000",
                    "2000-07-10",
                    "1968-01-01",
                    "2008-07-28",
                    "2021-12-14",
                    "2002-01-01",
                    "1999-01-12",
                    "2014-02-18",
                    "2006-08-21",
                    "2017-11-17",
                    "1970-04-10",
                    "1989-02-22",
                    "2015-11-18",
                    "1970-05-08",
                    "1985-06-01",
                    "2016-09-01",
                    "1964",
                    "1999-01-01",
                    "2016-09-01",
                    "2009",
                    "2021-12-23",
                    "2001-04-03",
                    "2007-02-18",
                    "1998-03-31",
                    "1983-01-01",
                    "2015-04-27",
                    "2002-07-01",
                    "1997-04-13",
                    "1997-08-28",
                    "2009-09-28",
                    "1994-06-22",
                    "2016-09-01",
                    "2015-06-02",
                    "2004-10-19",
                    "2008-01-01",
                    "1982-05-10",
                    "2018-04-20",
                    "2006",
                    "2018-04-17",
                    "1962-08-20",
                    "1972",
                    "2015-11-13",
                    "2020-04-08",
                    "2008-10-21",
                    "1988",
                    "2020-06-12",
                    "1967-12-31",
                    "1976",
                    "1993-07-27",
                    "1975-01-01",
                    "2014-04-28",
                    "2017-11-10",
                    "2012-09-18",
                    "1994-03-08",
                    "2020-08-14",
                    "2021-12-23",
                    "2014-02-18",
                    "2017-11-17",
                    "2008-01-01",
                    "1989-02-22",
                    "1998-03-31",
                    "2008-10-21",
                    "1977-09-16",
                    "2015-11-18",
                    "2009",
                    "1999-01-12",
                    "2006-08-21",
                    "2021-12-14",
                    "2007-02-18",
                    "2015-06-02",
                    "1982-05-10",
                    "2020-06-12",
                    "2019-09-13",
                    "2016-09-01",
                    "2009-09-28",
                    "2002-01-01",
                    "2006-04-24",
                    "2021-01-22",
                    "2004-10-19",
                    "2004",
                    "1983-01-01",
                    "1967-12-31",
                    "2020-04-08",
                    "1997-04-13",
                    "2000-11-13",
                    "2015-11-13",
                    "1997-11-17",
                    "2020-04-17",
                    "2006-10-31",
                    "1985-06-01",
                    "2001-10-08",
                    "1984-10-15",
                    "1981",
                    "1992-01-01",
                    "1970-04-10",
                    "1988",
                    "1970-05-08",
                    "2009-06-19",
                    "2018-04-17",
                    "2004-06-16",
                    "2016-07-01",
                    "2016-09-01",
                    "2002-07-01",
                    "1975-01-01"
                  ],
                  "y": [
                    -6.621,
                    -6.574,
                    -4.875,
                    -4.886,
                    -5.068,
                    -12.016,
                    -13.964,
                    -4.917,
                    -9.856,
                    -9.174,
                    -7.636,
                    -5.555,
                    -6.711,
                    -6.383,
                    -12.02,
                    -6.399,
                    -6.863,
                    -20.096,
                    -9.137,
                    -8.017,
                    -2.707,
                    -11.028,
                    -6.786,
                    -5.745,
                    -4.557,
                    -5.494,
                    -6.555,
                    -8.058,
                    -4.874,
                    -7.001,
                    -6.744,
                    -12.41,
                    -18.791,
                    -2.065,
                    -8.339,
                    -7.731,
                    -5.869,
                    -5.785,
                    -7.743,
                    -10.171,
                    -10.851,
                    -4.265,
                    -10.61,
                    -9.313,
                    -12.568,
                    -6.048,
                    -8.023,
                    -7.496,
                    -3.204,
                    -5.926,
                    -6.621,
                    -7.636,
                    -5.745,
                    -6.574,
                    -4.557,
                    -12.016,
                    -11.028,
                    -4.147,
                    -4.886,
                    -8.339,
                    -7.638,
                    -6.048,
                    -11.251,
                    -6.711,
                    -6.328,
                    -5.785,
                    -6.399,
                    -9.216,
                    -7.855,
                    -10.61,
                    -4.265,
                    -6.837,
                    -4.917,
                    -7.159,
                    -4.875,
                    -5.068,
                    -9.313,
                    -6.466,
                    -7.632,
                    -1.849,
                    -8.931,
                    -9.174,
                    -6.176,
                    -13.964,
                    -5.573,
                    -9.443,
                    -16.551,
                    -8.392,
                    -5.427,
                    -5.884,
                    -8.013,
                    -8.497,
                    -6.395,
                    -13.206,
                    -11.499,
                    -8.085,
                    -6.526,
                    -5.675,
                    -10.581,
                    -18.166,
                    -6.584,
                    -6.399,
                    -6.574,
                    -12.016,
                    -8.931,
                    -4.147,
                    -10.61,
                    -5.884,
                    -8.123,
                    -4.886,
                    -5.785,
                    -5.745,
                    -4.557,
                    -6.621,
                    -7.855,
                    -7.632,
                    -9.174,
                    -8.497,
                    -7.76,
                    -6.048,
                    -5.068,
                    -7.636,
                    -4.589,
                    -9.631,
                    -1.849,
                    -6.856,
                    -4.265,
                    -6.395,
                    -5.427,
                    -7.159,
                    -10.873,
                    -8.392,
                    -4.221,
                    -11.696,
                    -7.349,
                    -7.638,
                    -6.694,
                    -10.616,
                    -9.072,
                    -10.044,
                    -11.028,
                    -8.013,
                    -8.339,
                    -4.216,
                    -5.573,
                    -4.845,
                    -5.26,
                    -6.328,
                    -4.917,
                    -8.085
                  ]
                }
              ],
              "layout": {
                "template": {
                  "data": {
                    "bar": [
                      {
                        "error_x": {
                          "color": "#2a3f5f"
                        },
                        "error_y": {
                          "color": "#2a3f5f"
                        },
                        "marker": {
                          "line": {
                            "color": "#E5ECF6",
                            "width": 0.5
                          },
                          "pattern": {
                            "fillmode": "overlay",
                            "size": 10,
                            "solidity": 0.2
                          }
                        },
                        "type": "bar"
                      }
                    ],
                    "barpolar": [
                      {
                        "marker": {
                          "line": {
                            "color": "#E5ECF6",
                            "width": 0.5
                          },
                          "pattern": {
                            "fillmode": "overlay",
                            "size": 10,
                            "solidity": 0.2
                          }
                        },
                        "type": "barpolar"
                      }
                    ],
                    "carpet": [
                      {
                        "aaxis": {
                          "endlinecolor": "#2a3f5f",
                          "gridcolor": "white",
                          "linecolor": "white",
                          "minorgridcolor": "white",
                          "startlinecolor": "#2a3f5f"
                        },
                        "baxis": {
                          "endlinecolor": "#2a3f5f",
                          "gridcolor": "white",
                          "linecolor": "white",
                          "minorgridcolor": "white",
                          "startlinecolor": "#2a3f5f"
                        },
                        "type": "carpet"
                      }
                    ],
                    "choropleth": [
                      {
                        "colorbar": {
                          "outlinewidth": 0,
                          "ticks": ""
                        },
                        "type": "choropleth"
                      }
                    ],
                    "contour": [
                      {
                        "colorbar": {
                          "outlinewidth": 0,
                          "ticks": ""
                        },
                        "colorscale": [
                          [
                            0,
                            "#0d0887"
                          ],
                          [
                            0.1111111111111111,
                            "#46039f"
                          ],
                          [
                            0.2222222222222222,
                            "#7201a8"
                          ],
                          [
                            0.3333333333333333,
                            "#9c179e"
                          ],
                          [
                            0.4444444444444444,
                            "#bd3786"
                          ],
                          [
                            0.5555555555555556,
                            "#d8576b"
                          ],
                          [
                            0.6666666666666666,
                            "#ed7953"
                          ],
                          [
                            0.7777777777777778,
                            "#fb9f3a"
                          ],
                          [
                            0.8888888888888888,
                            "#fdca26"
                          ],
                          [
                            1,
                            "#f0f921"
                          ]
                        ],
                        "type": "contour"
                      }
                    ],
                    "contourcarpet": [
                      {
                        "colorbar": {
                          "outlinewidth": 0,
                          "ticks": ""
                        },
                        "type": "contourcarpet"
                      }
                    ],
                    "heatmap": [
                      {
                        "colorbar": {
                          "outlinewidth": 0,
                          "ticks": ""
                        },
                        "colorscale": [
                          [
                            0,
                            "#0d0887"
                          ],
                          [
                            0.1111111111111111,
                            "#46039f"
                          ],
                          [
                            0.2222222222222222,
                            "#7201a8"
                          ],
                          [
                            0.3333333333333333,
                            "#9c179e"
                          ],
                          [
                            0.4444444444444444,
                            "#bd3786"
                          ],
                          [
                            0.5555555555555556,
                            "#d8576b"
                          ],
                          [
                            0.6666666666666666,
                            "#ed7953"
                          ],
                          [
                            0.7777777777777778,
                            "#fb9f3a"
                          ],
                          [
                            0.8888888888888888,
                            "#fdca26"
                          ],
                          [
                            1,
                            "#f0f921"
                          ]
                        ],
                        "type": "heatmap"
                      }
                    ],
                    "heatmapgl": [
                      {
                        "colorbar": {
                          "outlinewidth": 0,
                          "ticks": ""
                        },
                        "colorscale": [
                          [
                            0,
                            "#0d0887"
                          ],
                          [
                            0.1111111111111111,
                            "#46039f"
                          ],
                          [
                            0.2222222222222222,
                            "#7201a8"
                          ],
                          [
                            0.3333333333333333,
                            "#9c179e"
                          ],
                          [
                            0.4444444444444444,
                            "#bd3786"
                          ],
                          [
                            0.5555555555555556,
                            "#d8576b"
                          ],
                          [
                            0.6666666666666666,
                            "#ed7953"
                          ],
                          [
                            0.7777777777777778,
                            "#fb9f3a"
                          ],
                          [
                            0.8888888888888888,
                            "#fdca26"
                          ],
                          [
                            1,
                            "#f0f921"
                          ]
                        ],
                        "type": "heatmapgl"
                      }
                    ],
                    "histogram": [
                      {
                        "marker": {
                          "pattern": {
                            "fillmode": "overlay",
                            "size": 10,
                            "solidity": 0.2
                          }
                        },
                        "type": "histogram"
                      }
                    ],
                    "histogram2d": [
                      {
                        "colorbar": {
                          "outlinewidth": 0,
                          "ticks": ""
                        },
                        "colorscale": [
                          [
                            0,
                            "#0d0887"
                          ],
                          [
                            0.1111111111111111,
                            "#46039f"
                          ],
                          [
                            0.2222222222222222,
                            "#7201a8"
                          ],
                          [
                            0.3333333333333333,
                            "#9c179e"
                          ],
                          [
                            0.4444444444444444,
                            "#bd3786"
                          ],
                          [
                            0.5555555555555556,
                            "#d8576b"
                          ],
                          [
                            0.6666666666666666,
                            "#ed7953"
                          ],
                          [
                            0.7777777777777778,
                            "#fb9f3a"
                          ],
                          [
                            0.8888888888888888,
                            "#fdca26"
                          ],
                          [
                            1,
                            "#f0f921"
                          ]
                        ],
                        "type": "histogram2d"
                      }
                    ],
                    "histogram2dcontour": [
                      {
                        "colorbar": {
                          "outlinewidth": 0,
                          "ticks": ""
                        },
                        "colorscale": [
                          [
                            0,
                            "#0d0887"
                          ],
                          [
                            0.1111111111111111,
                            "#46039f"
                          ],
                          [
                            0.2222222222222222,
                            "#7201a8"
                          ],
                          [
                            0.3333333333333333,
                            "#9c179e"
                          ],
                          [
                            0.4444444444444444,
                            "#bd3786"
                          ],
                          [
                            0.5555555555555556,
                            "#d8576b"
                          ],
                          [
                            0.6666666666666666,
                            "#ed7953"
                          ],
                          [
                            0.7777777777777778,
                            "#fb9f3a"
                          ],
                          [
                            0.8888888888888888,
                            "#fdca26"
                          ],
                          [
                            1,
                            "#f0f921"
                          ]
                        ],
                        "type": "histogram2dcontour"
                      }
                    ],
                    "mesh3d": [
                      {
                        "colorbar": {
                          "outlinewidth": 0,
                          "ticks": ""
                        },
                        "type": "mesh3d"
                      }
                    ],
                    "parcoords": [
                      {
                        "line": {
                          "colorbar": {
                            "outlinewidth": 0,
                            "ticks": ""
                          }
                        },
                        "type": "parcoords"
                      }
                    ],
                    "pie": [
                      {
                        "automargin": true,
                        "type": "pie"
                      }
                    ],
                    "scatter": [
                      {
                        "fillpattern": {
                          "fillmode": "overlay",
                          "size": 10,
                          "solidity": 0.2
                        },
                        "type": "scatter"
                      }
                    ],
                    "scatter3d": [
                      {
                        "line": {
                          "colorbar": {
                            "outlinewidth": 0,
                            "ticks": ""
                          }
                        },
                        "marker": {
                          "colorbar": {
                            "outlinewidth": 0,
                            "ticks": ""
                          }
                        },
                        "type": "scatter3d"
                      }
                    ],
                    "scattercarpet": [
                      {
                        "marker": {
                          "colorbar": {
                            "outlinewidth": 0,
                            "ticks": ""
                          }
                        },
                        "type": "scattercarpet"
                      }
                    ],
                    "scattergeo": [
                      {
                        "marker": {
                          "colorbar": {
                            "outlinewidth": 0,
                            "ticks": ""
                          }
                        },
                        "type": "scattergeo"
                      }
                    ],
                    "scattergl": [
                      {
                        "marker": {
                          "colorbar": {
                            "outlinewidth": 0,
                            "ticks": ""
                          }
                        },
                        "type": "scattergl"
                      }
                    ],
                    "scattermapbox": [
                      {
                        "marker": {
                          "colorbar": {
                            "outlinewidth": 0,
                            "ticks": ""
                          }
                        },
                        "type": "scattermapbox"
                      }
                    ],
                    "scatterpolar": [
                      {
                        "marker": {
                          "colorbar": {
                            "outlinewidth": 0,
                            "ticks": ""
                          }
                        },
                        "type": "scatterpolar"
                      }
                    ],
                    "scatterpolargl": [
                      {
                        "marker": {
                          "colorbar": {
                            "outlinewidth": 0,
                            "ticks": ""
                          }
                        },
                        "type": "scatterpolargl"
                      }
                    ],
                    "scatterternary": [
                      {
                        "marker": {
                          "colorbar": {
                            "outlinewidth": 0,
                            "ticks": ""
                          }
                        },
                        "type": "scatterternary"
                      }
                    ],
                    "surface": [
                      {
                        "colorbar": {
                          "outlinewidth": 0,
                          "ticks": ""
                        },
                        "colorscale": [
                          [
                            0,
                            "#0d0887"
                          ],
                          [
                            0.1111111111111111,
                            "#46039f"
                          ],
                          [
                            0.2222222222222222,
                            "#7201a8"
                          ],
                          [
                            0.3333333333333333,
                            "#9c179e"
                          ],
                          [
                            0.4444444444444444,
                            "#bd3786"
                          ],
                          [
                            0.5555555555555556,
                            "#d8576b"
                          ],
                          [
                            0.6666666666666666,
                            "#ed7953"
                          ],
                          [
                            0.7777777777777778,
                            "#fb9f3a"
                          ],
                          [
                            0.8888888888888888,
                            "#fdca26"
                          ],
                          [
                            1,
                            "#f0f921"
                          ]
                        ],
                        "type": "surface"
                      }
                    ],
                    "table": [
                      {
                        "cells": {
                          "fill": {
                            "color": "#EBF0F8"
                          },
                          "line": {
                            "color": "white"
                          }
                        },
                        "header": {
                          "fill": {
                            "color": "#C8D4E3"
                          },
                          "line": {
                            "color": "white"
                          }
                        },
                        "type": "table"
                      }
                    ]
                  },
                  "layout": {
                    "annotationdefaults": {
                      "arrowcolor": "#2a3f5f",
                      "arrowhead": 0,
                      "arrowwidth": 1
                    },
                    "autotypenumbers": "strict",
                    "coloraxis": {
                      "colorbar": {
                        "outlinewidth": 0,
                        "ticks": ""
                      }
                    },
                    "colorscale": {
                      "diverging": [
                        [
                          0,
                          "#8e0152"
                        ],
                        [
                          0.1,
                          "#c51b7d"
                        ],
                        [
                          0.2,
                          "#de77ae"
                        ],
                        [
                          0.3,
                          "#f1b6da"
                        ],
                        [
                          0.4,
                          "#fde0ef"
                        ],
                        [
                          0.5,
                          "#f7f7f7"
                        ],
                        [
                          0.6,
                          "#e6f5d0"
                        ],
                        [
                          0.7,
                          "#b8e186"
                        ],
                        [
                          0.8,
                          "#7fbc41"
                        ],
                        [
                          0.9,
                          "#4d9221"
                        ],
                        [
                          1,
                          "#276419"
                        ]
                      ],
                      "sequential": [
                        [
                          0,
                          "#0d0887"
                        ],
                        [
                          0.1111111111111111,
                          "#46039f"
                        ],
                        [
                          0.2222222222222222,
                          "#7201a8"
                        ],
                        [
                          0.3333333333333333,
                          "#9c179e"
                        ],
                        [
                          0.4444444444444444,
                          "#bd3786"
                        ],
                        [
                          0.5555555555555556,
                          "#d8576b"
                        ],
                        [
                          0.6666666666666666,
                          "#ed7953"
                        ],
                        [
                          0.7777777777777778,
                          "#fb9f3a"
                        ],
                        [
                          0.8888888888888888,
                          "#fdca26"
                        ],
                        [
                          1,
                          "#f0f921"
                        ]
                      ],
                      "sequentialminus": [
                        [
                          0,
                          "#0d0887"
                        ],
                        [
                          0.1111111111111111,
                          "#46039f"
                        ],
                        [
                          0.2222222222222222,
                          "#7201a8"
                        ],
                        [
                          0.3333333333333333,
                          "#9c179e"
                        ],
                        [
                          0.4444444444444444,
                          "#bd3786"
                        ],
                        [
                          0.5555555555555556,
                          "#d8576b"
                        ],
                        [
                          0.6666666666666666,
                          "#ed7953"
                        ],
                        [
                          0.7777777777777778,
                          "#fb9f3a"
                        ],
                        [
                          0.8888888888888888,
                          "#fdca26"
                        ],
                        [
                          1,
                          "#f0f921"
                        ]
                      ]
                    },
                    "colorway": [
                      "#636efa",
                      "#EF553B",
                      "#00cc96",
                      "#ab63fa",
                      "#FFA15A",
                      "#19d3f3",
                      "#FF6692",
                      "#B6E880",
                      "#FF97FF",
                      "#FECB52"
                    ],
                    "font": {
                      "color": "#2a3f5f"
                    },
                    "geo": {
                      "bgcolor": "white",
                      "lakecolor": "white",
                      "landcolor": "#E5ECF6",
                      "showlakes": true,
                      "showland": true,
                      "subunitcolor": "white"
                    },
                    "hoverlabel": {
                      "align": "left"
                    },
                    "hovermode": "closest",
                    "mapbox": {
                      "style": "light"
                    },
                    "paper_bgcolor": "white",
                    "plot_bgcolor": "#E5ECF6",
                    "polar": {
                      "angularaxis": {
                        "gridcolor": "white",
                        "linecolor": "white",
                        "ticks": ""
                      },
                      "bgcolor": "#E5ECF6",
                      "radialaxis": {
                        "gridcolor": "white",
                        "linecolor": "white",
                        "ticks": ""
                      }
                    },
                    "scene": {
                      "xaxis": {
                        "backgroundcolor": "#E5ECF6",
                        "gridcolor": "white",
                        "gridwidth": 2,
                        "linecolor": "white",
                        "showbackground": true,
                        "ticks": "",
                        "zerolinecolor": "white"
                      },
                      "yaxis": {
                        "backgroundcolor": "#E5ECF6",
                        "gridcolor": "white",
                        "gridwidth": 2,
                        "linecolor": "white",
                        "showbackground": true,
                        "ticks": "",
                        "zerolinecolor": "white"
                      },
                      "zaxis": {
                        "backgroundcolor": "#E5ECF6",
                        "gridcolor": "white",
                        "gridwidth": 2,
                        "linecolor": "white",
                        "showbackground": true,
                        "ticks": "",
                        "zerolinecolor": "white"
                      }
                    },
                    "shapedefaults": {
                      "line": {
                        "color": "#2a3f5f"
                      }
                    },
                    "ternary": {
                      "aaxis": {
                        "gridcolor": "white",
                        "linecolor": "white",
                        "ticks": ""
                      },
                      "baxis": {
                        "gridcolor": "white",
                        "linecolor": "white",
                        "ticks": ""
                      },
                      "bgcolor": "#E5ECF6",
                      "caxis": {
                        "gridcolor": "white",
                        "linecolor": "white",
                        "ticks": ""
                      }
                    },
                    "title": {
                      "x": 0.05
                    },
                    "xaxis": {
                      "automargin": true,
                      "gridcolor": "white",
                      "linecolor": "white",
                      "ticks": "",
                      "title": {
                        "standoff": 15
                      },
                      "zerolinecolor": "white",
                      "zerolinewidth": 2
                    },
                    "yaxis": {
                      "automargin": true,
                      "gridcolor": "white",
                      "linecolor": "white",
                      "ticks": "",
                      "title": {
                        "standoff": 15
                      },
                      "zerolinecolor": "white",
                      "zerolinewidth": 2
                    }
                  }
                },
                "title": {
                  "text": "Evolucion de la loudness"
                },
                "xaxis": {
                  "ticklen": 0.05,
                  "ticks": "outside",
                  "tickson": "boundaries",
                  "title": {
                    "text": ""
                  }
                },
                "yaxis": {
                  "title": {
                    "text": "instrumentalness"
                  }
                }
              }
            },
            "text/html": [
              "<div>                            <div id=\"39d664a9-38d9-4841-ba52-a1974591ed2f\" class=\"plotly-graph-div\" style=\"height:525px; width:100%;\"></div>            <script type=\"text/javascript\">                require([\"plotly\"], function(Plotly) {                    window.PLOTLYENV=window.PLOTLYENV || {};                                    if (document.getElementById(\"39d664a9-38d9-4841-ba52-a1974591ed2f\")) {                    Plotly.newPlot(                        \"39d664a9-38d9-4841-ba52-a1974591ed2f\",                        [{\"mode\":\"markers\",\"name\":\"loudness\",\"x\":[\"2008-01-01\",\"2013-10-04\",\"2005-06-21\",\"1951\",\"1991-01-20\",\"1996-01-01\",\"2013-10-04\",\"1999-09-28\",\"1949\",\"2003-01-01\",\"2002-07-11\",\"1991-01-01\",\"1991-09-03\",\"2003\",\"2009-01-01\",\"1951\",\"1987-10-26\",\"2003-01-01\",\"2015-07-22\",\"2013-07-24\",\"2013-07-24\",\"2005-01-01\",\"2010-02-05\",\"2005-04-26\",\"2007-05-26\",\"1995-01-01\",\"1960-05-01\",\"1999-09-28\",\"1999-09-28\",\"1958\",\"2012-01-23\",\"1999-09-28\",\"1989-08-08\",\"2013-03-19\",\"1994-01-01\",\"2005-06-21\",\"2012-01-23\",\"1948\",\"2010-04-20\",\"2010-05-28\",\"2005\",\"1989-06-13\",\"2004-01-01\",\"1960-05-01\",\"2001-01-01\",\"2012-01-23\",\"2013-03-31\",\"1964-01-01\",\"1996-01-01\",\"2002-09-24\",\"2002-09-24\",\"1997-01-01\",\"1991-01-01\",\"2011-01-19\",\"1957-01-01\",\"1992-09-29\",\"2002-09-24\",\"1964\",\"2012-01-23\",\"2007\",\"1964-01-01\",\"1973-01-01\",\"2012-01-23\",\"2015-01-14\",\"1993-01-01\",\"2013-04-19\",\"2006-01-01\",\"2002-09-24\",\"1999-09-28\",\"2015-04-16\",\"1964-08-01\",\"2002-09-24\",\"2014-10-20\",\"1999-07-27\",\"2013-02-06\",\"1999-09-28\",\"1994-04-19\",\"1997-01-01\",\"2012-01-01\",\"1956\",\"2004-11-23\",\"1994-01-01\",\"2002-01-01\",\"2000-10-03\",\"2004-11-23\",\"1996-01-30\",\"1993-01-01\",\"1959\",\"1993-01-01\",\"1989-06-13\",\"1997-02-14\",\"1962-06-01\",\"2013-09-01\",\"2003-01-01\",\"2012-01-23\",\"2002-09-24\",\"2011-09-16\",\"2002-09-24\",\"2005-01-01\"],\"y\":[-14.45,-13.28,-8.89,-7.168,-15.264,-9.033,-13.062,-12.024,-13.514,-12.204,-22.657,-10.278,-15.5,-8.176,-13.354,-12.016,-14.708,-11.993,-7.981,-12.419,-17.839,-19.042,-11.688,-6.531,-11.213,-17.648,-14.049,-11.615,-11.558,-18.598,-15.224,-11.221,-20.216,-5.729,-9.26,-11.846,-13.054,-14.317,-10.308,-13.887,-11.594,-10.846,-8.887,-13.017,-20.678,-14.136,-16.79,-5.249,-11.1,-8.672,-7.998,-13.972,-10.975,-11.989,-5.408,-13.211,-4.123,-15.977,-13.063,-6.853,-9.957,-11.598,-13.201,-10.926,-10.733,-8.176,-16.097,-5.607,-12.856,-11.263,-8.172,-12.559,-5.648,-5.979,-12.745,-15.412,-9.912,-17.523,-17.529,-11.783,-12.291,-8.936,-12.976,-9.923,-1.692,-10.113,-18.478,-6.453,-17.475,-15.144,-15.846,-8.961,-14.679,-12.426,-14.342,-9.312,-7.519,-7.389,-7.13],\"type\":\"scatter\"},{\"mode\":\"markers\",\"name\":\"loudness\",\"x\":[\"2021-12-14\",\"2014-02-18\",\"1997-08-28\",\"2015-11-18\",\"2009-09-28\",\"2017-11-17\",\"2006\",\"2002-07-01\",\"2020-04-03\",\"1982-05-10\",\"2002-01-01\",\"2017-01-20\",\"1999-01-01\",\"2017-01-20\",\"2010-10-12\",\"2021-12-23\",\"2014-01-23\",\"2011-10-28\",\"2017-04-07\",\"2018-02-23\",\"2012-11-05\",\"1970-04-10\",\"2013-01-01\",\"1999-01-12\",\"2006-08-21\",\"2022-04-29\",\"2019-12-27\",\"2001\",\"2016-09-30\",\"2014-04-14\",\"2019-07-05\",\"1959-08-11\",\"1966-01-01\",\"2012-11-05\",\"1970-05-08\",\"2020-12-11\",\"2017-06-23\",\"2009\",\"2011-02-15\",\"1993-02-15\",\"1989-01-01\",\"1983-01-01\",\"1998-03-31\",\"1994-06-22\",\"1997\",\"2016-09-01\",\"2000\",\"2000-07-10\",\"1968-01-01\",\"2008-07-28\",\"2021-12-14\",\"2002-01-01\",\"1999-01-12\",\"2014-02-18\",\"2006-08-21\",\"2017-11-17\",\"1970-04-10\",\"1989-02-22\",\"2015-11-18\",\"1970-05-08\",\"1985-06-01\",\"2016-09-01\",\"1964\",\"1999-01-01\",\"2016-09-01\",\"2009\",\"2021-12-23\",\"2001-04-03\",\"2007-02-18\",\"1998-03-31\",\"1983-01-01\",\"2015-04-27\",\"2002-07-01\",\"1997-04-13\",\"1997-08-28\",\"2009-09-28\",\"1994-06-22\",\"2016-09-01\",\"2015-06-02\",\"2004-10-19\",\"2008-01-01\",\"1982-05-10\",\"2018-04-20\",\"2006\",\"2018-04-17\",\"1962-08-20\",\"1972\",\"2015-11-13\",\"2020-04-08\",\"2008-10-21\",\"1988\",\"2020-06-12\",\"1967-12-31\",\"1976\",\"1993-07-27\",\"1975-01-01\",\"2014-04-28\",\"2017-11-10\",\"2012-09-18\",\"1994-03-08\",\"2020-08-14\",\"2021-12-23\",\"2014-02-18\",\"2017-11-17\",\"2008-01-01\",\"1989-02-22\",\"1998-03-31\",\"2008-10-21\",\"1977-09-16\",\"2015-11-18\",\"2009\",\"1999-01-12\",\"2006-08-21\",\"2021-12-14\",\"2007-02-18\",\"2015-06-02\",\"1982-05-10\",\"2020-06-12\",\"2019-09-13\",\"2016-09-01\",\"2009-09-28\",\"2002-01-01\",\"2006-04-24\",\"2021-01-22\",\"2004-10-19\",\"2004\",\"1983-01-01\",\"1967-12-31\",\"2020-04-08\",\"1997-04-13\",\"2000-11-13\",\"2015-11-13\",\"1997-11-17\",\"2020-04-17\",\"2006-10-31\",\"1985-06-01\",\"2001-10-08\",\"1984-10-15\",\"1981\",\"1992-01-01\",\"1970-04-10\",\"1988\",\"1970-05-08\",\"2009-06-19\",\"2018-04-17\",\"2004-06-16\",\"2016-07-01\",\"2016-09-01\",\"2002-07-01\",\"1975-01-01\"],\"y\":[-6.621,-6.574,-4.875,-4.886,-5.068,-12.016,-13.964,-4.917,-9.856,-9.174,-7.636,-5.555,-6.711,-6.383,-12.02,-6.399,-6.863,-20.096,-9.137,-8.017,-2.707,-11.028,-6.786,-5.745,-4.557,-5.494,-6.555,-8.058,-4.874,-7.001,-6.744,-12.41,-18.791,-2.065,-8.339,-7.731,-5.869,-5.785,-7.743,-10.171,-10.851,-4.265,-10.61,-9.313,-12.568,-6.048,-8.023,-7.496,-3.204,-5.926,-6.621,-7.636,-5.745,-6.574,-4.557,-12.016,-11.028,-4.147,-4.886,-8.339,-7.638,-6.048,-11.251,-6.711,-6.328,-5.785,-6.399,-9.216,-7.855,-10.61,-4.265,-6.837,-4.917,-7.159,-4.875,-5.068,-9.313,-6.466,-7.632,-1.849,-8.931,-9.174,-6.176,-13.964,-5.573,-9.443,-16.551,-8.392,-5.427,-5.884,-8.013,-8.497,-6.395,-13.206,-11.499,-8.085,-6.526,-5.675,-10.581,-18.166,-6.584,-6.399,-6.574,-12.016,-8.931,-4.147,-10.61,-5.884,-8.123,-4.886,-5.785,-5.745,-4.557,-6.621,-7.855,-7.632,-9.174,-8.497,-7.76,-6.048,-5.068,-7.636,-4.589,-9.631,-1.849,-6.856,-4.265,-6.395,-5.427,-7.159,-10.873,-8.392,-4.221,-11.696,-7.349,-7.638,-6.694,-10.616,-9.072,-10.044,-11.028,-8.013,-8.339,-4.216,-5.573,-4.845,-5.26,-6.328,-4.917,-8.085],\"type\":\"scatter\"}],                        {\"title\":{\"text\":\"Evolucion de la loudness\"},\"xaxis\":{\"ticklen\":0.05,\"ticks\":\"outside\",\"tickson\":\"boundaries\",\"title\":{\"text\":\"\"}},\"template\":{\"data\":{\"histogram2dcontour\":[{\"type\":\"histogram2dcontour\",\"colorbar\":{\"outlinewidth\":0,\"ticks\":\"\"},\"colorscale\":[[0.0,\"#0d0887\"],[0.1111111111111111,\"#46039f\"],[0.2222222222222222,\"#7201a8\"],[0.3333333333333333,\"#9c179e\"],[0.4444444444444444,\"#bd3786\"],[0.5555555555555556,\"#d8576b\"],[0.6666666666666666,\"#ed7953\"],[0.7777777777777778,\"#fb9f3a\"],[0.8888888888888888,\"#fdca26\"],[1.0,\"#f0f921\"]]}],\"choropleth\":[{\"type\":\"choropleth\",\"colorbar\":{\"outlinewidth\":0,\"ticks\":\"\"}}],\"histogram2d\":[{\"type\":\"histogram2d\",\"colorbar\":{\"outlinewidth\":0,\"ticks\":\"\"},\"colorscale\":[[0.0,\"#0d0887\"],[0.1111111111111111,\"#46039f\"],[0.2222222222222222,\"#7201a8\"],[0.3333333333333333,\"#9c179e\"],[0.4444444444444444,\"#bd3786\"],[0.5555555555555556,\"#d8576b\"],[0.6666666666666666,\"#ed7953\"],[0.7777777777777778,\"#fb9f3a\"],[0.8888888888888888,\"#fdca26\"],[1.0,\"#f0f921\"]]}],\"heatmap\":[{\"type\":\"heatmap\",\"colorbar\":{\"outlinewidth\":0,\"ticks\":\"\"},\"colorscale\":[[0.0,\"#0d0887\"],[0.1111111111111111,\"#46039f\"],[0.2222222222222222,\"#7201a8\"],[0.3333333333333333,\"#9c179e\"],[0.4444444444444444,\"#bd3786\"],[0.5555555555555556,\"#d8576b\"],[0.6666666666666666,\"#ed7953\"],[0.7777777777777778,\"#fb9f3a\"],[0.8888888888888888,\"#fdca26\"],[1.0,\"#f0f921\"]]}],\"heatmapgl\":[{\"type\":\"heatmapgl\",\"colorbar\":{\"outlinewidth\":0,\"ticks\":\"\"},\"colorscale\":[[0.0,\"#0d0887\"],[0.1111111111111111,\"#46039f\"],[0.2222222222222222,\"#7201a8\"],[0.3333333333333333,\"#9c179e\"],[0.4444444444444444,\"#bd3786\"],[0.5555555555555556,\"#d8576b\"],[0.6666666666666666,\"#ed7953\"],[0.7777777777777778,\"#fb9f3a\"],[0.8888888888888888,\"#fdca26\"],[1.0,\"#f0f921\"]]}],\"contourcarpet\":[{\"type\":\"contourcarpet\",\"colorbar\":{\"outlinewidth\":0,\"ticks\":\"\"}}],\"contour\":[{\"type\":\"contour\",\"colorbar\":{\"outlinewidth\":0,\"ticks\":\"\"},\"colorscale\":[[0.0,\"#0d0887\"],[0.1111111111111111,\"#46039f\"],[0.2222222222222222,\"#7201a8\"],[0.3333333333333333,\"#9c179e\"],[0.4444444444444444,\"#bd3786\"],[0.5555555555555556,\"#d8576b\"],[0.6666666666666666,\"#ed7953\"],[0.7777777777777778,\"#fb9f3a\"],[0.8888888888888888,\"#fdca26\"],[1.0,\"#f0f921\"]]}],\"surface\":[{\"type\":\"surface\",\"colorbar\":{\"outlinewidth\":0,\"ticks\":\"\"},\"colorscale\":[[0.0,\"#0d0887\"],[0.1111111111111111,\"#46039f\"],[0.2222222222222222,\"#7201a8\"],[0.3333333333333333,\"#9c179e\"],[0.4444444444444444,\"#bd3786\"],[0.5555555555555556,\"#d8576b\"],[0.6666666666666666,\"#ed7953\"],[0.7777777777777778,\"#fb9f3a\"],[0.8888888888888888,\"#fdca26\"],[1.0,\"#f0f921\"]]}],\"mesh3d\":[{\"type\":\"mesh3d\",\"colorbar\":{\"outlinewidth\":0,\"ticks\":\"\"}}],\"scatter\":[{\"fillpattern\":{\"fillmode\":\"overlay\",\"size\":10,\"solidity\":0.2},\"type\":\"scatter\"}],\"parcoords\":[{\"type\":\"parcoords\",\"line\":{\"colorbar\":{\"outlinewidth\":0,\"ticks\":\"\"}}}],\"scatterpolargl\":[{\"type\":\"scatterpolargl\",\"marker\":{\"colorbar\":{\"outlinewidth\":0,\"ticks\":\"\"}}}],\"bar\":[{\"error_x\":{\"color\":\"#2a3f5f\"},\"error_y\":{\"color\":\"#2a3f5f\"},\"marker\":{\"line\":{\"color\":\"#E5ECF6\",\"width\":0.5},\"pattern\":{\"fillmode\":\"overlay\",\"size\":10,\"solidity\":0.2}},\"type\":\"bar\"}],\"scattergeo\":[{\"type\":\"scattergeo\",\"marker\":{\"colorbar\":{\"outlinewidth\":0,\"ticks\":\"\"}}}],\"scatterpolar\":[{\"type\":\"scatterpolar\",\"marker\":{\"colorbar\":{\"outlinewidth\":0,\"ticks\":\"\"}}}],\"histogram\":[{\"marker\":{\"pattern\":{\"fillmode\":\"overlay\",\"size\":10,\"solidity\":0.2}},\"type\":\"histogram\"}],\"scattergl\":[{\"type\":\"scattergl\",\"marker\":{\"colorbar\":{\"outlinewidth\":0,\"ticks\":\"\"}}}],\"scatter3d\":[{\"type\":\"scatter3d\",\"line\":{\"colorbar\":{\"outlinewidth\":0,\"ticks\":\"\"}},\"marker\":{\"colorbar\":{\"outlinewidth\":0,\"ticks\":\"\"}}}],\"scattermapbox\":[{\"type\":\"scattermapbox\",\"marker\":{\"colorbar\":{\"outlinewidth\":0,\"ticks\":\"\"}}}],\"scatterternary\":[{\"type\":\"scatterternary\",\"marker\":{\"colorbar\":{\"outlinewidth\":0,\"ticks\":\"\"}}}],\"scattercarpet\":[{\"type\":\"scattercarpet\",\"marker\":{\"colorbar\":{\"outlinewidth\":0,\"ticks\":\"\"}}}],\"carpet\":[{\"aaxis\":{\"endlinecolor\":\"#2a3f5f\",\"gridcolor\":\"white\",\"linecolor\":\"white\",\"minorgridcolor\":\"white\",\"startlinecolor\":\"#2a3f5f\"},\"baxis\":{\"endlinecolor\":\"#2a3f5f\",\"gridcolor\":\"white\",\"linecolor\":\"white\",\"minorgridcolor\":\"white\",\"startlinecolor\":\"#2a3f5f\"},\"type\":\"carpet\"}],\"table\":[{\"cells\":{\"fill\":{\"color\":\"#EBF0F8\"},\"line\":{\"color\":\"white\"}},\"header\":{\"fill\":{\"color\":\"#C8D4E3\"},\"line\":{\"color\":\"white\"}},\"type\":\"table\"}],\"barpolar\":[{\"marker\":{\"line\":{\"color\":\"#E5ECF6\",\"width\":0.5},\"pattern\":{\"fillmode\":\"overlay\",\"size\":10,\"solidity\":0.2}},\"type\":\"barpolar\"}],\"pie\":[{\"automargin\":true,\"type\":\"pie\"}]},\"layout\":{\"autotypenumbers\":\"strict\",\"colorway\":[\"#636efa\",\"#EF553B\",\"#00cc96\",\"#ab63fa\",\"#FFA15A\",\"#19d3f3\",\"#FF6692\",\"#B6E880\",\"#FF97FF\",\"#FECB52\"],\"font\":{\"color\":\"#2a3f5f\"},\"hovermode\":\"closest\",\"hoverlabel\":{\"align\":\"left\"},\"paper_bgcolor\":\"white\",\"plot_bgcolor\":\"#E5ECF6\",\"polar\":{\"bgcolor\":\"#E5ECF6\",\"angularaxis\":{\"gridcolor\":\"white\",\"linecolor\":\"white\",\"ticks\":\"\"},\"radialaxis\":{\"gridcolor\":\"white\",\"linecolor\":\"white\",\"ticks\":\"\"}},\"ternary\":{\"bgcolor\":\"#E5ECF6\",\"aaxis\":{\"gridcolor\":\"white\",\"linecolor\":\"white\",\"ticks\":\"\"},\"baxis\":{\"gridcolor\":\"white\",\"linecolor\":\"white\",\"ticks\":\"\"},\"caxis\":{\"gridcolor\":\"white\",\"linecolor\":\"white\",\"ticks\":\"\"}},\"coloraxis\":{\"colorbar\":{\"outlinewidth\":0,\"ticks\":\"\"}},\"colorscale\":{\"sequential\":[[0.0,\"#0d0887\"],[0.1111111111111111,\"#46039f\"],[0.2222222222222222,\"#7201a8\"],[0.3333333333333333,\"#9c179e\"],[0.4444444444444444,\"#bd3786\"],[0.5555555555555556,\"#d8576b\"],[0.6666666666666666,\"#ed7953\"],[0.7777777777777778,\"#fb9f3a\"],[0.8888888888888888,\"#fdca26\"],[1.0,\"#f0f921\"]],\"sequentialminus\":[[0.0,\"#0d0887\"],[0.1111111111111111,\"#46039f\"],[0.2222222222222222,\"#7201a8\"],[0.3333333333333333,\"#9c179e\"],[0.4444444444444444,\"#bd3786\"],[0.5555555555555556,\"#d8576b\"],[0.6666666666666666,\"#ed7953\"],[0.7777777777777778,\"#fb9f3a\"],[0.8888888888888888,\"#fdca26\"],[1.0,\"#f0f921\"]],\"diverging\":[[0,\"#8e0152\"],[0.1,\"#c51b7d\"],[0.2,\"#de77ae\"],[0.3,\"#f1b6da\"],[0.4,\"#fde0ef\"],[0.5,\"#f7f7f7\"],[0.6,\"#e6f5d0\"],[0.7,\"#b8e186\"],[0.8,\"#7fbc41\"],[0.9,\"#4d9221\"],[1,\"#276419\"]]},\"xaxis\":{\"gridcolor\":\"white\",\"linecolor\":\"white\",\"ticks\":\"\",\"title\":{\"standoff\":15},\"zerolinecolor\":\"white\",\"automargin\":true,\"zerolinewidth\":2},\"yaxis\":{\"gridcolor\":\"white\",\"linecolor\":\"white\",\"ticks\":\"\",\"title\":{\"standoff\":15},\"zerolinecolor\":\"white\",\"automargin\":true,\"zerolinewidth\":2},\"scene\":{\"xaxis\":{\"backgroundcolor\":\"#E5ECF6\",\"gridcolor\":\"white\",\"linecolor\":\"white\",\"showbackground\":true,\"ticks\":\"\",\"zerolinecolor\":\"white\",\"gridwidth\":2},\"yaxis\":{\"backgroundcolor\":\"#E5ECF6\",\"gridcolor\":\"white\",\"linecolor\":\"white\",\"showbackground\":true,\"ticks\":\"\",\"zerolinecolor\":\"white\",\"gridwidth\":2},\"zaxis\":{\"backgroundcolor\":\"#E5ECF6\",\"gridcolor\":\"white\",\"linecolor\":\"white\",\"showbackground\":true,\"ticks\":\"\",\"zerolinecolor\":\"white\",\"gridwidth\":2}},\"shapedefaults\":{\"line\":{\"color\":\"#2a3f5f\"}},\"annotationdefaults\":{\"arrowcolor\":\"#2a3f5f\",\"arrowhead\":0,\"arrowwidth\":1},\"geo\":{\"bgcolor\":\"white\",\"landcolor\":\"#E5ECF6\",\"subunitcolor\":\"white\",\"showland\":true,\"showlakes\":true,\"lakecolor\":\"white\"},\"title\":{\"x\":0.05},\"mapbox\":{\"style\":\"light\"}}},\"yaxis\":{\"title\":{\"text\":\"instrumentalness\"}}},                        {\"responsive\": true}                    ).then(function(){\n",
              "                            \n",
              "var gd = document.getElementById('39d664a9-38d9-4841-ba52-a1974591ed2f');\n",
              "var x = new MutationObserver(function (mutations, observer) {{\n",
              "        var display = window.getComputedStyle(gd).display;\n",
              "        if (!display || display === 'none') {{\n",
              "            console.log([gd, 'removed!']);\n",
              "            Plotly.purge(gd);\n",
              "            observer.disconnect();\n",
              "        }}\n",
              "}});\n",
              "\n",
              "// Listen for the removal of the full notebook cells\n",
              "var notebookContainer = gd.closest('#notebook-container');\n",
              "if (notebookContainer) {{\n",
              "    x.observe(notebookContainer, {childList: true});\n",
              "}}\n",
              "\n",
              "// Listen for the clearing of the current output cell\n",
              "var outputEl = gd.closest('.output');\n",
              "if (outputEl) {{\n",
              "    x.observe(outputEl, {childList: true});\n",
              "}}\n",
              "\n",
              "                        })                };                });            </script>        </div>"
            ]
          },
          "metadata": {},
          "output_type": "display_data"
        }
      ],
      "source": [
        "trace1 = go.Scatter(x=dfAll[\"release_date\"], y=dfAll[\"loudness\"], name=\"loudness\", mode=\"markers\")\n",
        "trace2 = go.Scatter(x=dfPersonal[\"release_date\"], y=dfPersonal[\"loudness\"], name=\"loudness\", mode=\"markers\")\n",
        "# Creating trace1\n",
        "\n",
        "data = [trace1,trace2]\n",
        "\n",
        "layout = dict(title = 'Evolucion de la loudness',\n",
        "             xaxis= dict(title= '',ticklen=.05, ticks=\"outside\", tickson=\"boundaries\"), \n",
        "           )\n",
        "\n",
        "fig = go.Figure(data = data, layout=layout)\n",
        "\n",
        "fig.update_yaxes(title_text=\"instrumentalness\")\n",
        "\n",
        "fig.show()\n",
        "\n",
        "\n",
        "\n",
        "\n"
      ]
    },
    {
      "cell_type": "code",
      "execution_count": null,
      "metadata": {},
      "outputs": [],
      "source": []
    },
    {
      "cell_type": "code",
      "execution_count": 75,
      "metadata": {},
      "outputs": [],
      "source": [
        "dfGenres = dfGenres.sort_values(by=0,axis=1, ascending=False)"
      ]
    },
    {
      "cell_type": "code",
      "execution_count": 279,
      "metadata": {},
      "outputs": [
        {
          "data": {
            "text/html": [
              "<div>\n",
              "<style scoped>\n",
              "    .dataframe tbody tr th:only-of-type {\n",
              "        vertical-align: middle;\n",
              "    }\n",
              "\n",
              "    .dataframe tbody tr th {\n",
              "        vertical-align: top;\n",
              "    }\n",
              "\n",
              "    .dataframe thead th {\n",
              "        text-align: right;\n",
              "    }\n",
              "</style>\n",
              "<table border=\"1\" class=\"dataframe\">\n",
              "  <thead>\n",
              "    <tr style=\"text-align: right;\">\n",
              "      <th></th>\n",
              "      <th>adult standards</th>\n",
              "      <th>bubblegum pop</th>\n",
              "      <th>rockabilly</th>\n",
              "      <th>rock-and-roll</th>\n",
              "      <th>rhythm and blues</th>\n",
              "      <th>doo-wop</th>\n",
              "      <th>lounge</th>\n",
              "      <th>deep adult standards</th>\n",
              "      <th>sunshine pop</th>\n",
              "      <th>mellow gold</th>\n",
              "      <th>...</th>\n",
              "      <th>exotica</th>\n",
              "      <th>library music</th>\n",
              "      <th>laboratorio</th>\n",
              "      <th>classic soundtrack</th>\n",
              "      <th>movie tunes</th>\n",
              "      <th>soft rock</th>\n",
              "      <th>canadian country</th>\n",
              "      <th>american modern classical</th>\n",
              "      <th>folk</th>\n",
              "      <th>american folk revival</th>\n",
              "    </tr>\n",
              "  </thead>\n",
              "  <tbody>\n",
              "    <tr>\n",
              "      <th>0</th>\n",
              "      <td>99</td>\n",
              "      <td>99</td>\n",
              "      <td>99</td>\n",
              "      <td>99</td>\n",
              "      <td>97</td>\n",
              "      <td>97</td>\n",
              "      <td>95</td>\n",
              "      <td>93</td>\n",
              "      <td>92</td>\n",
              "      <td>92</td>\n",
              "      <td>...</td>\n",
              "      <td>55</td>\n",
              "      <td>55</td>\n",
              "      <td>55</td>\n",
              "      <td>52</td>\n",
              "      <td>45</td>\n",
              "      <td>34</td>\n",
              "      <td>34</td>\n",
              "      <td>10</td>\n",
              "      <td>5</td>\n",
              "      <td>5</td>\n",
              "    </tr>\n",
              "  </tbody>\n",
              "</table>\n",
              "<p>1 rows × 41 columns</p>\n",
              "</div>"
            ],
            "text/plain": [
              "   adult standards  bubblegum pop  rockabilly  rock-and-roll  \\\n",
              "0               99             99          99             99   \n",
              "\n",
              "   rhythm and blues  doo-wop  lounge  deep adult standards  sunshine pop  \\\n",
              "0                97       97      95                    93            92   \n",
              "\n",
              "   mellow gold  ...  exotica  library music  laboratorio  classic soundtrack  \\\n",
              "0           92  ...       55             55           55                  52   \n",
              "\n",
              "   movie tunes  soft rock  canadian country  american modern classical  folk  \\\n",
              "0           45         34                34                         10     5   \n",
              "\n",
              "   american folk revival  \n",
              "0                      5  \n",
              "\n",
              "[1 rows x 41 columns]"
            ]
          },
          "execution_count": 279,
          "metadata": {},
          "output_type": "execute_result"
        }
      ],
      "source": [
        "dfGenres"
      ]
    },
    {
      "cell_type": "code",
      "execution_count": 74,
      "metadata": {},
      "outputs": [],
      "source": [
        "dfGenresPersonal = dfGenresPersonal.sort_values(by=0,axis=1, ascending=False)"
      ]
    },
    {
      "cell_type": "code",
      "execution_count": 278,
      "metadata": {},
      "outputs": [
        {
          "data": {
            "text/html": [
              "<div>\n",
              "<style scoped>\n",
              "    .dataframe tbody tr th:only-of-type {\n",
              "        vertical-align: middle;\n",
              "    }\n",
              "\n",
              "    .dataframe tbody tr th {\n",
              "        vertical-align: top;\n",
              "    }\n",
              "\n",
              "    .dataframe thead th {\n",
              "        text-align: right;\n",
              "    }\n",
              "</style>\n",
              "<table border=\"1\" class=\"dataframe\">\n",
              "  <thead>\n",
              "    <tr style=\"text-align: right;\">\n",
              "      <th></th>\n",
              "      <th>disco</th>\n",
              "      <th>spanish noise pop</th>\n",
              "      <th>spanish indie pop</th>\n",
              "      <th>spanish electropop</th>\n",
              "      <th>rap latina</th>\n",
              "      <th>instrumental funk</th>\n",
              "      <th>bboy</th>\n",
              "      <th>new rave</th>\n",
              "      <th>baroque pop</th>\n",
              "      <th>rock</th>\n",
              "      <th>...</th>\n",
              "      <th>doo-wop</th>\n",
              "      <th>rhythm and blues</th>\n",
              "      <th>rap marseille</th>\n",
              "      <th>hip-hop experimental</th>\n",
              "      <th>electro swing</th>\n",
              "      <th>nu jazz</th>\n",
              "      <th>urbano espanol</th>\n",
              "      <th>rap canario</th>\n",
              "      <th>chilean rock</th>\n",
              "      <th>dominican pop</th>\n",
              "    </tr>\n",
              "  </thead>\n",
              "  <tbody>\n",
              "    <tr>\n",
              "      <th>0</th>\n",
              "      <td>149</td>\n",
              "      <td>148</td>\n",
              "      <td>148</td>\n",
              "      <td>147</td>\n",
              "      <td>147</td>\n",
              "      <td>146</td>\n",
              "      <td>146</td>\n",
              "      <td>145</td>\n",
              "      <td>145</td>\n",
              "      <td>145</td>\n",
              "      <td>...</td>\n",
              "      <td>23</td>\n",
              "      <td>23</td>\n",
              "      <td>22</td>\n",
              "      <td>22</td>\n",
              "      <td>22</td>\n",
              "      <td>22</td>\n",
              "      <td>21</td>\n",
              "      <td>21</td>\n",
              "      <td>15</td>\n",
              "      <td>13</td>\n",
              "    </tr>\n",
              "  </tbody>\n",
              "</table>\n",
              "<p>1 rows × 164 columns</p>\n",
              "</div>"
            ],
            "text/plain": [
              "   disco  spanish noise pop  spanish indie pop  spanish electropop  \\\n",
              "0    149                148                148                 147   \n",
              "\n",
              "   rap latina  instrumental funk  bboy  new rave  baroque pop  rock  ...  \\\n",
              "0         147                146   146       145          145   145  ...   \n",
              "\n",
              "   doo-wop  rhythm and blues  rap marseille  hip-hop experimental  \\\n",
              "0       23                23             22                    22   \n",
              "\n",
              "   electro swing  nu jazz  urbano espanol  rap canario  chilean rock  \\\n",
              "0             22       22              21           21            15   \n",
              "\n",
              "   dominican pop  \n",
              "0             13  \n",
              "\n",
              "[1 rows x 164 columns]"
            ]
          },
          "execution_count": 278,
          "metadata": {},
          "output_type": "execute_result"
        }
      ],
      "source": [
        "dfGenresPersonal"
      ]
    },
    {
      "cell_type": "code",
      "execution_count": 211,
      "metadata": {},
      "outputs": [
        {
          "data": {
            "text/plain": [
              "<seaborn.axisgrid.FacetGrid at 0x13d37fca670>"
            ]
          },
          "execution_count": 211,
          "metadata": {},
          "output_type": "execute_result"
        },
        {
          "data": {
            "image/png": "[encoded data removed]",
            "text/plain": [
              "<Figure size 1000x500 with 1 Axes>"
            ]
          },
          "metadata": {},
          "output_type": "display_data"
        }
      ],
      "source": [
        " \n",
        "sns.catplot(data = dfGenres.iloc[:,:10], orient=\"h\", kind=\"bar\",height= 5, aspect= 2)\n",
        "\n",
        "#sns.catplot(data = dfGenresPersonal.iloc[:,-10:], orient=\"h\", kind=\"bar\",height= 3, aspect= 1)\n",
        "\n"
      ]
    },
    {
      "attachments": {},
      "cell_type": "markdown",
      "metadata": {},
      "source": [
        "Escucho alguno de los generos mas populares?"
      ]
    },
    {
      "cell_type": "code",
      "execution_count": 275,
      "metadata": {},
      "outputs": [
        {
          "name": "stdout",
          "output_type": "stream",
          "text": [
            "Index(['adult standards', 'bubblegum pop', 'rockabilly', 'rock-and-roll',\n",
            "       'rhythm and blues', 'doo-wop', 'lounge', 'deep adult standards',\n",
            "       'sunshine pop', 'mellow gold', 'nashville sound', 'easy listening',\n",
            "       'man's orchestra', 'vocal harmony group', 'soul', 'swing', 'vocal jazz',\n",
            "       'canadian pop', 'louisiana blues', 'memphis blues', 'new orleans blues',\n",
            "       'cowboy western', 'space age pop', 'mambo', 'novelty',\n",
            "       'classic italian pop', 'italian adult pop', 'big band', 'jazz clarinet',\n",
            "       'tin pan alley', 'torch song', 'exotica', 'library music',\n",
            "       'laboratorio', 'classic soundtrack', 'movie tunes', 'soft rock',\n",
            "       'canadian country', 'american modern classical', 'folk',\n",
            "       'american folk revival'],\n",
            "      dtype='object') 41\n"
          ]
        },
        {
          "data": {
            "text/html": [
              "<div>\n",
              "<style scoped>\n",
              "    .dataframe tbody tr th:only-of-type {\n",
              "        vertical-align: middle;\n",
              "    }\n",
              "\n",
              "    .dataframe tbody tr th {\n",
              "        vertical-align: top;\n",
              "    }\n",
              "\n",
              "    .dataframe thead th {\n",
              "        text-align: right;\n",
              "    }\n",
              "</style>\n",
              "<table border=\"1\" class=\"dataframe\">\n",
              "  <thead>\n",
              "    <tr style=\"text-align: right;\">\n",
              "      <th></th>\n",
              "      <th>adult standards</th>\n",
              "      <th>bubblegum pop</th>\n",
              "      <th>rockabilly</th>\n",
              "      <th>rock-and-roll</th>\n",
              "      <th>rhythm and blues</th>\n",
              "      <th>doo-wop</th>\n",
              "      <th>lounge</th>\n",
              "      <th>deep adult standards</th>\n",
              "      <th>sunshine pop</th>\n",
              "      <th>mellow gold</th>\n",
              "      <th>...</th>\n",
              "      <th>exotica</th>\n",
              "      <th>library music</th>\n",
              "      <th>laboratorio</th>\n",
              "      <th>classic soundtrack</th>\n",
              "      <th>movie tunes</th>\n",
              "      <th>soft rock</th>\n",
              "      <th>canadian country</th>\n",
              "      <th>american modern classical</th>\n",
              "      <th>folk</th>\n",
              "      <th>american folk revival</th>\n",
              "    </tr>\n",
              "  </thead>\n",
              "  <tbody>\n",
              "    <tr>\n",
              "      <th>0</th>\n",
              "      <td>99</td>\n",
              "      <td>99</td>\n",
              "      <td>99</td>\n",
              "      <td>99</td>\n",
              "      <td>97</td>\n",
              "      <td>97</td>\n",
              "      <td>95</td>\n",
              "      <td>93</td>\n",
              "      <td>92</td>\n",
              "      <td>92</td>\n",
              "      <td>...</td>\n",
              "      <td>55</td>\n",
              "      <td>55</td>\n",
              "      <td>55</td>\n",
              "      <td>52</td>\n",
              "      <td>45</td>\n",
              "      <td>34</td>\n",
              "      <td>34</td>\n",
              "      <td>10</td>\n",
              "      <td>5</td>\n",
              "      <td>5</td>\n",
              "    </tr>\n",
              "  </tbody>\n",
              "</table>\n",
              "<p>1 rows × 41 columns</p>\n",
              "</div>"
            ],
            "text/plain": [
              "   adult standards  bubblegum pop  rockabilly  rock-and-roll  \\\n",
              "0               99             99          99             99   \n",
              "\n",
              "   rhythm and blues  doo-wop  lounge  deep adult standards  sunshine pop  \\\n",
              "0                97       97      95                    93            92   \n",
              "\n",
              "   mellow gold  ...  exotica  library music  laboratorio  classic soundtrack  \\\n",
              "0           92  ...       55             55           55                  52   \n",
              "\n",
              "   movie tunes  soft rock  canadian country  american modern classical  folk  \\\n",
              "0           45         34                34                         10     5   \n",
              "\n",
              "   american folk revival  \n",
              "0                      5  \n",
              "\n",
              "[1 rows x 41 columns]"
            ]
          },
          "execution_count": 275,
          "metadata": {},
          "output_type": "execute_result"
        }
      ],
      "source": [
        "print(dfGenres.columns, len(dfGenres.columns))\n",
        "dfGenres"
      ]
    },
    {
      "cell_type": "code",
      "execution_count": 277,
      "metadata": {},
      "outputs": [
        {
          "name": "stdout",
          "output_type": "stream",
          "text": [
            "Index(['disco', 'spanish noise pop', 'spanish indie pop', 'spanish electropop',\n",
            "       'rap latina', 'instrumental funk', 'bboy', 'new rave', 'baroque pop',\n",
            "       'rock',\n",
            "       ...\n",
            "       'doo-wop', 'rhythm and blues', 'rap marseille', 'hip-hop experimental',\n",
            "       'electro swing', 'nu jazz', 'urbano espanol', 'rap canario',\n",
            "       'chilean rock', 'dominican pop'],\n",
            "      dtype='object', length=164)\n"
          ]
        },
        {
          "data": {
            "text/html": [
              "<div>\n",
              "<style scoped>\n",
              "    .dataframe tbody tr th:only-of-type {\n",
              "        vertical-align: middle;\n",
              "    }\n",
              "\n",
              "    .dataframe tbody tr th {\n",
              "        vertical-align: top;\n",
              "    }\n",
              "\n",
              "    .dataframe thead th {\n",
              "        text-align: right;\n",
              "    }\n",
              "</style>\n",
              "<table border=\"1\" class=\"dataframe\">\n",
              "  <thead>\n",
              "    <tr style=\"text-align: right;\">\n",
              "      <th></th>\n",
              "      <th>disco</th>\n",
              "      <th>spanish noise pop</th>\n",
              "      <th>spanish indie pop</th>\n",
              "      <th>spanish electropop</th>\n",
              "      <th>rap latina</th>\n",
              "      <th>instrumental funk</th>\n",
              "      <th>bboy</th>\n",
              "      <th>new rave</th>\n",
              "      <th>baroque pop</th>\n",
              "      <th>rock</th>\n",
              "      <th>...</th>\n",
              "      <th>doo-wop</th>\n",
              "      <th>rhythm and blues</th>\n",
              "      <th>rap marseille</th>\n",
              "      <th>hip-hop experimental</th>\n",
              "      <th>electro swing</th>\n",
              "      <th>nu jazz</th>\n",
              "      <th>urbano espanol</th>\n",
              "      <th>rap canario</th>\n",
              "      <th>chilean rock</th>\n",
              "      <th>dominican pop</th>\n",
              "    </tr>\n",
              "  </thead>\n",
              "  <tbody>\n",
              "    <tr>\n",
              "      <th>0</th>\n",
              "      <td>149</td>\n",
              "      <td>148</td>\n",
              "      <td>148</td>\n",
              "      <td>147</td>\n",
              "      <td>147</td>\n",
              "      <td>146</td>\n",
              "      <td>146</td>\n",
              "      <td>145</td>\n",
              "      <td>145</td>\n",
              "      <td>145</td>\n",
              "      <td>...</td>\n",
              "      <td>23</td>\n",
              "      <td>23</td>\n",
              "      <td>22</td>\n",
              "      <td>22</td>\n",
              "      <td>22</td>\n",
              "      <td>22</td>\n",
              "      <td>21</td>\n",
              "      <td>21</td>\n",
              "      <td>15</td>\n",
              "      <td>13</td>\n",
              "    </tr>\n",
              "  </tbody>\n",
              "</table>\n",
              "<p>1 rows × 164 columns</p>\n",
              "</div>"
            ],
            "text/plain": [
              "   disco  spanish noise pop  spanish indie pop  spanish electropop  \\\n",
              "0    149                148                148                 147   \n",
              "\n",
              "   rap latina  instrumental funk  bboy  new rave  baroque pop  rock  ...  \\\n",
              "0         147                146   146       145          145   145  ...   \n",
              "\n",
              "   doo-wop  rhythm and blues  rap marseille  hip-hop experimental  \\\n",
              "0       23                23             22                    22   \n",
              "\n",
              "   electro swing  nu jazz  urbano espanol  rap canario  chilean rock  \\\n",
              "0             22       22              21           21            15   \n",
              "\n",
              "   dominican pop  \n",
              "0             13  \n",
              "\n",
              "[1 rows x 164 columns]"
            ]
          },
          "execution_count": 277,
          "metadata": {},
          "output_type": "execute_result"
        }
      ],
      "source": [
        "print(dfGenresPersonal.columns)\n",
        "dfGenresPersonal"
      ]
    },
    {
      "cell_type": "code",
      "execution_count": 288,
      "metadata": {},
      "outputs": [
        {
          "data": {
            "text/plain": [
              "<seaborn.axisgrid.FacetGrid at 0x13d5bb3c9d0>"
            ]
          },
          "execution_count": 288,
          "metadata": {},
          "output_type": "execute_result"
        },
        {
          "data": {
            "image/png": "[encoded data removed]",
            "text/plain": [
              "<Figure size 1000x500 with 1 Axes>"
            ]
          },
          "metadata": {},
          "output_type": "display_data"
        }
      ],
      "source": [
        "#inner join\n",
        "interseccion = np.intersect1d(dfGenres.columns, dfGenresPersonal.columns)\n",
        "generos_populares_comunes = dfGenresPersonal[interseccion]\n",
        "generos_populares_comunes = generos_populares_comunes.sort_values(by=0,axis=1, ascending=False)\n",
        "sns.catplot(data = generos_populares_comunes, orient=\"h\", kind=\"bar\",height= 5, aspect= 2)\n"
      ]
    },
    {
      "cell_type": "code",
      "execution_count": 272,
      "metadata": {},
      "outputs": [
        {
          "name": "stdout",
          "output_type": "stream",
          "text": [
            "Index(['disco', 'spanish noise pop', 'spanish indie pop', 'spanish electropop',\n",
            "       'rap latina', 'instrumental funk', 'bboy', 'new rave', 'baroque pop',\n",
            "       'rock',\n",
            "       ...\n",
            "       'doo-wop', 'rhythm and blues', 'rap marseille', 'hip-hop experimental',\n",
            "       'electro swing', 'nu jazz', 'urbano espanol', 'rap canario',\n",
            "       'chilean rock', 'dominican pop'],\n",
            "      dtype='object', length=164)\n"
          ]
        },
        {
          "data": {
            "text/html": [
              "<div>\n",
              "<style scoped>\n",
              "    .dataframe tbody tr th:only-of-type {\n",
              "        vertical-align: middle;\n",
              "    }\n",
              "\n",
              "    .dataframe tbody tr th {\n",
              "        vertical-align: top;\n",
              "    }\n",
              "\n",
              "    .dataframe thead th {\n",
              "        text-align: right;\n",
              "    }\n",
              "</style>\n",
              "<table border=\"1\" class=\"dataframe\">\n",
              "  <thead>\n",
              "    <tr style=\"text-align: right;\">\n",
              "      <th></th>\n",
              "      <th>disco</th>\n",
              "      <th>spanish noise pop</th>\n",
              "      <th>spanish indie pop</th>\n",
              "      <th>spanish electropop</th>\n",
              "      <th>rap latina</th>\n",
              "      <th>instrumental funk</th>\n",
              "      <th>bboy</th>\n",
              "      <th>new rave</th>\n",
              "      <th>baroque pop</th>\n",
              "      <th>rock</th>\n",
              "    </tr>\n",
              "  </thead>\n",
              "  <tbody>\n",
              "    <tr>\n",
              "      <th>0</th>\n",
              "      <td>149</td>\n",
              "      <td>148</td>\n",
              "      <td>148</td>\n",
              "      <td>147</td>\n",
              "      <td>147</td>\n",
              "      <td>146</td>\n",
              "      <td>146</td>\n",
              "      <td>145</td>\n",
              "      <td>145</td>\n",
              "      <td>145</td>\n",
              "    </tr>\n",
              "  </tbody>\n",
              "</table>\n",
              "</div>"
            ],
            "text/plain": [
              "   disco  spanish noise pop  spanish indie pop  spanish electropop  \\\n",
              "0    149                148                148                 147   \n",
              "\n",
              "   rap latina  instrumental funk  bboy  new rave  baroque pop  rock  \n",
              "0         147                146   146       145          145   145  "
            ]
          },
          "execution_count": 272,
          "metadata": {},
          "output_type": "execute_result"
        }
      ],
      "source": [
        "print(dfGenresPersonal.columns)\n",
        "dfGenresPersonal.iloc[:,:10]"
      ]
    },
    {
      "cell_type": "code",
      "execution_count": 114,
      "metadata": {},
      "outputs": [
        {
          "data": {
            "text/plain": [
              "<seaborn.axisgrid.FacetGrid at 0x13d44b19eb0>"
            ]
          },
          "execution_count": 114,
          "metadata": {},
          "output_type": "execute_result"
        },
        {
          "data": {
            "image/png": "[encoded data removed]",
            "text/plain": [
              "<Figure size 1000x500 with 1 Axes>"
            ]
          },
          "metadata": {},
          "output_type": "display_data"
        }
      ],
      "source": [
        "sns.catplot(data = dfGenresPersonal.iloc[:,:10], orient=\"h\", kind=\"bar\",height= 5, aspect= 2)"
      ]
    },
    {
      "attachments": {},
      "cell_type": "markdown",
      "metadata": {},
      "source": [
        "Canciones que contienen generos populares\n"
      ]
    },
    {
      "cell_type": "code",
      "execution_count": 507,
      "metadata": {},
      "outputs": [
        {
          "data": {
            "text/plain": [
              "Index(['mellow gold', 'soft rock', 'soul', 'torch song', 'vocal jazz', 'mambo',\n",
              "       'adult standards', 'rock-and-roll', 'folk', 'rockabilly',\n",
              "       'sunshine pop', 'doo-wop', 'rhythm and blues'],\n",
              "      dtype='object')"
            ]
          },
          "execution_count": 507,
          "metadata": {},
          "output_type": "execute_result"
        }
      ],
      "source": [
        "generos_populares_comunes.columns\n"
      ]
    },
    {
      "cell_type": "code",
      "execution_count": 506,
      "metadata": {},
      "outputs": [
        {
          "data": {
            "text/plain": [
              "True"
            ]
          },
          "execution_count": 506,
          "metadata": {},
          "output_type": "execute_result"
        }
      ],
      "source": [
        "'soft rock' in generos_populares_comunes.columns"
      ]
    },
    {
      "cell_type": "code",
      "execution_count": 509,
      "metadata": {},
      "outputs": [
        {
          "data": {
            "text/html": [
              "<div>\n",
              "<style scoped>\n",
              "    .dataframe tbody tr th:only-of-type {\n",
              "        vertical-align: middle;\n",
              "    }\n",
              "\n",
              "    .dataframe tbody tr th {\n",
              "        vertical-align: top;\n",
              "    }\n",
              "\n",
              "    .dataframe thead th {\n",
              "        text-align: right;\n",
              "    }\n",
              "</style>\n",
              "<table border=\"1\" class=\"dataframe\">\n",
              "  <thead>\n",
              "    <tr style=\"text-align: right;\">\n",
              "      <th></th>\n",
              "      <th>adult standards</th>\n",
              "      <th>bubblegum pop</th>\n",
              "      <th>rockabilly</th>\n",
              "      <th>rock-and-roll</th>\n",
              "      <th>rhythm and blues</th>\n",
              "      <th>doo-wop</th>\n",
              "      <th>lounge</th>\n",
              "      <th>deep adult standards</th>\n",
              "      <th>sunshine pop</th>\n",
              "      <th>mellow gold</th>\n",
              "      <th>...</th>\n",
              "      <th>exotica</th>\n",
              "      <th>library music</th>\n",
              "      <th>laboratorio</th>\n",
              "      <th>classic soundtrack</th>\n",
              "      <th>movie tunes</th>\n",
              "      <th>soft rock</th>\n",
              "      <th>canadian country</th>\n",
              "      <th>american modern classical</th>\n",
              "      <th>folk</th>\n",
              "      <th>american folk revival</th>\n",
              "    </tr>\n",
              "  </thead>\n",
              "  <tbody>\n",
              "    <tr>\n",
              "      <th>0</th>\n",
              "      <td>99</td>\n",
              "      <td>99</td>\n",
              "      <td>99</td>\n",
              "      <td>99</td>\n",
              "      <td>97</td>\n",
              "      <td>97</td>\n",
              "      <td>95</td>\n",
              "      <td>93</td>\n",
              "      <td>92</td>\n",
              "      <td>92</td>\n",
              "      <td>...</td>\n",
              "      <td>55</td>\n",
              "      <td>55</td>\n",
              "      <td>55</td>\n",
              "      <td>52</td>\n",
              "      <td>45</td>\n",
              "      <td>34</td>\n",
              "      <td>34</td>\n",
              "      <td>10</td>\n",
              "      <td>5</td>\n",
              "      <td>5</td>\n",
              "    </tr>\n",
              "  </tbody>\n",
              "</table>\n",
              "<p>1 rows × 41 columns</p>\n",
              "</div>"
            ],
            "text/plain": [
              "   adult standards  bubblegum pop  rockabilly  rock-and-roll  \\\n",
              "0               99             99          99             99   \n",
              "\n",
              "   rhythm and blues  doo-wop  lounge  deep adult standards  sunshine pop  \\\n",
              "0                97       97      95                    93            92   \n",
              "\n",
              "   mellow gold  ...  exotica  library music  laboratorio  classic soundtrack  \\\n",
              "0           92  ...       55             55           55                  52   \n",
              "\n",
              "   movie tunes  soft rock  canadian country  american modern classical  folk  \\\n",
              "0           45         34                34                         10     5   \n",
              "\n",
              "   american folk revival  \n",
              "0                      5  \n",
              "\n",
              "[1 rows x 41 columns]"
            ]
          },
          "execution_count": 509,
          "metadata": {},
          "output_type": "execute_result"
        }
      ],
      "source": [
        "dfGenres"
      ]
    },
    {
      "cell_type": "code",
      "execution_count": 551,
      "metadata": {},
      "outputs": [
        {
          "name": "stdout",
          "output_type": "stream",
          "text": [
            "True\n"
          ]
        },
        {
          "data": {
            "text/html": [
              "<div>\n",
              "<style scoped>\n",
              "    .dataframe tbody tr th:only-of-type {\n",
              "        vertical-align: middle;\n",
              "    }\n",
              "\n",
              "    .dataframe tbody tr th {\n",
              "        vertical-align: top;\n",
              "    }\n",
              "\n",
              "    .dataframe thead th {\n",
              "        text-align: right;\n",
              "    }\n",
              "</style>\n",
              "<table border=\"1\" class=\"dataframe\">\n",
              "  <thead>\n",
              "    <tr style=\"text-align: right;\">\n",
              "      <th></th>\n",
              "      <th>Unnamed: 0</th>\n",
              "      <th>names</th>\n",
              "      <th>artists</th>\n",
              "      <th>release_date</th>\n",
              "      <th>range</th>\n",
              "      <th>id</th>\n",
              "      <th>genre</th>\n",
              "      <th>popularity</th>\n",
              "      <th>danceability</th>\n",
              "      <th>energy</th>\n",
              "      <th>...</th>\n",
              "      <th>type</th>\n",
              "      <th>id.1</th>\n",
              "      <th>uri</th>\n",
              "      <th>track_href</th>\n",
              "      <th>analysis_url</th>\n",
              "      <th>duration_ms</th>\n",
              "      <th>time_signature</th>\n",
              "      <th>personal</th>\n",
              "      <th>release_date_year</th>\n",
              "      <th>popular</th>\n",
              "    </tr>\n",
              "  </thead>\n",
              "  <tbody>\n",
              "    <tr>\n",
              "      <th>0</th>\n",
              "      <td>0</td>\n",
              "      <td>Mon Amour - Remix</td>\n",
              "      <td>zzoilo</td>\n",
              "      <td>2021-12-14</td>\n",
              "      <td>short_term</td>\n",
              "      <td>5TAbg7lJkmo1ZO8pCNhchW</td>\n",
              "      <td>[]</td>\n",
              "      <td>66</td>\n",
              "      <td>0.748</td>\n",
              "      <td>0.761</td>\n",
              "      <td>...</td>\n",
              "      <td>audio_features</td>\n",
              "      <td>5TAbg7lJkmo1ZO8pCNhchW</td>\n",
              "      <td>spotify:track:5TAbg7lJkmo1ZO8pCNhchW</td>\n",
              "      <td>https://api.spotify.com/v1/tracks/5TAbg7lJkmo1...</td>\n",
              "      <td>https://api.spotify.com/v1/audio-analysis/5TAb...</td>\n",
              "      <td>179940</td>\n",
              "      <td>4</td>\n",
              "      <td>True</td>\n",
              "      <td>2021</td>\n",
              "      <td>True</td>\n",
              "    </tr>\n",
              "    <tr>\n",
              "      <th>25</th>\n",
              "      <td>25</td>\n",
              "      <td>Blade</td>\n",
              "      <td>Queralt Lahoz</td>\n",
              "      <td>2022-04-29</td>\n",
              "      <td>short_term</td>\n",
              "      <td>4V21CsNRnycBA4PWFgjNB7</td>\n",
              "      <td>[]</td>\n",
              "      <td>42</td>\n",
              "      <td>0.925</td>\n",
              "      <td>0.567</td>\n",
              "      <td>...</td>\n",
              "      <td>audio_features</td>\n",
              "      <td>4V21CsNRnycBA4PWFgjNB7</td>\n",
              "      <td>spotify:track:4V21CsNRnycBA4PWFgjNB7</td>\n",
              "      <td>https://api.spotify.com/v1/tracks/4V21CsNRnycB...</td>\n",
              "      <td>https://api.spotify.com/v1/audio-analysis/4V21...</td>\n",
              "      <td>197512</td>\n",
              "      <td>4</td>\n",
              "      <td>True</td>\n",
              "      <td>2022</td>\n",
              "      <td>True</td>\n",
              "    </tr>\n",
              "    <tr>\n",
              "      <th>49</th>\n",
              "      <td>49</td>\n",
              "      <td>Going up the Country</td>\n",
              "      <td>Kitty, Daisy &amp; Lewis</td>\n",
              "      <td>2008-07-28</td>\n",
              "      <td>short_term</td>\n",
              "      <td>18Zw8HtC0SSQMGJsjrEbAj</td>\n",
              "      <td>[]</td>\n",
              "      <td>40</td>\n",
              "      <td>0.808</td>\n",
              "      <td>0.631</td>\n",
              "      <td>...</td>\n",
              "      <td>audio_features</td>\n",
              "      <td>18Zw8HtC0SSQMGJsjrEbAj</td>\n",
              "      <td>spotify:track:18Zw8HtC0SSQMGJsjrEbAj</td>\n",
              "      <td>https://api.spotify.com/v1/tracks/18Zw8HtC0SSQ...</td>\n",
              "      <td>https://api.spotify.com/v1/audio-analysis/18Zw...</td>\n",
              "      <td>197266</td>\n",
              "      <td>4</td>\n",
              "      <td>True</td>\n",
              "      <td>2008</td>\n",
              "      <td>True</td>\n",
              "    </tr>\n",
              "    <tr>\n",
              "      <th>50</th>\n",
              "      <td>50</td>\n",
              "      <td>Mon Amour - Remix</td>\n",
              "      <td>zzoilo</td>\n",
              "      <td>2021-12-14</td>\n",
              "      <td>medium_term</td>\n",
              "      <td>5TAbg7lJkmo1ZO8pCNhchW</td>\n",
              "      <td>[]</td>\n",
              "      <td>66</td>\n",
              "      <td>0.748</td>\n",
              "      <td>0.761</td>\n",
              "      <td>...</td>\n",
              "      <td>audio_features</td>\n",
              "      <td>5TAbg7lJkmo1ZO8pCNhchW</td>\n",
              "      <td>spotify:track:5TAbg7lJkmo1ZO8pCNhchW</td>\n",
              "      <td>https://api.spotify.com/v1/tracks/5TAbg7lJkmo1...</td>\n",
              "      <td>https://api.spotify.com/v1/audio-analysis/5TAb...</td>\n",
              "      <td>179940</td>\n",
              "      <td>4</td>\n",
              "      <td>True</td>\n",
              "      <td>2021</td>\n",
              "      <td>True</td>\n",
              "    </tr>\n",
              "    <tr>\n",
              "      <th>80</th>\n",
              "      <td>80</td>\n",
              "      <td>Calor</td>\n",
              "      <td>Conchita Velasco</td>\n",
              "      <td>2008-01-01</td>\n",
              "      <td>medium_term</td>\n",
              "      <td>2qpjaDs0t7CM6uPcaY6aE1</td>\n",
              "      <td>[]</td>\n",
              "      <td>28</td>\n",
              "      <td>0.502</td>\n",
              "      <td>0.852</td>\n",
              "      <td>...</td>\n",
              "      <td>audio_features</td>\n",
              "      <td>2qpjaDs0t7CM6uPcaY6aE1</td>\n",
              "      <td>spotify:track:2qpjaDs0t7CM6uPcaY6aE1</td>\n",
              "      <td>https://api.spotify.com/v1/tracks/2qpjaDs0t7CM...</td>\n",
              "      <td>https://api.spotify.com/v1/audio-analysis/2qpj...</td>\n",
              "      <td>121440</td>\n",
              "      <td>4</td>\n",
              "      <td>True</td>\n",
              "      <td>2008</td>\n",
              "      <td>True</td>\n",
              "    </tr>\n",
              "    <tr>\n",
              "      <th>84</th>\n",
              "      <td>84</td>\n",
              "      <td>Calor</td>\n",
              "      <td>Conchita Velasco</td>\n",
              "      <td>2018-04-17</td>\n",
              "      <td>medium_term</td>\n",
              "      <td>3enhhbHP5QlIUglojSSfpp</td>\n",
              "      <td>[]</td>\n",
              "      <td>28</td>\n",
              "      <td>0.520</td>\n",
              "      <td>0.833</td>\n",
              "      <td>...</td>\n",
              "      <td>audio_features</td>\n",
              "      <td>3enhhbHP5QlIUglojSSfpp</td>\n",
              "      <td>spotify:track:3enhhbHP5QlIUglojSSfpp</td>\n",
              "      <td>https://api.spotify.com/v1/tracks/3enhhbHP5QlI...</td>\n",
              "      <td>https://api.spotify.com/v1/audio-analysis/3enh...</td>\n",
              "      <td>120387</td>\n",
              "      <td>4</td>\n",
              "      <td>True</td>\n",
              "      <td>2018</td>\n",
              "      <td>True</td>\n",
              "    </tr>\n",
              "    <tr>\n",
              "      <th>94</th>\n",
              "      <td>94</td>\n",
              "      <td>Groenlandia</td>\n",
              "      <td>Zombies</td>\n",
              "      <td>1993-07-27</td>\n",
              "      <td>medium_term</td>\n",
              "      <td>2owC2f9sCVSsd2GAKwAQar</td>\n",
              "      <td>[]</td>\n",
              "      <td>34</td>\n",
              "      <td>0.726</td>\n",
              "      <td>0.581</td>\n",
              "      <td>...</td>\n",
              "      <td>audio_features</td>\n",
              "      <td>2owC2f9sCVSsd2GAKwAQar</td>\n",
              "      <td>spotify:track:2owC2f9sCVSsd2GAKwAQar</td>\n",
              "      <td>https://api.spotify.com/v1/tracks/2owC2f9sCVSs...</td>\n",
              "      <td>https://api.spotify.com/v1/audio-analysis/2owC...</td>\n",
              "      <td>226733</td>\n",
              "      <td>4</td>\n",
              "      <td>True</td>\n",
              "      <td>1993</td>\n",
              "      <td>True</td>\n",
              "    </tr>\n",
              "    <tr>\n",
              "      <th>104</th>\n",
              "      <td>104</td>\n",
              "      <td>Calor</td>\n",
              "      <td>Conchita Velasco</td>\n",
              "      <td>2008-01-01</td>\n",
              "      <td>long_term</td>\n",
              "      <td>2qpjaDs0t7CM6uPcaY6aE1</td>\n",
              "      <td>[]</td>\n",
              "      <td>28</td>\n",
              "      <td>0.502</td>\n",
              "      <td>0.852</td>\n",
              "      <td>...</td>\n",
              "      <td>audio_features</td>\n",
              "      <td>2qpjaDs0t7CM6uPcaY6aE1</td>\n",
              "      <td>spotify:track:2qpjaDs0t7CM6uPcaY6aE1</td>\n",
              "      <td>https://api.spotify.com/v1/tracks/2qpjaDs0t7CM...</td>\n",
              "      <td>https://api.spotify.com/v1/audio-analysis/2qpj...</td>\n",
              "      <td>121440</td>\n",
              "      <td>4</td>\n",
              "      <td>True</td>\n",
              "      <td>2008</td>\n",
              "      <td>True</td>\n",
              "    </tr>\n",
              "    <tr>\n",
              "      <th>113</th>\n",
              "      <td>113</td>\n",
              "      <td>Mon Amour - Remix</td>\n",
              "      <td>zzoilo</td>\n",
              "      <td>2021-12-14</td>\n",
              "      <td>long_term</td>\n",
              "      <td>5TAbg7lJkmo1ZO8pCNhchW</td>\n",
              "      <td>[]</td>\n",
              "      <td>66</td>\n",
              "      <td>0.748</td>\n",
              "      <td>0.761</td>\n",
              "      <td>...</td>\n",
              "      <td>audio_features</td>\n",
              "      <td>5TAbg7lJkmo1ZO8pCNhchW</td>\n",
              "      <td>spotify:track:5TAbg7lJkmo1ZO8pCNhchW</td>\n",
              "      <td>https://api.spotify.com/v1/tracks/5TAbg7lJkmo1...</td>\n",
              "      <td>https://api.spotify.com/v1/audio-analysis/5TAb...</td>\n",
              "      <td>179940</td>\n",
              "      <td>4</td>\n",
              "      <td>True</td>\n",
              "      <td>2021</td>\n",
              "      <td>True</td>\n",
              "    </tr>\n",
              "    <tr>\n",
              "      <th>130</th>\n",
              "      <td>130</td>\n",
              "      <td>History Repeating</td>\n",
              "      <td>Propellerheads Feat. Miss Shirley Bassey</td>\n",
              "      <td>2000-11-13</td>\n",
              "      <td>long_term</td>\n",
              "      <td>05mdiAnALU200LER7TId7R</td>\n",
              "      <td>[]</td>\n",
              "      <td>25</td>\n",
              "      <td>0.706</td>\n",
              "      <td>0.681</td>\n",
              "      <td>...</td>\n",
              "      <td>audio_features</td>\n",
              "      <td>05mdiAnALU200LER7TId7R</td>\n",
              "      <td>spotify:track:05mdiAnALU200LER7TId7R</td>\n",
              "      <td>https://api.spotify.com/v1/tracks/05mdiAnALU20...</td>\n",
              "      <td>https://api.spotify.com/v1/audio-analysis/05md...</td>\n",
              "      <td>244000</td>\n",
              "      <td>4</td>\n",
              "      <td>True</td>\n",
              "      <td>2000</td>\n",
              "      <td>True</td>\n",
              "    </tr>\n",
              "    <tr>\n",
              "      <th>144</th>\n",
              "      <td>144</td>\n",
              "      <td>Calor</td>\n",
              "      <td>Conchita Velasco</td>\n",
              "      <td>2018-04-17</td>\n",
              "      <td>long_term</td>\n",
              "      <td>3enhhbHP5QlIUglojSSfpp</td>\n",
              "      <td>[]</td>\n",
              "      <td>28</td>\n",
              "      <td>0.520</td>\n",
              "      <td>0.833</td>\n",
              "      <td>...</td>\n",
              "      <td>audio_features</td>\n",
              "      <td>3enhhbHP5QlIUglojSSfpp</td>\n",
              "      <td>spotify:track:3enhhbHP5QlIUglojSSfpp</td>\n",
              "      <td>https://api.spotify.com/v1/tracks/3enhhbHP5QlI...</td>\n",
              "      <td>https://api.spotify.com/v1/audio-analysis/3enh...</td>\n",
              "      <td>120387</td>\n",
              "      <td>4</td>\n",
              "      <td>True</td>\n",
              "      <td>2018</td>\n",
              "      <td>True</td>\n",
              "    </tr>\n",
              "  </tbody>\n",
              "</table>\n",
              "<p>11 rows × 29 columns</p>\n",
              "</div>"
            ],
            "text/plain": [
              "     Unnamed: 0                 names  \\\n",
              "0             0     Mon Amour - Remix   \n",
              "25           25                 Blade   \n",
              "49           49  Going up the Country   \n",
              "50           50     Mon Amour - Remix   \n",
              "80           80                 Calor   \n",
              "84           84                 Calor   \n",
              "94           94           Groenlandia   \n",
              "104         104                 Calor   \n",
              "113         113     Mon Amour - Remix   \n",
              "130         130     History Repeating   \n",
              "144         144                 Calor   \n",
              "\n",
              "                                      artists release_date        range  \\\n",
              "0                                      zzoilo   2021-12-14   short_term   \n",
              "25                              Queralt Lahoz   2022-04-29   short_term   \n",
              "49                       Kitty, Daisy & Lewis   2008-07-28   short_term   \n",
              "50                                     zzoilo   2021-12-14  medium_term   \n",
              "80                           Conchita Velasco   2008-01-01  medium_term   \n",
              "84                           Conchita Velasco   2018-04-17  medium_term   \n",
              "94                                    Zombies   1993-07-27  medium_term   \n",
              "104                          Conchita Velasco   2008-01-01    long_term   \n",
              "113                                    zzoilo   2021-12-14    long_term   \n",
              "130  Propellerheads Feat. Miss Shirley Bassey   2000-11-13    long_term   \n",
              "144                          Conchita Velasco   2018-04-17    long_term   \n",
              "\n",
              "                         id genre  popularity  danceability  energy  ...  \\\n",
              "0    5TAbg7lJkmo1ZO8pCNhchW    []          66         0.748   0.761  ...   \n",
              "25   4V21CsNRnycBA4PWFgjNB7    []          42         0.925   0.567  ...   \n",
              "49   18Zw8HtC0SSQMGJsjrEbAj    []          40         0.808   0.631  ...   \n",
              "50   5TAbg7lJkmo1ZO8pCNhchW    []          66         0.748   0.761  ...   \n",
              "80   2qpjaDs0t7CM6uPcaY6aE1    []          28         0.502   0.852  ...   \n",
              "84   3enhhbHP5QlIUglojSSfpp    []          28         0.520   0.833  ...   \n",
              "94   2owC2f9sCVSsd2GAKwAQar    []          34         0.726   0.581  ...   \n",
              "104  2qpjaDs0t7CM6uPcaY6aE1    []          28         0.502   0.852  ...   \n",
              "113  5TAbg7lJkmo1ZO8pCNhchW    []          66         0.748   0.761  ...   \n",
              "130  05mdiAnALU200LER7TId7R    []          25         0.706   0.681  ...   \n",
              "144  3enhhbHP5QlIUglojSSfpp    []          28         0.520   0.833  ...   \n",
              "\n",
              "               type                    id.1  \\\n",
              "0    audio_features  5TAbg7lJkmo1ZO8pCNhchW   \n",
              "25   audio_features  4V21CsNRnycBA4PWFgjNB7   \n",
              "49   audio_features  18Zw8HtC0SSQMGJsjrEbAj   \n",
              "50   audio_features  5TAbg7lJkmo1ZO8pCNhchW   \n",
              "80   audio_features  2qpjaDs0t7CM6uPcaY6aE1   \n",
              "84   audio_features  3enhhbHP5QlIUglojSSfpp   \n",
              "94   audio_features  2owC2f9sCVSsd2GAKwAQar   \n",
              "104  audio_features  2qpjaDs0t7CM6uPcaY6aE1   \n",
              "113  audio_features  5TAbg7lJkmo1ZO8pCNhchW   \n",
              "130  audio_features  05mdiAnALU200LER7TId7R   \n",
              "144  audio_features  3enhhbHP5QlIUglojSSfpp   \n",
              "\n",
              "                                      uri  \\\n",
              "0    spotify:track:5TAbg7lJkmo1ZO8pCNhchW   \n",
              "25   spotify:track:4V21CsNRnycBA4PWFgjNB7   \n",
              "49   spotify:track:18Zw8HtC0SSQMGJsjrEbAj   \n",
              "50   spotify:track:5TAbg7lJkmo1ZO8pCNhchW   \n",
              "80   spotify:track:2qpjaDs0t7CM6uPcaY6aE1   \n",
              "84   spotify:track:3enhhbHP5QlIUglojSSfpp   \n",
              "94   spotify:track:2owC2f9sCVSsd2GAKwAQar   \n",
              "104  spotify:track:2qpjaDs0t7CM6uPcaY6aE1   \n",
              "113  spotify:track:5TAbg7lJkmo1ZO8pCNhchW   \n",
              "130  spotify:track:05mdiAnALU200LER7TId7R   \n",
              "144  spotify:track:3enhhbHP5QlIUglojSSfpp   \n",
              "\n",
              "                                            track_href  \\\n",
              "0    https://api.spotify.com/v1/tracks/5TAbg7lJkmo1...   \n",
              "25   https://api.spotify.com/v1/tracks/4V21CsNRnycB...   \n",
              "49   https://api.spotify.com/v1/tracks/18Zw8HtC0SSQ...   \n",
              "50   https://api.spotify.com/v1/tracks/5TAbg7lJkmo1...   \n",
              "80   https://api.spotify.com/v1/tracks/2qpjaDs0t7CM...   \n",
              "84   https://api.spotify.com/v1/tracks/3enhhbHP5QlI...   \n",
              "94   https://api.spotify.com/v1/tracks/2owC2f9sCVSs...   \n",
              "104  https://api.spotify.com/v1/tracks/2qpjaDs0t7CM...   \n",
              "113  https://api.spotify.com/v1/tracks/5TAbg7lJkmo1...   \n",
              "130  https://api.spotify.com/v1/tracks/05mdiAnALU20...   \n",
              "144  https://api.spotify.com/v1/tracks/3enhhbHP5QlI...   \n",
              "\n",
              "                                          analysis_url  duration_ms  \\\n",
              "0    https://api.spotify.com/v1/audio-analysis/5TAb...       179940   \n",
              "25   https://api.spotify.com/v1/audio-analysis/4V21...       197512   \n",
              "49   https://api.spotify.com/v1/audio-analysis/18Zw...       197266   \n",
              "50   https://api.spotify.com/v1/audio-analysis/5TAb...       179940   \n",
              "80   https://api.spotify.com/v1/audio-analysis/2qpj...       121440   \n",
              "84   https://api.spotify.com/v1/audio-analysis/3enh...       120387   \n",
              "94   https://api.spotify.com/v1/audio-analysis/2owC...       226733   \n",
              "104  https://api.spotify.com/v1/audio-analysis/2qpj...       121440   \n",
              "113  https://api.spotify.com/v1/audio-analysis/5TAb...       179940   \n",
              "130  https://api.spotify.com/v1/audio-analysis/05md...       244000   \n",
              "144  https://api.spotify.com/v1/audio-analysis/3enh...       120387   \n",
              "\n",
              "     time_signature  personal  release_date_year popular  \n",
              "0                 4      True               2021    True  \n",
              "25                4      True               2022    True  \n",
              "49                4      True               2008    True  \n",
              "50                4      True               2021    True  \n",
              "80                4      True               2008    True  \n",
              "84                4      True               2018    True  \n",
              "94                4      True               1993    True  \n",
              "104               4      True               2008    True  \n",
              "113               4      True               2021    True  \n",
              "130               4      True               2000    True  \n",
              "144               4      True               2018    True  \n",
              "\n",
              "[11 rows x 29 columns]"
            ]
          },
          "execution_count": 551,
          "metadata": {},
          "output_type": "execute_result"
        }
      ],
      "source": [
        "\n",
        "\n",
        "aPopular = []\n",
        "for i in dfPersonal[\"genre\"]: \n",
        "    items = i.split(\",\")\n",
        "    if items:\n",
        "        \n",
        "        for j in items:\n",
        "            popular = False\n",
        "            r = j.replace(\"[\", \"\")\n",
        "            r = r.replace(\"]\", \"\")\n",
        "            #r = r.replace(\" \", \"\")\n",
        "            #r = r.strip()\n",
        "            for x in generos_populares_comunes.columns:\n",
        "                if r in x:                    \n",
        "                    popular = True   \n",
        "                else:\n",
        "                    popular = False\n",
        "                       \n",
        "        aPopular.append(popular)\n",
        "\n",
        "#print(generos_populares_comunes.columns)\n",
        "dfPersonal[\"popular\"] = aPopular\n",
        "dfPersonal[dfPersonal[\"popular\"] == True]\n",
        "        \n",
        "\n"
      ]
    },
    {
      "cell_type": "code",
      "execution_count": 209,
      "metadata": {},
      "outputs": [
        {
          "data": {
            "text/plain": [
              "True"
            ]
          },
          "execution_count": 209,
          "metadata": {},
          "output_type": "execute_result"
        }
      ],
      "source": [
        "'chilean indie' in generos_populares.columns"
      ]
    },
    {
      "cell_type": "code",
      "execution_count": 207,
      "metadata": {},
      "outputs": [
        {
          "name": "stdout",
          "output_type": "stream",
          "text": [
            " False\n",
            "'chilean indie' False\n",
            " 'deep latin alternative' False\n",
            "'cantautor' False\n",
            " 'latin arena pop' False\n",
            " 'latin pop' False\n",
            " 'mexican pop' False\n",
            " 'rock en espanol' False\n",
            " 'spanish pop' False\n",
            "'granada indie' False\n",
            "'granada indie' False\n",
            "'alternative dance' False\n",
            " 'electro house' False\n",
            " 'electroclash' False\n",
            " 'electronica' False\n",
            " 'filter house' False\n",
            " 'french indietronica' False\n",
            " 'french techno' False\n",
            " 'new rave' False\n",
            "'british soul' False\n",
            " 'neo soul' False\n",
            "'spanish indie pop' False\n",
            " 'spanish noise pop' False\n",
            "'dance rock' False\n",
            " 'new romantic' False\n",
            " 'new wave' False\n",
            " 'new wave pop' False\n",
            " 'pop rock' False\n",
            " 'rock' False\n",
            " 'synthpop' False\n",
            "'deep latin alternative' False\n",
            " 'dominican pop' False\n",
            "'alternative dance' False\n",
            " 'electro house' False\n",
            " 'electroclash' False\n",
            " 'electronica' False\n",
            " 'filter house' False\n",
            " 'french indietronica' False\n",
            " 'french techno' False\n",
            " 'new rave' False\n",
            "'dance pop' False\n",
            " 'pop' False\n",
            "'alternative dance' False\n",
            " 'electro house' False\n",
            " 'electroclash' False\n",
            " 'electronica' False\n",
            " 'filter house' False\n",
            " 'french indietronica' False\n",
            " 'french techno' False\n",
            " 'new rave' False\n",
            "'rap canario' False\n",
            " 'urbano espanol' False\n",
            "'alternative dance' False\n",
            " 'electro house' False\n",
            " 'electroclash' False\n",
            " 'electronica' False\n",
            " 'filter house' False\n",
            " 'french indietronica' False\n",
            " 'french techno' False\n",
            " 'new rave' False\n",
            "'electro swing' False\n",
            " 'electronica' False\n",
            " 'hip-hop experimental' False\n",
            " 'nu jazz' False\n",
            " 'rap marseille' False\n",
            "'doo-wop' False\n",
            " 'rhythm and blues' False\n",
            "'alternative dance' False\n",
            " 'electro house' False\n",
            " 'electroclash' False\n",
            " 'electronica' False\n",
            " 'filter house' False\n",
            " 'french indietronica' False\n",
            " 'french techno' False\n",
            " 'new rave' False\n",
            "'alternative dance' False\n",
            " 'electronica' False\n",
            " 'electropop' False\n",
            " 'french indie pop' False\n",
            " 'indie rock' False\n",
            " 'indietronica' False\n",
            " 'modern rock' False\n",
            " 'new rave' False\n",
            " 'socal pop punk' False\n",
            "'alternative dance' False\n",
            " 'electro house' False\n",
            " 'electroclash' False\n",
            " 'electronica' False\n",
            " 'filter house' False\n",
            " 'french indietronica' False\n",
            " 'french techno' False\n",
            " 'new rave' False\n",
            "'rap latina' False\n",
            " 'rap politico' False\n",
            "'candy pop' False\n",
            " 'new wave' False\n",
            " 'new wave pop' False\n",
            " 'permanent wave' False\n",
            " 'power pop' False\n",
            " 'rock' False\n",
            "'dance rock' False\n",
            " 'new romantic' False\n",
            " 'new wave' False\n",
            " 'new wave pop' False\n",
            " 'pop rock' False\n",
            " 'rock' False\n",
            " 'synthpop' False\n",
            "'acoustic punk' False\n",
            " 'alternative rock' False\n",
            " 'anti-folk' False\n",
            " 'pop rock' False\n",
            " 'punk' False\n",
            " 'rock' False\n",
            "'art pop' False\n",
            " 'dance rock' False\n",
            " 'europop' False\n",
            " 'new romantic' False\n",
            " 'new wave' False\n",
            " 'new wave pop' False\n",
            " 'permanent wave' False\n",
            " 'synthpop' False\n",
            "'cancion melodica' False\n",
            " 'latin pop' False\n",
            " 'pop romantico' False\n",
            "'rap latina' False\n",
            " 'spanish electropop' False\n",
            "'indie cordoba' False\n",
            "'spanish synthpop' False\n",
            "'bossa nova' False\n",
            " 'brazilian rock' False\n",
            " 'mpb' False\n",
            " 'psicodelia brasileira' False\n",
            " 'psychedelic rock' False\n",
            " 'tropicalia' False\n",
            " False\n",
            "'alternative dance' False\n",
            " 'electro house' False\n",
            " 'electroclash' False\n",
            " 'electronica' False\n",
            " 'filter house' False\n",
            " 'french indietronica' False\n",
            " 'french techno' False\n",
            " 'new rave' False\n",
            "'latin jazz' False\n",
            " 'mambo' False\n",
            " 'musica tradicional cubana' False\n",
            " 'salsa' False\n",
            "'rap latina' False\n",
            " 'spanish electropop' False\n",
            "'alternative dance' False\n",
            " 'electro house' False\n",
            " 'electroclash' False\n",
            " 'electronica' False\n",
            " 'filter house' False\n",
            " 'french indietronica' False\n",
            " 'french techno' False\n",
            " 'new rave' False\n",
            " False\n",
            "'alternative dance' False\n",
            " 'electro house' False\n",
            " 'electroclash' False\n",
            " 'electronica' False\n",
            " 'filter house' False\n",
            " 'french indietronica' False\n",
            " 'french techno' False\n",
            " 'new rave' False\n",
            " False\n",
            " False\n",
            "'chamber psych' False\n",
            "'disco' False\n",
            "'spanish indie pop' False\n",
            " 'spanish new wave' False\n",
            " False\n",
            "'latin alternative' False\n",
            " 'mexican pop' False\n",
            " 'rock en espanol' False\n",
            " 'veracruz indie' False\n",
            " False\n",
            "'eurodance' False\n",
            " 'europop' False\n",
            " 'hip house' False\n",
            "'electroclash' False\n",
            "'spanish noise pop' False\n",
            "'cumbia' False\n",
            " 'latin alternative' False\n",
            " 'latin rock' False\n",
            " 'pop electronico' False\n",
            " 'tropical alternativo' False\n",
            "'bubblegum pop' False\n",
            " 'classic garage rock' False\n",
            " False\n",
            "'arkansas country' False\n",
            " 'outlaw country' False\n",
            "'dance pop' False\n",
            " 'pop' False\n",
            "'chilean indie' False\n",
            " 'deep latin alternative' False\n",
            "'granada indie' False\n",
            "'british alternative rock' False\n",
            " 'experimental indie rock' False\n",
            " 'indie rock' False\n",
            "'cantautor' False\n",
            " 'rock en espanol' False\n",
            " 'rockabilly en espanol' False\n",
            " 'spanish new wave' False\n",
            " 'spanish pop' False\n",
            " 'spanish rockabilly' False\n",
            "'granada indie' False\n",
            "'glam rock' False\n",
            " 'mellow gold' False\n",
            " 'piano rock' False\n",
            "'beatlesque' False\n",
            " 'british invasion' False\n",
            " 'classic rock' False\n",
            " 'merseybeat' False\n",
            " 'psychedelic rock' False\n",
            " 'rock' False\n",
            "'rap latina' False\n",
            " 'spanish electropop' False\n",
            "'new romantic' False\n",
            " 'new wave' False\n",
            " 'new wave pop' False\n",
            " 'permanent wave' False\n",
            " 'pop rock' False\n",
            " 'soft rock' False\n",
            " 'synthpop' False\n",
            "'classic soul' False\n",
            " 'memphis soul' False\n",
            " 'soul' False\n",
            " 'soul blues' False\n",
            " 'southern soul' False\n",
            "'rap latina' False\n",
            " 'spanish electropop' False\n",
            "'candy pop' False\n",
            " 'new wave' False\n",
            " 'new wave pop' False\n",
            " 'permanent wave' False\n",
            " 'power pop' False\n",
            " 'rock' False\n",
            "'rap latina' False\n",
            " 'rap politico' False\n",
            "'contemporary country' False\n",
            " 'country' False\n",
            " 'country dawn' False\n",
            " 'country road' False\n",
            "'spanish indie pop' False\n",
            " 'spanish noise pop' False\n",
            "'spanish synthpop' False\n",
            "'art pop' False\n",
            " 'dance rock' False\n",
            " 'europop' False\n",
            " 'new romantic' False\n",
            " 'new wave' False\n",
            " 'new wave pop' False\n",
            " 'permanent wave' False\n",
            " 'synthpop' False\n",
            "'acoustic punk' False\n",
            " 'alternative rock' False\n",
            " 'anti-folk' False\n",
            " 'pop rock' False\n",
            " 'punk' False\n",
            " 'rock' False\n",
            "'swedish synth' False\n",
            "'spanish indie pop' False\n",
            " 'spanish noise pop' False\n",
            "'spanish indie pop' False\n",
            "'cantautor' False\n",
            " 'latin arena pop' False\n",
            " 'latin pop' False\n",
            " 'mexican pop' False\n",
            " 'rock en espanol' False\n",
            " 'spanish pop' False\n",
            "'alternative dance' False\n",
            " 'electro house' False\n",
            " 'electroclash' False\n",
            " 'electronica' False\n",
            " 'filter house' False\n",
            " 'french indietronica' False\n",
            " 'french techno' False\n",
            " 'new rave' False\n",
            "'cancion melodica' False\n",
            " 'latin pop' False\n",
            " 'pop romantico' False\n",
            "'rap latina' False\n",
            " 'spanish electropop' False\n",
            "'cumbia' False\n",
            " 'latin alternative' False\n",
            " 'latin rock' False\n",
            " 'pop electronico' False\n",
            " 'tropical alternativo' False\n",
            "'dance-punk' False\n",
            " 'queercore' False\n",
            " 'riot grrrl' False\n",
            " False\n",
            "'dance rock' False\n",
            " 'new romantic' False\n",
            " 'new wave' False\n",
            " 'new wave pop' False\n",
            " 'pop rock' False\n",
            " 'rock' False\n",
            " 'synthpop' False\n",
            "'gruperas inmortales' False\n",
            " 'musica mexicana' False\n",
            " 'nu-cumbia' False\n",
            " 'tropical' False\n",
            " False\n",
            "'chicago soul' False\n",
            " 'classic soul' False\n",
            " 'funk' False\n",
            " 'neo soul' False\n",
            " 'quiet storm' False\n",
            " 'soul' False\n",
            "'latin alternative' False\n",
            " 'mexican pop' False\n",
            " 'rock en espanol' False\n",
            " 'veracruz indie' False\n",
            "'spanish electropop' False\n",
            "'cumbia' False\n",
            " 'latin alternative' False\n",
            " 'latin rock' False\n",
            " 'pop electronico' False\n",
            " 'tropical alternativo' False\n",
            "'spanish indie pop' False\n",
            " 'spanish new wave' False\n",
            "'spanish noise pop' False\n",
            "'latin jazz' False\n",
            " 'mambo' False\n",
            " 'musica tradicional cubana' False\n",
            " 'salsa' False\n",
            "'northern soul' False\n",
            " False\n",
            "'disco' False\n",
            "'spanish electronic' False\n",
            "'latin alternative' False\n",
            " 'mexican pop' False\n",
            " 'rock en espanol' False\n",
            " 'veracruz indie' False\n",
            "'british soul' False\n",
            " 'neo soul' False\n",
            "'adult standards' False\n",
            " 'quiet storm' False\n",
            " 'rock-and-roll' False\n",
            " 'soul' False\n",
            "'alternative metal' False\n",
            " 'alternative rock' False\n",
            " 'cyberpunk' False\n",
            " 'electronic rock' False\n",
            " 'industrial' False\n",
            " 'industrial metal' False\n",
            " 'industrial rock' False\n",
            " 'nu metal' False\n",
            " 'rock' False\n",
            "'electroclash' False\n",
            "'spanish synthpop' False\n",
            "'spanish synthpop' False\n",
            "'chilean indie' False\n",
            " 'deep latin alternative' False\n",
            "'granada indie' False\n",
            " False\n",
            "'cantautor' False\n",
            " 'rock en espanol' False\n",
            " 'rockabilly en espanol' False\n",
            " 'spanish new wave' False\n",
            " 'spanish pop' False\n",
            " 'spanish rockabilly' False\n",
            "'art pop' False\n",
            " 'dance rock' False\n",
            " 'europop' False\n",
            " 'new romantic' False\n",
            " 'new wave' False\n",
            " 'new wave pop' False\n",
            " 'permanent wave' False\n",
            " 'synthpop' False\n",
            "'cumbia' False\n",
            " 'latin alternative' False\n",
            " 'latin rock' False\n",
            " 'pop electronico' False\n",
            " 'tropical alternativo' False\n",
            "'art punk' False\n",
            " 'art rock' False\n",
            " 'dance rock' False\n",
            " 'funk rock' False\n",
            " 'new wave' False\n",
            " 'permanent wave' False\n",
            " 'post-punk' False\n",
            " 'rock' False\n",
            " 'zolo' False\n",
            "'granada indie' False\n",
            "'rap latina' False\n",
            " 'rap politico' False\n",
            "'dance pop' False\n",
            " 'pop' False\n",
            " False\n",
            "'british alternative rock' False\n",
            " 'experimental indie rock' False\n",
            " 'indie rock' False\n",
            "'spanish indie pop' False\n",
            " 'spanish noise pop' False\n",
            "'cumbia' False\n",
            " 'latin alternative' False\n",
            " 'latin rock' False\n",
            " 'pop electronico' False\n",
            " 'tropical alternativo' False\n",
            "'dance rock' False\n",
            " 'new romantic' False\n",
            " 'new wave' False\n",
            " 'new wave pop' False\n",
            " 'pop rock' False\n",
            " 'rock' False\n",
            " 'synthpop' False\n",
            "'spanish noise pop' False\n",
            "'deep new americana' False\n",
            " 'manitoba indie' False\n",
            "'rap latina' False\n",
            " 'spanish electropop' False\n",
            "'alternative dance' False\n",
            " 'electro house' False\n",
            " 'electroclash' False\n",
            " 'electronica' False\n",
            " 'filter house' False\n",
            " 'french indietronica' False\n",
            " 'french techno' False\n",
            " 'new rave' False\n",
            "'atl hip hop' False\n",
            " 'neo soul' False\n",
            "'spanish synthpop' False\n",
            "'dance-punk' False\n",
            " 'queercore' False\n",
            " 'riot grrrl' False\n",
            "'britpop' False\n",
            " 'lancashire indie' False\n",
            " 'piano rock' False\n",
            " 'pop rock' False\n",
            "'acoustic punk' False\n",
            " 'alternative rock' False\n",
            " 'anti-folk' False\n",
            " 'pop rock' False\n",
            " 'punk' False\n",
            " 'rock' False\n",
            "'latin jazz' False\n",
            " 'mambo' False\n",
            " 'musica tradicional cubana' False\n",
            " 'salsa' False\n",
            "'arkansas country' False\n",
            " 'outlaw country' False\n",
            "'spanish electropop' False\n",
            "'spanish indie pop' False\n",
            " False\n",
            "'latin alternative' False\n",
            " 'mexican pop' False\n",
            " 'rock en espanol' False\n",
            " 'veracruz indie' False\n",
            "'eurodance' False\n",
            " 'europop' False\n",
            " 'hip house' False\n",
            "'spanish synthpop' False\n",
            "'jazz blues' False\n",
            " 'soul' False\n",
            " 'soul jazz' False\n",
            " 'torch song' False\n",
            " 'vocal jazz' False\n",
            "'electroclash' False\n",
            "'album rock' False\n",
            " 'classic rock' False\n",
            " 'hard rock' False\n",
            " 'mellow gold' False\n",
            " 'rock' False\n",
            " 'soft rock' False\n",
            "'new wave pop' False\n",
            " 'pop rock' False\n",
            "'spanish indie pop' False\n",
            " 'spanish new wave' False\n",
            "'new romantic' False\n",
            " 'new wave' False\n",
            " 'new wave pop' False\n",
            " 'permanent wave' False\n",
            " 'pop rock' False\n",
            " 'soft rock' False\n",
            " 'synthpop' False\n",
            "'hi-nrg' False\n",
            " 'new romantic' False\n",
            " 'new wave' False\n",
            " 'new wave pop' False\n",
            " 'sophisti-pop' False\n",
            " 'synthpop' False\n",
            "'alternative dance' False\n",
            " 'electropop' False\n",
            " 'new rave' False\n",
            " 'olympia wa indie' False\n",
            " False\n",
            "'baroque pop' False\n",
            " 'canadian indie' False\n",
            " 'indie rock' False\n",
            " 'modern rock' False\n",
            " 'new rave' False\n",
            " 'permanent wave' False\n",
            " 'quebec indie' False\n",
            " 'rock' False\n",
            "'beatlesque' False\n",
            " 'british invasion' False\n",
            " 'classic rock' False\n",
            " 'merseybeat' False\n",
            " 'psychedelic rock' False\n",
            " 'rock' False\n",
            "'bboy' False\n",
            " 'instrumental funk' False\n",
            "'rap latina' False\n",
            " 'spanish electropop' False\n",
            "'spanish indie pop' False\n",
            " 'spanish noise pop' False\n",
            "'disco' False\n",
            "'spanish synthpop' False\n"
          ]
        },
        {
          "name": "stderr",
          "output_type": "stream",
          "text": [
            "C:\\Users\\yporq\\AppData\\Local\\Temp\\ipykernel_37604\\343259822.py:3: SettingWithCopyWarning:\n",
            "\n",
            "\n",
            "A value is trying to be set on a copy of a slice from a DataFrame.\n",
            "Try using .loc[row_indexer,col_indexer] = value instead\n",
            "\n",
            "See the caveats in the documentation: https://pandas.pydata.org/pandas-docs/stable/user_guide/indexing.html#returning-a-view-versus-a-copy\n",
            "\n"
          ]
        },
        {
          "data": {
            "text/plain": [
              "[]"
            ]
          },
          "execution_count": 207,
          "metadata": {},
          "output_type": "execute_result"
        }
      ],
      "source": [
        "import numpy as np\n",
        "aCancionesPopulares = []\n",
        "generos_populares_comunes['chilean indie']=5\n",
        "for i,row in dfPersonal[\"genre\"].items():    \n",
        "    row.replace(\"[\", \"\")\n",
        "    row.replace(\"]\", \"\")    \n",
        "    spl = row.split(\",\")\n",
        "    for j in spl:\n",
        "        res = j.replace(\"[\", \"\")\n",
        "        res = res.replace(\"]\", \"\")\n",
        "        print(res, res in generos_populares_comunes.columns)\n",
        "        if res in generos_populares_comunes.columns:\n",
        "            print(j)\n",
        "            aCancionesPopulares.append(row)\n",
        "\n",
        "aCancionesPopulares\n",
        "    \n",
        "    \n"
      ]
    },
    {
      "cell_type": "code",
      "execution_count": null,
      "metadata": {},
      "outputs": [],
      "source": []
    }
  ],
  "metadata": {
    "colab": {
      "collapsed_sections": [],
      "include_colab_link": true,
      "name": "Rede de artistas relacionados Spotify -> Gephi",
      "provenance": []
    },
    "kernelspec": {
      "display_name": "Python 3",
      "language": "python",
      "name": "python3"
    },
    "language_info": {
      "codemirror_mode": {
        "name": "ipython",
        "version": 3
      },
      "file_extension": ".py",
      "mimetype": "text/x-python",
      "name": "python",
      "nbconvert_exporter": "python",
      "pygments_lexer": "ipython3",
      "version": "3.9.2"
    },
    "vscode": {
      "interpreter": {
        "hash": "81794d4967e6c3204c66dcd87b604927b115b27c00565d3d43f05ba2f3a2cb0d"
      }
    }
  },
  "nbformat": 4,
  "nbformat_minor": 0
}
